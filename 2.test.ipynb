{
 "cells": [
  {
   "cell_type": "code",
   "execution_count": 1,
   "metadata": {},
   "outputs": [
    {
     "name": "stderr",
     "output_type": "stream",
     "text": [
      "C:\\Users\\kim_h\\AppData\\Local\\Temp\\ipykernel_12208\\3463511841.py:3: TqdmWarning: IProgress not found. Please update jupyter and ipywidgets. See https://ipywidgets.readthedocs.io/en/stable/user_install.html\n",
      "  from tqdm.autonotebook import tqdm\n"
     ]
    }
   ],
   "source": [
    "\n",
    "import string\n",
    "import pandas as pd \n",
    "from tqdm.autonotebook import tqdm\n",
    "\n",
    "from utils.RagPipeline import Ragpipeline\n",
    "\n",
    "from utils.utils import normalize_path"
   ]
  },
  {
   "cell_type": "code",
   "execution_count": 2,
   "metadata": {},
   "outputs": [
    {
     "data": {
      "text/html": [
       "<div>\n",
       "<style scoped>\n",
       "    .dataframe tbody tr th:only-of-type {\n",
       "        vertical-align: middle;\n",
       "    }\n",
       "\n",
       "    .dataframe tbody tr th {\n",
       "        vertical-align: top;\n",
       "    }\n",
       "\n",
       "    .dataframe thead th {\n",
       "        text-align: right;\n",
       "    }\n",
       "</style>\n",
       "<table border=\"1\" class=\"dataframe\">\n",
       "  <thead>\n",
       "    <tr style=\"text-align: right;\">\n",
       "      <th></th>\n",
       "      <th>SAMPLE_ID</th>\n",
       "      <th>Source</th>\n",
       "      <th>Source_path</th>\n",
       "      <th>Question</th>\n",
       "    </tr>\n",
       "  </thead>\n",
       "  <tbody>\n",
       "    <tr>\n",
       "      <th>0</th>\n",
       "      <td>TEST_000</td>\n",
       "      <td>중소벤처기업부_혁신창업사업화자금(융자)</td>\n",
       "      <td>./test_source/중소벤처기업부_혁신창업사업화자금(융자).pdf</td>\n",
       "      <td>2022년 혁신창업사업화자금(융자)의 예산은 얼마인가요?</td>\n",
       "    </tr>\n",
       "    <tr>\n",
       "      <th>1</th>\n",
       "      <td>TEST_001</td>\n",
       "      <td>중소벤처기업부_혁신창업사업화자금(융자)</td>\n",
       "      <td>./test_source/중소벤처기업부_혁신창업사업화자금(융자).pdf</td>\n",
       "      <td>중소벤처기업부의 혁신창업사업화자금(융자) 사업목적은 무엇인가요?</td>\n",
       "    </tr>\n",
       "    <tr>\n",
       "      <th>2</th>\n",
       "      <td>TEST_002</td>\n",
       "      <td>중소벤처기업부_혁신창업사업화자금(융자)</td>\n",
       "      <td>./test_source/중소벤처기업부_혁신창업사업화자금(융자).pdf</td>\n",
       "      <td>중소벤처기업부의 혁신창업사업화자금(융자) 사업근거는 어떤 법률에 근거하고 있나요?</td>\n",
       "    </tr>\n",
       "    <tr>\n",
       "      <th>3</th>\n",
       "      <td>TEST_003</td>\n",
       "      <td>중소벤처기업부_혁신창업사업화자금(융자)</td>\n",
       "      <td>./test_source/중소벤처기업부_혁신창업사업화자금(융자).pdf</td>\n",
       "      <td>2010년에 신규 지원된 혁신창업사업화자금은 무엇인가요?</td>\n",
       "    </tr>\n",
       "    <tr>\n",
       "      <th>4</th>\n",
       "      <td>TEST_004</td>\n",
       "      <td>중소벤처기업부_혁신창업사업화자금(융자)</td>\n",
       "      <td>./test_source/중소벤처기업부_혁신창업사업화자금(융자).pdf</td>\n",
       "      <td>혁신창업사업화자금 중 2020년에 신규 지원된 자금은 무엇인가요?</td>\n",
       "    </tr>\n",
       "  </tbody>\n",
       "</table>\n",
       "</div>"
      ],
      "text/plain": [
       "  SAMPLE_ID                 Source                              Source_path  \\\n",
       "0  TEST_000  중소벤처기업부_혁신창업사업화자금(융자)  ./test_source/중소벤처기업부_혁신창업사업화자금(융자).pdf   \n",
       "1  TEST_001  중소벤처기업부_혁신창업사업화자금(융자)  ./test_source/중소벤처기업부_혁신창업사업화자금(융자).pdf   \n",
       "2  TEST_002  중소벤처기업부_혁신창업사업화자금(융자)  ./test_source/중소벤처기업부_혁신창업사업화자금(융자).pdf   \n",
       "3  TEST_003  중소벤처기업부_혁신창업사업화자금(융자)  ./test_source/중소벤처기업부_혁신창업사업화자금(융자).pdf   \n",
       "4  TEST_004  중소벤처기업부_혁신창업사업화자금(융자)  ./test_source/중소벤처기업부_혁신창업사업화자금(융자).pdf   \n",
       "\n",
       "                                        Question  \n",
       "0                2022년 혁신창업사업화자금(융자)의 예산은 얼마인가요?  \n",
       "1            중소벤처기업부의 혁신창업사업화자금(융자) 사업목적은 무엇인가요?  \n",
       "2  중소벤처기업부의 혁신창업사업화자금(융자) 사업근거는 어떤 법률에 근거하고 있나요?  \n",
       "3                2010년에 신규 지원된 혁신창업사업화자금은 무엇인가요?  \n",
       "4           혁신창업사업화자금 중 2020년에 신규 지원된 자금은 무엇인가요?  "
      ]
     },
     "execution_count": 2,
     "metadata": {},
     "output_type": "execute_result"
    }
   ],
   "source": [
    "# 제출용 샘플 파일 로드\n",
    "submit_df = pd.read_csv(\"../open/sample_submission.csv\")\n",
    "\n",
    "df = pd.read_csv('../open/test.csv')\n",
    "base_directory = '../open' # Your Base Directory\n",
    "\n",
    "df.head()"
   ]
  },
  {
   "cell_type": "code",
   "execution_count": 3,
   "metadata": {},
   "outputs": [
    {
     "data": {
      "text/plain": [
       "{'A': '중소벤처기업부_혁신창업사업화자금(융자)',\n",
       " 'B': '보건복지부_부모급여(영아수당) 지원',\n",
       " 'C': '보건복지부_노인장기요양보험 사업운영',\n",
       " 'D': '산업통상자원부_에너지바우처',\n",
       " 'E': '국토교통부_행복주택출자',\n",
       " 'F': '「FIS 이슈 & 포커스」 22-4호 《중앙-지방 간 재정조정제도》',\n",
       " 'G': '「FIS 이슈 & 포커스」 23-2호 《핵심재정사업 성과관리》',\n",
       " 'H': '「FIS 이슈&포커스」 22-2호 《재정성과관리제도》',\n",
       " 'I': '「FIS 이슈 & 포커스」(신규) 통권 제1호 《우발부채》'}"
      ]
     },
     "execution_count": 3,
     "metadata": {},
     "output_type": "execute_result"
    }
   ],
   "source": [
    "source_list = list(df['Source'].unique())\n",
    "# 알파벳 리스트\n",
    "alphabet = list(string.ascii_uppercase)\n",
    "\n",
    "# 딕셔너리로 파일명과 알파벳 매핑\n",
    "file_mapping = {alphabet[i]: source_list[i] for i in range(len(source_list))}\n",
    "\n",
    "reversed_file_mapping = {value: key for key, value in file_mapping.items()}\n",
    "\n",
    "file_mapping"
   ]
  },
  {
   "cell_type": "code",
   "execution_count": 4,
   "metadata": {},
   "outputs": [
    {
     "name": "stderr",
     "output_type": "stream",
     "text": [
      "Answering Questions (1/9): 100%|██████████| 9/9 [07:39<00:00, 51.08s/it]\n",
      "Answering Questions (2/9): 100%|██████████| 6/6 [05:44<00:00, 57.38s/it]\n",
      "Answering Questions (3/9): 100%|██████████| 8/8 [11:40<00:00, 87.61s/it]\n",
      "Answering Questions (4/9): 100%|██████████| 15/15 [19:07<00:00, 76.50s/it]\n",
      "Answering Questions (5/9): 100%|██████████| 5/5 [06:11<00:00, 74.33s/it]\n",
      "Answering Questions (6/9): 100%|██████████| 7/7 [11:57<00:00, 102.45s/it]\n",
      "Answering Questions (7/9): 100%|██████████| 7/7 [10:19<00:00, 88.47s/it]\n",
      "Answering Questions (8/9): 100%|██████████| 21/21 [32:49<00:00, 93.81s/it] \n",
      "Answering Questions (9/9): 100%|██████████| 20/20 [29:25<00:00, 88.30s/it]\n"
     ]
    }
   ],
   "source": [
    "# 대략 40분 걸림 \n",
    "from config import config \n",
    "\n",
    "for i, source in enumerate(source_list):\n",
    "    \n",
    "    db_path = f'data/{reversed_file_mapping[source]}'\n",
    "    pipeline = Ragpipeline(db_path, config)\n",
    "    \n",
    "    target_df = df[df['Source'] == source]\n",
    "    \n",
    "    for _, row in tqdm(target_df.iterrows(), total=len(target_df), desc=f\"Answering Questions ({i+1}/{len(source_list)})\"):\n",
    "        # 소스 문자열 정규화\n",
    "        source = normalize_path(row['Source'])\n",
    "        # 질문 \n",
    "        question = row['Question']\n",
    "        \n",
    "        # 대답\n",
    "        full_response = pipeline.answer_generation(question)\n",
    "        first_line_response = full_response.split(\"\\n\")[0]\n",
    "        \n",
    "        # 결과 저장\n",
    "        submit_df.loc[submit_df['SAMPLE_ID'] == row['SAMPLE_ID'], 'Answer'] = first_line_response\n",
    "        "
   ]
  },
  {
   "cell_type": "code",
   "execution_count": 5,
   "metadata": {},
   "outputs": [
    {
     "data": {
      "text/html": [
       "<div>\n",
       "<style scoped>\n",
       "    .dataframe tbody tr th:only-of-type {\n",
       "        vertical-align: middle;\n",
       "    }\n",
       "\n",
       "    .dataframe tbody tr th {\n",
       "        vertical-align: top;\n",
       "    }\n",
       "\n",
       "    .dataframe thead th {\n",
       "        text-align: right;\n",
       "    }\n",
       "</style>\n",
       "<table border=\"1\" class=\"dataframe\">\n",
       "  <thead>\n",
       "    <tr style=\"text-align: right;\">\n",
       "      <th></th>\n",
       "      <th>SAMPLE_ID</th>\n",
       "      <th>Answer</th>\n",
       "    </tr>\n",
       "  </thead>\n",
       "  <tbody>\n",
       "    <tr>\n",
       "      <th>0</th>\n",
       "      <td>TEST_000</td>\n",
       "      <td>2022년 혁신창업사업화자금(융자의) 예산은 2,300,000백만원입니다.</td>\n",
       "    </tr>\n",
       "    <tr>\n",
       "      <th>1</th>\n",
       "      <td>TEST_001</td>\n",
       "      <td>중소벤처기업부의 혁신창업사업화자금(융자)의 사업목적은 기술력과 사업성이 우수하고 미...</td>\n",
       "    </tr>\n",
       "    <tr>\n",
       "      <th>2</th>\n",
       "      <td>TEST_002</td>\n",
       "      <td>중소기업진흥에 관한 법률 제66조, 제67조, 제74조 및 중소기업창업지원법 제35...</td>\n",
       "    </tr>\n",
       "    <tr>\n",
       "      <th>3</th>\n",
       "      <td>TEST_003</td>\n",
       "      <td>2010년에 신규 지원된 혁신창업사업화자금에 대한 정보는 없습니다.</td>\n",
       "    </tr>\n",
       "    <tr>\n",
       "      <th>4</th>\n",
       "      <td>TEST_004</td>\n",
       "      <td>미래기술육성자금, 고성장촉진자금이 신규 지원되었습니다.</td>\n",
       "    </tr>\n",
       "    <tr>\n",
       "      <th>...</th>\n",
       "      <td>...</td>\n",
       "      <td>...</td>\n",
       "    </tr>\n",
       "    <tr>\n",
       "      <th>93</th>\n",
       "      <td>TEST_093</td>\n",
       "      <td>공적보증채무는 재정정책 및 분석에서 중요하며, 보증인이 기타 공공부문과 민간부문 단...</td>\n",
       "    </tr>\n",
       "    <tr>\n",
       "      <th>94</th>\n",
       "      <td>TEST_094</td>\n",
       "      <td>미래사회보장급여에 대한 순의무란 계약상의 부채가 아닌 미래 발생 비용으로 여겨지는 ...</td>\n",
       "    </tr>\n",
       "    <tr>\n",
       "      <th>95</th>\n",
       "      <td>TEST_095</td>\n",
       "      <td>국가회계기준과 지방자치단체 회계기준에서 우발부채에 대한 용어 및 회계처리가 다릅니다...</td>\n",
       "    </tr>\n",
       "    <tr>\n",
       "      <th>96</th>\n",
       "      <td>TEST_096</td>\n",
       "      <td>우발부채는 미래의 다양한 의제의무를 포괄하는 부채를 의미한다. 우발부채 관리가 중요...</td>\n",
       "    </tr>\n",
       "    <tr>\n",
       "      <th>97</th>\n",
       "      <td>TEST_097</td>\n",
       "      <td>보증은 한 당사자가 다른 당사자의 미지급에 대한 위험을 부담하는 확약입니다. 재정상...</td>\n",
       "    </tr>\n",
       "  </tbody>\n",
       "</table>\n",
       "<p>98 rows × 2 columns</p>\n",
       "</div>"
      ],
      "text/plain": [
       "   SAMPLE_ID                                             Answer\n",
       "0   TEST_000          2022년 혁신창업사업화자금(융자의) 예산은 2,300,000백만원입니다.\n",
       "1   TEST_001  중소벤처기업부의 혁신창업사업화자금(융자)의 사업목적은 기술력과 사업성이 우수하고 미...\n",
       "2   TEST_002  중소기업진흥에 관한 법률 제66조, 제67조, 제74조 및 중소기업창업지원법 제35...\n",
       "3   TEST_003              2010년에 신규 지원된 혁신창업사업화자금에 대한 정보는 없습니다.\n",
       "4   TEST_004                     미래기술육성자금, 고성장촉진자금이 신규 지원되었습니다.\n",
       "..       ...                                                ...\n",
       "93  TEST_093  공적보증채무는 재정정책 및 분석에서 중요하며, 보증인이 기타 공공부문과 민간부문 단...\n",
       "94  TEST_094  미래사회보장급여에 대한 순의무란 계약상의 부채가 아닌 미래 발생 비용으로 여겨지는 ...\n",
       "95  TEST_095  국가회계기준과 지방자치단체 회계기준에서 우발부채에 대한 용어 및 회계처리가 다릅니다...\n",
       "96  TEST_096  우발부채는 미래의 다양한 의제의무를 포괄하는 부채를 의미한다. 우발부채 관리가 중요...\n",
       "97  TEST_097  보증은 한 당사자가 다른 당사자의 미지급에 대한 위험을 부담하는 확약입니다. 재정상...\n",
       "\n",
       "[98 rows x 2 columns]"
      ]
     },
     "execution_count": 5,
     "metadata": {},
     "output_type": "execute_result"
    }
   ],
   "source": [
    "submit_df"
   ]
  },
  {
   "cell_type": "code",
   "execution_count": 6,
   "metadata": {},
   "outputs": [],
   "source": [
    "import os \n",
    "save_path = './results'\n",
    "os.makedirs(save_path, exist_ok=True)"
   ]
  },
  {
   "cell_type": "code",
   "execution_count": 7,
   "metadata": {},
   "outputs": [],
   "source": [
    "# 0.6428 \n",
    "save_file_name = '실험_0820_best_setting_1_intfloat_multilingual_PyPDFLoader.csv'\n",
    "# "
   ]
  },
  {
   "cell_type": "code",
   "execution_count": 8,
   "metadata": {},
   "outputs": [],
   "source": [
    "submit_df.to_csv(f\"./{save_path}/{save_file_name}\", encoding='UTF-8-sig', index=False)"
   ]
  },
  {
   "cell_type": "markdown",
   "metadata": {},
   "source": [
    "## 연속 실험"
   ]
  },
  {
   "cell_type": "code",
   "execution_count": 4,
   "metadata": {},
   "outputs": [],
   "source": [
    "import os \n",
    "save_path = './results'\n",
    "os.makedirs(save_path, exist_ok=True)"
   ]
  },
  {
   "cell_type": "code",
   "execution_count": 5,
   "metadata": {},
   "outputs": [],
   "source": [
    "\n",
    "def experiments(config):\n",
    "\n",
    "    for i, source in enumerate(source_list):\n",
    "        root_dir = config['save_data_path']\n",
    "        db_path = f'{root_dir}/{reversed_file_mapping[source]}'\n",
    "        pipeline = Ragpipeline(db_path, config)\n",
    "        \n",
    "        target_df = df[df['Source'] == source]\n",
    "        \n",
    "        for _, row in tqdm(target_df.iterrows(), total=len(target_df), desc=f\"Answering Questions ({i+1}/{len(source_list)})\"):\n",
    "            # 소스 문자열 정규화\n",
    "            source = normalize_path(row['Source'])\n",
    "            # 질문 \n",
    "            question = row['Question']\n",
    "            \n",
    "            # 대답\n",
    "            full_response = pipeline.answer_generation(question)\n",
    "            first_line_response = full_response.split(\"\\n\")[0]\n",
    "            \n",
    "            # 결과 저장\n",
    "            submit_df.loc[submit_df['SAMPLE_ID'] == row['SAMPLE_ID'], 'Answer'] = first_line_response\n",
    "            \n",
    "    return submit_df"
   ]
  },
  {
   "cell_type": "code",
   "execution_count": 6,
   "metadata": {},
   "outputs": [],
   "source": [
    "pdf_loaders = ['pymupdf4llm', 'fitz', 'PyPDFLoader', 'PyMuPDFLoader', 'PDFPlumberLoader']"
   ]
  },
  {
   "cell_type": "code",
   "execution_count": 7,
   "metadata": {},
   "outputs": [],
   "source": [
    "config = {\n",
    "    \"llm_predictor\": {\n",
    "        \"model_name\": \"llama3.1-dacon-Q8:latest\",   # llama3.1-dacon-Q8:latest,  llama3.1\n",
    "        \"temperature\": 0\n",
    "    },\n",
    "    # \"intfloat/multilingual-e5-small\", intfloat/multilingual-e5-base, intfloat/multilingual-e5-large\n",
    "    # BAAI/bge-m3\n",
    "    \"embed_model\": \"intfloat/multilingual-e5-large\",  \n",
    "    \n",
    "    # pymupdf4llm, fitz, PyPDFLoader, PyMuPDFLoader, UnstructuredPDFLoader, PDFPlumberLoader, PyPDFDirectoryLoader\n",
    "    \"pdf_loader\": \"PyMuPDFLoader\", \n",
    "    \n",
    "    \"text_split\":{\n",
    "        'chunk_size': 512,\n",
    "        'chunk_overlap': 32\n",
    "    },\n",
    "    \n",
    "    \"save_data_path\": './data_PyMuPDFLoader_512_32',\n",
    "    \n",
    "    \"search_type\": \"mmr\",           # \"mmr\"  similarity   similarity_score_threshold\n",
    "    'search_kwargs_k': 3,           # 유사도 기반 상위 k개\n",
    "    'search_kwargs_lambda': 0.5,    # 0~1, 0에 가까울수록 다양성, 1에 가까울수록 관련성\n",
    "    'score_threshold': 0.4,         # 0~1, 쿼리 문장과 최소한 0.x 이상의 유사도를 가진 문서만\n",
    "    \n",
    "    'bm25_k' : 3,                   # 검색어 기반 상위 k개\n",
    "    \"ensemble_search_type\": \"mmr\",  # 앙상블 서칭 타입\n",
    "    \"ensemble_weight\": [0.5,0.5],   # bm25와 vector 가중치\n",
    "\n",
    "\n",
    "}"
   ]
  },
  {
   "cell_type": "code",
   "execution_count": 8,
   "metadata": {},
   "outputs": [
    {
     "name": "stdout",
     "output_type": "stream",
     "text": [
      "./results\n",
      "pymupdf4llm\n"
     ]
    },
    {
     "name": "stderr",
     "output_type": "stream",
     "text": [
      "Answering Questions (1/9): 100%|██████████| 9/9 [07:51<00:00, 52.40s/it]\n",
      "Answering Questions (2/9): 100%|██████████| 6/6 [05:33<00:00, 55.66s/it]\n",
      "Answering Questions (3/9): 100%|██████████| 8/8 [11:06<00:00, 83.36s/it]\n",
      "Answering Questions (4/9): 100%|██████████| 15/15 [18:04<00:00, 72.30s/it]\n",
      "Answering Questions (5/9): 100%|██████████| 5/5 [05:57<00:00, 71.50s/it]\n",
      "Answering Questions (6/9): 100%|██████████| 7/7 [11:25<00:00, 97.93s/it] \n",
      "Answering Questions (7/9): 100%|██████████| 7/7 [10:17<00:00, 88.15s/it]\n",
      "Answering Questions (8/9): 100%|██████████| 21/21 [30:34<00:00, 87.36s/it]\n",
      "Answering Questions (9/9): 100%|██████████| 20/20 [28:39<00:00, 85.97s/it]\n"
     ]
    },
    {
     "name": "stdout",
     "output_type": "stream",
     "text": [
      "fitz\n"
     ]
    },
    {
     "name": "stderr",
     "output_type": "stream",
     "text": [
      "Answering Questions (1/9): 100%|██████████| 9/9 [10:56<00:00, 72.91s/it] \n",
      "Answering Questions (2/9): 100%|██████████| 6/6 [07:47<00:00, 77.99s/it] \n",
      "Answering Questions (3/9): 100%|██████████| 8/8 [14:50<00:00, 111.25s/it]\n",
      "Answering Questions (4/9): 100%|██████████| 15/15 [22:21<00:00, 89.46s/it]\n",
      "Answering Questions (5/9): 100%|██████████| 5/5 [05:35<00:00, 67.18s/it]\n",
      "Answering Questions (6/9): 100%|██████████| 7/7 [11:16<00:00, 96.58s/it]\n",
      "Answering Questions (7/9): 100%|██████████| 7/7 [10:24<00:00, 89.24s/it]\n",
      "Answering Questions (8/9): 100%|██████████| 21/21 [33:21<00:00, 95.31s/it] \n",
      "Answering Questions (9/9): 100%|██████████| 20/20 [31:49<00:00, 95.47s/it] \n"
     ]
    },
    {
     "name": "stdout",
     "output_type": "stream",
     "text": [
      "PyPDFLoader\n"
     ]
    },
    {
     "name": "stderr",
     "output_type": "stream",
     "text": [
      "Answering Questions (1/9):  33%|███▎      | 3/9 [04:10<08:16, 82.74s/it]"
     ]
    }
   ],
   "source": [
    "print(save_path)\n",
    "for pdf_loader in pdf_loaders:\n",
    "    print(pdf_loader)\n",
    "    config['pdf_loader'] = pdf_loader\n",
    "    config['save_data_path'] = f'./data_{pdf_loader}_512_32'\n",
    "    save_file_name = f'best_setting_intfloat_multilingual_{pdf_loader}.csv'\n",
    "    \n",
    "    submit_df = experiments(config)\n",
    "    submit_df.to_csv(f\"./{save_path}/{save_file_name}\", encoding='UTF-8-sig', index=False)"
   ]
  },
  {
   "cell_type": "code",
   "execution_count": null,
   "metadata": {},
   "outputs": [],
   "source": []
  }
 ],
 "metadata": {
  "kernelspec": {
   "display_name": "final",
   "language": "python",
   "name": "python3"
  },
  "language_info": {
   "codemirror_mode": {
    "name": "ipython",
    "version": 3
   },
   "file_extension": ".py",
   "mimetype": "text/x-python",
   "name": "python",
   "nbconvert_exporter": "python",
   "pygments_lexer": "ipython3",
   "version": "3.11.9"
  }
 },
 "nbformat": 4,
 "nbformat_minor": 2
}

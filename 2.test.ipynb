{
 "cells": [
  {
   "cell_type": "code",
   "execution_count": 1,
   "metadata": {},
   "outputs": [
    {
     "name": "stderr",
     "output_type": "stream",
     "text": [
      "C:\\Users\\kim_h\\AppData\\Local\\Temp\\ipykernel_30232\\3463511841.py:3: TqdmWarning: IProgress not found. Please update jupyter and ipywidgets. See https://ipywidgets.readthedocs.io/en/stable/user_install.html\n",
      "  from tqdm.autonotebook import tqdm\n"
     ]
    }
   ],
   "source": [
    "\n",
    "import string\n",
    "import pandas as pd \n",
    "from tqdm.autonotebook import tqdm\n",
    "\n",
    "from utils.RagPipeline import Ragpipeline\n",
    "\n",
    "from utils.utils import normalize_path"
   ]
  },
  {
   "cell_type": "code",
   "execution_count": 2,
   "metadata": {},
   "outputs": [
    {
     "data": {
      "text/html": [
       "<div>\n",
       "<style scoped>\n",
       "    .dataframe tbody tr th:only-of-type {\n",
       "        vertical-align: middle;\n",
       "    }\n",
       "\n",
       "    .dataframe tbody tr th {\n",
       "        vertical-align: top;\n",
       "    }\n",
       "\n",
       "    .dataframe thead th {\n",
       "        text-align: right;\n",
       "    }\n",
       "</style>\n",
       "<table border=\"1\" class=\"dataframe\">\n",
       "  <thead>\n",
       "    <tr style=\"text-align: right;\">\n",
       "      <th></th>\n",
       "      <th>SAMPLE_ID</th>\n",
       "      <th>Source</th>\n",
       "      <th>Source_path</th>\n",
       "      <th>Question</th>\n",
       "    </tr>\n",
       "  </thead>\n",
       "  <tbody>\n",
       "    <tr>\n",
       "      <th>0</th>\n",
       "      <td>TEST_000</td>\n",
       "      <td>중소벤처기업부_혁신창업사업화자금(융자)</td>\n",
       "      <td>./test_source/중소벤처기업부_혁신창업사업화자금(융자).pdf</td>\n",
       "      <td>2022년 혁신창업사업화자금(융자)의 예산은 얼마인가요?</td>\n",
       "    </tr>\n",
       "    <tr>\n",
       "      <th>1</th>\n",
       "      <td>TEST_001</td>\n",
       "      <td>중소벤처기업부_혁신창업사업화자금(융자)</td>\n",
       "      <td>./test_source/중소벤처기업부_혁신창업사업화자금(융자).pdf</td>\n",
       "      <td>중소벤처기업부의 혁신창업사업화자금(융자) 사업목적은 무엇인가요?</td>\n",
       "    </tr>\n",
       "    <tr>\n",
       "      <th>2</th>\n",
       "      <td>TEST_002</td>\n",
       "      <td>중소벤처기업부_혁신창업사업화자금(융자)</td>\n",
       "      <td>./test_source/중소벤처기업부_혁신창업사업화자금(융자).pdf</td>\n",
       "      <td>중소벤처기업부의 혁신창업사업화자금(융자) 사업근거는 어떤 법률에 근거하고 있나요?</td>\n",
       "    </tr>\n",
       "    <tr>\n",
       "      <th>3</th>\n",
       "      <td>TEST_003</td>\n",
       "      <td>중소벤처기업부_혁신창업사업화자금(융자)</td>\n",
       "      <td>./test_source/중소벤처기업부_혁신창업사업화자금(융자).pdf</td>\n",
       "      <td>2010년에 신규 지원된 혁신창업사업화자금은 무엇인가요?</td>\n",
       "    </tr>\n",
       "    <tr>\n",
       "      <th>4</th>\n",
       "      <td>TEST_004</td>\n",
       "      <td>중소벤처기업부_혁신창업사업화자금(융자)</td>\n",
       "      <td>./test_source/중소벤처기업부_혁신창업사업화자금(융자).pdf</td>\n",
       "      <td>혁신창업사업화자금 중 2020년에 신규 지원된 자금은 무엇인가요?</td>\n",
       "    </tr>\n",
       "  </tbody>\n",
       "</table>\n",
       "</div>"
      ],
      "text/plain": [
       "  SAMPLE_ID                 Source                              Source_path  \\\n",
       "0  TEST_000  중소벤처기업부_혁신창업사업화자금(융자)  ./test_source/중소벤처기업부_혁신창업사업화자금(융자).pdf   \n",
       "1  TEST_001  중소벤처기업부_혁신창업사업화자금(융자)  ./test_source/중소벤처기업부_혁신창업사업화자금(융자).pdf   \n",
       "2  TEST_002  중소벤처기업부_혁신창업사업화자금(융자)  ./test_source/중소벤처기업부_혁신창업사업화자금(융자).pdf   \n",
       "3  TEST_003  중소벤처기업부_혁신창업사업화자금(융자)  ./test_source/중소벤처기업부_혁신창업사업화자금(융자).pdf   \n",
       "4  TEST_004  중소벤처기업부_혁신창업사업화자금(융자)  ./test_source/중소벤처기업부_혁신창업사업화자금(융자).pdf   \n",
       "\n",
       "                                        Question  \n",
       "0                2022년 혁신창업사업화자금(융자)의 예산은 얼마인가요?  \n",
       "1            중소벤처기업부의 혁신창업사업화자금(융자) 사업목적은 무엇인가요?  \n",
       "2  중소벤처기업부의 혁신창업사업화자금(융자) 사업근거는 어떤 법률에 근거하고 있나요?  \n",
       "3                2010년에 신규 지원된 혁신창업사업화자금은 무엇인가요?  \n",
       "4           혁신창업사업화자금 중 2020년에 신규 지원된 자금은 무엇인가요?  "
      ]
     },
     "execution_count": 2,
     "metadata": {},
     "output_type": "execute_result"
    }
   ],
   "source": [
    "# 제출용 샘플 파일 로드\n",
    "submit_df = pd.read_csv(\"../open/sample_submission.csv\")\n",
    "\n",
    "df = pd.read_csv('../open/test.csv')\n",
    "base_directory = '../open' # Your Base Directory\n",
    "\n",
    "df.head()"
   ]
  },
  {
   "cell_type": "code",
   "execution_count": 7,
   "metadata": {},
   "outputs": [
    {
     "data": {
      "text/plain": [
       "{'A': '중소벤처기업부_혁신창업사업화자금(융자)',\n",
       " 'B': '보건복지부_부모급여(영아수당) 지원',\n",
       " 'C': '보건복지부_노인장기요양보험 사업운영',\n",
       " 'D': '산업통상자원부_에너지바우처',\n",
       " 'E': '국토교통부_행복주택출자',\n",
       " 'F': '「FIS 이슈 & 포커스」 22-4호 《중앙-지방 간 재정조정제도》',\n",
       " 'G': '「FIS 이슈 & 포커스」 23-2호 《핵심재정사업 성과관리》',\n",
       " 'H': '「FIS 이슈&포커스」 22-2호 《재정성과관리제도》',\n",
       " 'I': '「FIS 이슈 & 포커스」(신규) 통권 제1호 《우발부채》'}"
      ]
     },
     "execution_count": 7,
     "metadata": {},
     "output_type": "execute_result"
    }
   ],
   "source": [
    "source_list = list(df['Source'].unique())\n",
    "# 알파벳 리스트\n",
    "alphabet = list(string.ascii_uppercase)\n",
    "\n",
    "# 딕셔너리로 파일명과 알파벳 매핑\n",
    "file_mapping = {alphabet[i]: source_list[i] for i in range(len(source_list))}\n",
    "\n",
    "reversed_file_mapping = {value: key for key, value in file_mapping.items()}\n",
    "\n",
    "file_mapping"
   ]
  },
  {
   "cell_type": "code",
   "execution_count": 8,
   "metadata": {},
   "outputs": [
    {
     "name": "stderr",
     "output_type": "stream",
     "text": [
      "c:\\Users\\kim_h\\anaconda3\\envs\\final\\Lib\\site-packages\\langchain_core\\_api\\deprecation.py:139: LangChainDeprecationWarning: The class `HuggingFaceEmbeddings` was deprecated in LangChain 0.2.2 and will be removed in 0.3.0. An updated version of the class exists in the langchain-huggingface package and should be used instead. To use it run `pip install -U langchain-huggingface` and import as `from langchain_huggingface import HuggingFaceEmbeddings`.\n",
      "  warn_deprecated(\n",
      "Answering Questions (1/9): 100%|██████████| 9/9 [03:06<00:00, 20.73s/it]\n",
      "Answering Questions (2/9): 100%|██████████| 6/6 [02:05<00:00, 20.97s/it]\n",
      "Answering Questions (3/9): 100%|██████████| 8/8 [03:38<00:00, 27.36s/it]\n",
      "Answering Questions (4/9): 100%|██████████| 15/15 [06:30<00:00, 26.02s/it]\n",
      "Answering Questions (5/9): 100%|██████████| 5/5 [02:07<00:00, 25.59s/it]\n",
      "Answering Questions (6/9): 100%|██████████| 7/7 [04:39<00:00, 39.89s/it]\n",
      "Answering Questions (7/9): 100%|██████████| 7/7 [03:47<00:00, 32.49s/it]\n",
      "Answering Questions (8/9): 100%|██████████| 21/21 [17:08<00:00, 48.98s/it]\n",
      "Answering Questions (9/9): 100%|██████████| 20/20 [10:29<00:00, 31.47s/it]\n"
     ]
    }
   ],
   "source": [
    "# 대략 40분 걸림 \n",
    "\n",
    "for i, source in enumerate(source_list):\n",
    "    \n",
    "    db_path = f'data/{reversed_file_mapping[source]}'\n",
    "    pipeline = Ragpipeline(db_path)\n",
    "    \n",
    "    target_df = df[df['Source'] == source]\n",
    "    \n",
    "    for _, row in tqdm(target_df.iterrows(), total=len(target_df), desc=f\"Answering Questions ({i+1}/{len(source_list)})\"):\n",
    "        # 소스 문자열 정규화\n",
    "        source = normalize_path(row['Source'])\n",
    "        # 질문 \n",
    "        question = row['Question']\n",
    "        \n",
    "        # 대답\n",
    "        full_response = pipeline.answer_generation(question)\n",
    "        first_line_response = full_response.split(\"\\n\")[0]\n",
    "        \n",
    "        # 결과 저장\n",
    "        submit_df.loc[submit_df['SAMPLE_ID'] == row['SAMPLE_ID'], 'Answer'] = first_line_response\n",
    "        "
   ]
  },
  {
   "cell_type": "code",
   "execution_count": 9,
   "metadata": {},
   "outputs": [
    {
     "data": {
      "text/html": [
       "<div>\n",
       "<style scoped>\n",
       "    .dataframe tbody tr th:only-of-type {\n",
       "        vertical-align: middle;\n",
       "    }\n",
       "\n",
       "    .dataframe tbody tr th {\n",
       "        vertical-align: top;\n",
       "    }\n",
       "\n",
       "    .dataframe thead th {\n",
       "        text-align: right;\n",
       "    }\n",
       "</style>\n",
       "<table border=\"1\" class=\"dataframe\">\n",
       "  <thead>\n",
       "    <tr style=\"text-align: right;\">\n",
       "      <th></th>\n",
       "      <th>SAMPLE_ID</th>\n",
       "      <th>Answer</th>\n",
       "    </tr>\n",
       "  </thead>\n",
       "  <tbody>\n",
       "    <tr>\n",
       "      <th>0</th>\n",
       "      <td>TEST_000</td>\n",
       "      <td>2022년 혁신창업사업화자금(융자의) 예산은 2,230억원입니다.</td>\n",
       "    </tr>\n",
       "    <tr>\n",
       "      <th>1</th>\n",
       "      <td>TEST_001</td>\n",
       "      <td>중소벤처기업부의 혁신창업사업화자금(융자)의 사업목적은 기술력과 사업성이 우수하고 미...</td>\n",
       "    </tr>\n",
       "    <tr>\n",
       "      <th>2</th>\n",
       "      <td>TEST_002</td>\n",
       "      <td>중소벤처기업부의 혁신창업사업화자금(융자)의 사업근거는 중소기업진흥에 관한 법률 제6...</td>\n",
       "    </tr>\n",
       "    <tr>\n",
       "      <th>3</th>\n",
       "      <td>TEST_003</td>\n",
       "      <td>2010년 3월에 신규로 지원된 혁신창업사업화자금은 재창업자금(실패 경영인에 대한 ...</td>\n",
       "    </tr>\n",
       "    <tr>\n",
       "      <th>4</th>\n",
       "      <td>TEST_004</td>\n",
       "      <td>혁신창업사업화자금 중 2020년에 신규 지원된 자금으로 미래기술육성자금, 고성장촉진...</td>\n",
       "    </tr>\n",
       "    <tr>\n",
       "      <th>...</th>\n",
       "      <td>...</td>\n",
       "      <td>...</td>\n",
       "    </tr>\n",
       "    <tr>\n",
       "      <th>93</th>\n",
       "      <td>TEST_093</td>\n",
       "      <td>공적보증채무는 공공부문 단위가 계약에 의해 지급을 보증하는 채무로, 재정정책 및 분...</td>\n",
       "    </tr>\n",
       "    <tr>\n",
       "      <th>94</th>\n",
       "      <td>TEST_094</td>\n",
       "      <td>미래사회보장급여에 대한 순의무는 계약상의 부채가 아니며, 사회보장제도의 미래보험료의...</td>\n",
       "    </tr>\n",
       "    <tr>\n",
       "      <th>95</th>\n",
       "      <td>TEST_095</td>\n",
       "      <td>국가결산보고서는 우발부채를 재무제표상 부채로 인식하지 않으며, 주석에 공시하는 반면...</td>\n",
       "    </tr>\n",
       "    <tr>\n",
       "      <th>96</th>\n",
       "      <td>TEST_096</td>\n",
       "      <td>우발부채는 미래 발생이 불확실한 잠재적 의무 또는 부채를 의미하며, 이는 과거의 거...</td>\n",
       "    </tr>\n",
       "    <tr>\n",
       "      <th>97</th>\n",
       "      <td>TEST_097</td>\n",
       "      <td>보증은 법적 또는 계약에 의한 금융 협정을 의미하며, 재정상태표에서 부채로 기록되는...</td>\n",
       "    </tr>\n",
       "  </tbody>\n",
       "</table>\n",
       "<p>98 rows × 2 columns</p>\n",
       "</div>"
      ],
      "text/plain": [
       "   SAMPLE_ID                                             Answer\n",
       "0   TEST_000               2022년 혁신창업사업화자금(융자의) 예산은 2,230억원입니다.\n",
       "1   TEST_001  중소벤처기업부의 혁신창업사업화자금(융자)의 사업목적은 기술력과 사업성이 우수하고 미...\n",
       "2   TEST_002  중소벤처기업부의 혁신창업사업화자금(융자)의 사업근거는 중소기업진흥에 관한 법률 제6...\n",
       "3   TEST_003  2010년 3월에 신규로 지원된 혁신창업사업화자금은 재창업자금(실패 경영인에 대한 ...\n",
       "4   TEST_004  혁신창업사업화자금 중 2020년에 신규 지원된 자금으로 미래기술육성자금, 고성장촉진...\n",
       "..       ...                                                ...\n",
       "93  TEST_093  공적보증채무는 공공부문 단위가 계약에 의해 지급을 보증하는 채무로, 재정정책 및 분...\n",
       "94  TEST_094  미래사회보장급여에 대한 순의무는 계약상의 부채가 아니며, 사회보장제도의 미래보험료의...\n",
       "95  TEST_095  국가결산보고서는 우발부채를 재무제표상 부채로 인식하지 않으며, 주석에 공시하는 반면...\n",
       "96  TEST_096  우발부채는 미래 발생이 불확실한 잠재적 의무 또는 부채를 의미하며, 이는 과거의 거...\n",
       "97  TEST_097  보증은 법적 또는 계약에 의한 금융 협정을 의미하며, 재정상태표에서 부채로 기록되는...\n",
       "\n",
       "[98 rows x 2 columns]"
      ]
     },
     "execution_count": 9,
     "metadata": {},
     "output_type": "execute_result"
    }
   ],
   "source": [
    "submit_df"
   ]
  },
  {
   "cell_type": "code",
   "execution_count": 10,
   "metadata": {},
   "outputs": [],
   "source": [
    "submit_df.to_csv(\"./Faiss_lamma31_ensemble_submission.csv\", encoding='UTF-8-sig', index=False)"
   ]
  },
  {
   "cell_type": "code",
   "execution_count": null,
   "metadata": {},
   "outputs": [],
   "source": []
  }
 ],
 "metadata": {
  "kernelspec": {
   "display_name": "final",
   "language": "python",
   "name": "python3"
  },
  "language_info": {
   "codemirror_mode": {
    "name": "ipython",
    "version": 3
   },
   "file_extension": ".py",
   "mimetype": "text/x-python",
   "name": "python",
   "nbconvert_exporter": "python",
   "pygments_lexer": "ipython3",
   "version": "3.11.9"
  }
 },
 "nbformat": 4,
 "nbformat_minor": 2
}

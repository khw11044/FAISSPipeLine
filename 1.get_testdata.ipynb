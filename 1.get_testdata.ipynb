{
 "cells": [
  {
   "cell_type": "code",
   "execution_count": 1,
   "metadata": {},
   "outputs": [],
   "source": [
    "\n",
    "from utils.prompt import template\n",
    "from utils.utils import process_pdfs_from_dataframe_faiss\n",
    "\n",
    "import pandas as pd\n",
    "import string\n"
   ]
  },
  {
   "cell_type": "markdown",
   "metadata": {},
   "source": [
    "## Dense DB (Vector DB) 및 Sparse DB\n",
    "\n",
    "test.csv에서 질문들에 매칭되는 소스(pdf) 정보가 주어진다. \n",
    "\n",
    "각 질문에 따른 소스에 접근을 하고 리트리버를 사용해도 되기 때문에 \n",
    "\n",
    "각 질문에 따른 소스별 DB를 만들어주자"
   ]
  },
  {
   "cell_type": "code",
   "execution_count": 2,
   "metadata": {},
   "outputs": [
    {
     "data": {
      "text/html": [
       "<div>\n",
       "<style scoped>\n",
       "    .dataframe tbody tr th:only-of-type {\n",
       "        vertical-align: middle;\n",
       "    }\n",
       "\n",
       "    .dataframe tbody tr th {\n",
       "        vertical-align: top;\n",
       "    }\n",
       "\n",
       "    .dataframe thead th {\n",
       "        text-align: right;\n",
       "    }\n",
       "</style>\n",
       "<table border=\"1\" class=\"dataframe\">\n",
       "  <thead>\n",
       "    <tr style=\"text-align: right;\">\n",
       "      <th></th>\n",
       "      <th>SAMPLE_ID</th>\n",
       "      <th>Source</th>\n",
       "      <th>Source_path</th>\n",
       "      <th>Question</th>\n",
       "    </tr>\n",
       "  </thead>\n",
       "  <tbody>\n",
       "    <tr>\n",
       "      <th>0</th>\n",
       "      <td>TEST_000</td>\n",
       "      <td>중소벤처기업부_혁신창업사업화자금(융자)</td>\n",
       "      <td>./test_source/중소벤처기업부_혁신창업사업화자금(융자).pdf</td>\n",
       "      <td>2022년 혁신창업사업화자금(융자)의 예산은 얼마인가요?</td>\n",
       "    </tr>\n",
       "    <tr>\n",
       "      <th>1</th>\n",
       "      <td>TEST_001</td>\n",
       "      <td>중소벤처기업부_혁신창업사업화자금(융자)</td>\n",
       "      <td>./test_source/중소벤처기업부_혁신창업사업화자금(융자).pdf</td>\n",
       "      <td>중소벤처기업부의 혁신창업사업화자금(융자) 사업목적은 무엇인가요?</td>\n",
       "    </tr>\n",
       "    <tr>\n",
       "      <th>2</th>\n",
       "      <td>TEST_002</td>\n",
       "      <td>중소벤처기업부_혁신창업사업화자금(융자)</td>\n",
       "      <td>./test_source/중소벤처기업부_혁신창업사업화자금(융자).pdf</td>\n",
       "      <td>중소벤처기업부의 혁신창업사업화자금(융자) 사업근거는 어떤 법률에 근거하고 있나요?</td>\n",
       "    </tr>\n",
       "    <tr>\n",
       "      <th>3</th>\n",
       "      <td>TEST_003</td>\n",
       "      <td>중소벤처기업부_혁신창업사업화자금(융자)</td>\n",
       "      <td>./test_source/중소벤처기업부_혁신창업사업화자금(융자).pdf</td>\n",
       "      <td>2010년에 신규 지원된 혁신창업사업화자금은 무엇인가요?</td>\n",
       "    </tr>\n",
       "    <tr>\n",
       "      <th>4</th>\n",
       "      <td>TEST_004</td>\n",
       "      <td>중소벤처기업부_혁신창업사업화자금(융자)</td>\n",
       "      <td>./test_source/중소벤처기업부_혁신창업사업화자금(융자).pdf</td>\n",
       "      <td>혁신창업사업화자금 중 2020년에 신규 지원된 자금은 무엇인가요?</td>\n",
       "    </tr>\n",
       "  </tbody>\n",
       "</table>\n",
       "</div>"
      ],
      "text/plain": [
       "  SAMPLE_ID                 Source                              Source_path  \\\n",
       "0  TEST_000  중소벤처기업부_혁신창업사업화자금(융자)  ./test_source/중소벤처기업부_혁신창업사업화자금(융자).pdf   \n",
       "1  TEST_001  중소벤처기업부_혁신창업사업화자금(융자)  ./test_source/중소벤처기업부_혁신창업사업화자금(융자).pdf   \n",
       "2  TEST_002  중소벤처기업부_혁신창업사업화자금(융자)  ./test_source/중소벤처기업부_혁신창업사업화자금(융자).pdf   \n",
       "3  TEST_003  중소벤처기업부_혁신창업사업화자금(융자)  ./test_source/중소벤처기업부_혁신창업사업화자금(융자).pdf   \n",
       "4  TEST_004  중소벤처기업부_혁신창업사업화자금(융자)  ./test_source/중소벤처기업부_혁신창업사업화자금(융자).pdf   \n",
       "\n",
       "                                        Question  \n",
       "0                2022년 혁신창업사업화자금(융자)의 예산은 얼마인가요?  \n",
       "1            중소벤처기업부의 혁신창업사업화자금(융자) 사업목적은 무엇인가요?  \n",
       "2  중소벤처기업부의 혁신창업사업화자금(융자) 사업근거는 어떤 법률에 근거하고 있나요?  \n",
       "3                2010년에 신규 지원된 혁신창업사업화자금은 무엇인가요?  \n",
       "4           혁신창업사업화자금 중 2020년에 신규 지원된 자금은 무엇인가요?  "
      ]
     },
     "execution_count": 2,
     "metadata": {},
     "output_type": "execute_result"
    }
   ],
   "source": [
    "df = pd.read_csv('../open/test.csv')\n",
    "base_directory = '../open' # Your Base Directory\n",
    "\n",
    "df.head()"
   ]
  },
  {
   "cell_type": "code",
   "execution_count": 3,
   "metadata": {},
   "outputs": [],
   "source": [
    "source = list(df['Source'].unique())\n",
    "\n",
    "# 알파벳 리스트\n",
    "alphabet = list(string.ascii_uppercase)"
   ]
  },
  {
   "cell_type": "code",
   "execution_count": 4,
   "metadata": {},
   "outputs": [],
   "source": [
    "# 딕셔너리로 파일명과 알파벳 매핑\n",
    "file_mapping = {alphabet[i]: source[i] for i in range(len(source))}\n",
    "\n",
    "reversed_file_mapping = {value: key for key, value in file_mapping.items()}"
   ]
  },
  {
   "cell_type": "code",
   "execution_count": 5,
   "metadata": {},
   "outputs": [],
   "source": [
    "config = {\n",
    "    \"llm_predictor\": {\n",
    "        \"model_name\": \"llama3.1-dacon-Q8:latest\",   # llama3.1-dacon-Q8:latest,  llama3.1\n",
    "        \"temperature\": 0\n",
    "    },\n",
    "    # \"intfloat/multilingual-e5-small\", intfloat/multilingual-e5-base, intfloat/multilingual-e5-large\n",
    "    # BAAI/bge-m3\n",
    "    \"embed_model\": \"intfloat/multilingual-e5-large\",  \n",
    "    \n",
    "    # pymupdf4llm, fitz, PyPDFLoader, PyMuPDFLoader, UnstructuredPDFLoader, PDFPlumberLoader, PyPDFDirectoryLoader\n",
    "    \"pdf_loader\": \"pymupdf4llm\", \n",
    "    \n",
    "    \"text_split\":{\n",
    "        'chunk_size': 512,\n",
    "        'chunk_overlap': 32\n",
    "    },\n",
    "    \n",
    "    \"save_data_path\": './data_pymupdf4llm_512_32',\n",
    "    \n",
    "    \"search_type\": \"mmr\",           # \"mmr\"  similarity   similarity_score_threshold\n",
    "    'search_kwargs_k': 3,           # 유사도 기반 상위 k개\n",
    "    'search_kwargs_lambda': 0.5,    # 0~1, 0에 가까울수록 다양성, 1에 가까울수록 관련성\n",
    "    'score_threshold': 0.4,         # 0~1, 쿼리 문장과 최소한 0.x 이상의 유사도를 가진 문서만\n",
    "    \n",
    "    'bm25_k' : 3,                   # 검색어 기반 상위 k개\n",
    "    \"ensemble_search_type\": \"mmr\",  # 앙상블 서칭 타입\n",
    "    \"ensemble_weight\": [0.5,0.5],   # bm25와 vector 가중치\n",
    "\n",
    "\n",
    "}"
   ]
  },
  {
   "cell_type": "code",
   "execution_count": 6,
   "metadata": {},
   "outputs": [
    {
     "name": "stdout",
     "output_type": "stream",
     "text": [
      "가지고 있는 pdf파일들: ['./test_source/중소벤처기업부_혁신창업사업화자금(융자).pdf'\n",
      " './test_source/보건복지부_부모급여(영아수당) 지원.pdf'\n",
      " './test_source/보건복지부_노인장기요양보험 사업운영.pdf'\n",
      " './test_source/산업통상자원부_에너지바우처.pdf' './test_source/국토교통부_행복주택출자.pdf'\n",
      " './test_source/「FIS 이슈 & 포커스」 22-4호 《중앙-지방 간 재정조정제도》.pdf'\n",
      " './test_source/「FIS 이슈 & 포커스」 23-2호 《핵심재정사업 성과관리》.pdf'\n",
      " './test_source/「FIS 이슈&포커스」 22-2호 《재정성과관리제도》.pdf'\n",
      " './test_source/「FIS 이슈 & 포커스」(신규) 통권 제1호 《우발부채》.pdf']\n"
     ]
    },
    {
     "name": "stderr",
     "output_type": "stream",
     "text": [
      "Processing PDFs:   0%|          | 0/9 [00:00<?, ?it/s]"
     ]
    },
    {
     "name": "stdout",
     "output_type": "stream",
     "text": [
      "Processing 중소벤처기업부_혁신창업사업화자금(융자)...\n"
     ]
    },
    {
     "name": "stderr",
     "output_type": "stream",
     "text": [
      "c:\\Users\\kim_h\\anaconda3\\envs\\final\\Lib\\site-packages\\langchain_core\\_api\\deprecation.py:141: LangChainDeprecationWarning: The class `HuggingFaceEmbeddings` was deprecated in LangChain 0.2.2 and will be removed in 0.3.0. An updated version of the class exists in the langchain-huggingface package and should be used instead. To use it run `pip install -U langchain-huggingface` and import as `from langchain_huggingface import HuggingFaceEmbeddings`.\n",
      "  warn_deprecated(\n",
      "Processing PDFs:  11%|█         | 1/9 [00:11<01:32, 11.56s/it]"
     ]
    },
    {
     "name": "stdout",
     "output_type": "stream",
     "text": [
      "Processing 보건복지부_부모급여(영아수당) 지원...\n"
     ]
    },
    {
     "name": "stderr",
     "output_type": "stream",
     "text": [
      "Processing PDFs:  22%|██▏       | 2/9 [00:17<00:58,  8.34s/it]"
     ]
    },
    {
     "name": "stdout",
     "output_type": "stream",
     "text": [
      "Processing 보건복지부_노인장기요양보험 사업운영...\n"
     ]
    },
    {
     "name": "stderr",
     "output_type": "stream",
     "text": [
      "Processing PDFs:  33%|███▎      | 3/9 [00:25<00:47,  7.90s/it]"
     ]
    },
    {
     "name": "stdout",
     "output_type": "stream",
     "text": [
      "Processing 산업통상자원부_에너지바우처...\n"
     ]
    },
    {
     "name": "stderr",
     "output_type": "stream",
     "text": [
      "Processing PDFs:  44%|████▍     | 4/9 [00:32<00:37,  7.54s/it]"
     ]
    },
    {
     "name": "stdout",
     "output_type": "stream",
     "text": [
      "Processing 국토교통부_행복주택출자...\n"
     ]
    },
    {
     "name": "stderr",
     "output_type": "stream",
     "text": [
      "Processing PDFs:  56%|█████▌    | 5/9 [00:37<00:27,  6.86s/it]"
     ]
    },
    {
     "name": "stdout",
     "output_type": "stream",
     "text": [
      "Processing 「FIS 이슈 & 포커스」 22-4호 《중앙-지방 간 재정조정제도》...\n"
     ]
    },
    {
     "name": "stderr",
     "output_type": "stream",
     "text": [
      "Processing PDFs:  67%|██████▋   | 6/9 [00:45<00:21,  7.27s/it]"
     ]
    },
    {
     "name": "stdout",
     "output_type": "stream",
     "text": [
      "Processing 「FIS 이슈 & 포커스」 23-2호 《핵심재정사업 성과관리》...\n"
     ]
    },
    {
     "name": "stderr",
     "output_type": "stream",
     "text": [
      "Processing PDFs:  78%|███████▊  | 7/9 [00:56<00:16,  8.30s/it]"
     ]
    },
    {
     "name": "stdout",
     "output_type": "stream",
     "text": [
      "Processing 「FIS 이슈&포커스」 22-2호 《재정성과관리제도》...\n"
     ]
    },
    {
     "name": "stderr",
     "output_type": "stream",
     "text": [
      "Processing PDFs:  89%|████████▉ | 8/9 [01:04<00:08,  8.39s/it]"
     ]
    },
    {
     "name": "stdout",
     "output_type": "stream",
     "text": [
      "Processing 「FIS 이슈 & 포커스」(신규) 통권 제1호 《우발부채》...\n"
     ]
    },
    {
     "name": "stderr",
     "output_type": "stream",
     "text": [
      "Processing PDFs: 100%|██████████| 9/9 [01:12<00:00,  8.03s/it]\n"
     ]
    }
   ],
   "source": [
    "# PDF별 FAISS db 생성 \n",
    "# from config import config\n",
    "process_pdfs_from_dataframe_faiss(config, df, base_directory, reversed_file_mapping)"
   ]
  },
  {
   "cell_type": "code",
   "execution_count": 9,
   "metadata": {},
   "outputs": [
    {
     "name": "stdout",
     "output_type": "stream",
     "text": [
      "가지고 있는 pdf파일들: ['./test_source/중소벤처기업부_혁신창업사업화자금(융자).pdf'\n",
      " './test_source/보건복지부_부모급여(영아수당) 지원.pdf'\n",
      " './test_source/보건복지부_노인장기요양보험 사업운영.pdf'\n",
      " './test_source/산업통상자원부_에너지바우처.pdf' './test_source/국토교통부_행복주택출자.pdf'\n",
      " './test_source/「FIS 이슈 & 포커스」 22-4호 《중앙-지방 간 재정조정제도》.pdf'\n",
      " './test_source/「FIS 이슈 & 포커스」 23-2호 《핵심재정사업 성과관리》.pdf'\n",
      " './test_source/「FIS 이슈&포커스」 22-2호 《재정성과관리제도》.pdf'\n",
      " './test_source/「FIS 이슈 & 포커스」(신규) 통권 제1호 《우발부채》.pdf']\n"
     ]
    },
    {
     "name": "stderr",
     "output_type": "stream",
     "text": [
      "Processing PDFs:   0%|          | 0/9 [00:00<?, ?it/s]"
     ]
    },
    {
     "name": "stdout",
     "output_type": "stream",
     "text": [
      "Processing 중소벤처기업부_혁신창업사업화자금(융자)...\n"
     ]
    },
    {
     "name": "stderr",
     "output_type": "stream",
     "text": [
      "Processing PDFs:  11%|█         | 1/9 [00:04<00:33,  4.20s/it]"
     ]
    },
    {
     "name": "stdout",
     "output_type": "stream",
     "text": [
      "Processing 보건복지부_부모급여(영아수당) 지원...\n"
     ]
    },
    {
     "name": "stderr",
     "output_type": "stream",
     "text": [
      "Processing PDFs:  22%|██▏       | 2/9 [00:08<00:30,  4.31s/it]"
     ]
    },
    {
     "name": "stdout",
     "output_type": "stream",
     "text": [
      "Processing 보건복지부_노인장기요양보험 사업운영...\n"
     ]
    },
    {
     "name": "stderr",
     "output_type": "stream",
     "text": [
      "Processing PDFs:  33%|███▎      | 3/9 [00:13<00:26,  4.39s/it]"
     ]
    },
    {
     "name": "stdout",
     "output_type": "stream",
     "text": [
      "Processing 산업통상자원부_에너지바우처...\n"
     ]
    },
    {
     "name": "stderr",
     "output_type": "stream",
     "text": [
      "Processing PDFs:  44%|████▍     | 4/9 [00:17<00:22,  4.53s/it]"
     ]
    },
    {
     "name": "stdout",
     "output_type": "stream",
     "text": [
      "Processing 국토교통부_행복주택출자...\n"
     ]
    },
    {
     "name": "stderr",
     "output_type": "stream",
     "text": [
      "Processing PDFs:  56%|█████▌    | 5/9 [00:22<00:18,  4.56s/it]"
     ]
    },
    {
     "name": "stdout",
     "output_type": "stream",
     "text": [
      "Processing 「FIS 이슈 & 포커스」 22-4호 《중앙-지방 간 재정조정제도》...\n"
     ]
    },
    {
     "name": "stderr",
     "output_type": "stream",
     "text": [
      "Processing PDFs:  67%|██████▋   | 6/9 [00:27<00:14,  4.90s/it]"
     ]
    },
    {
     "name": "stdout",
     "output_type": "stream",
     "text": [
      "Processing 「FIS 이슈 & 포커스」 23-2호 《핵심재정사업 성과관리》...\n"
     ]
    },
    {
     "name": "stderr",
     "output_type": "stream",
     "text": [
      "Processing PDFs:  78%|███████▊  | 7/9 [00:33<00:10,  5.15s/it]"
     ]
    },
    {
     "name": "stdout",
     "output_type": "stream",
     "text": [
      "Processing 「FIS 이슈&포커스」 22-2호 《재정성과관리제도》...\n"
     ]
    },
    {
     "name": "stderr",
     "output_type": "stream",
     "text": [
      "Processing PDFs:  89%|████████▉ | 8/9 [00:39<00:05,  5.23s/it]"
     ]
    },
    {
     "name": "stdout",
     "output_type": "stream",
     "text": [
      "Processing 「FIS 이슈 & 포커스」(신규) 통권 제1호 《우발부채》...\n"
     ]
    },
    {
     "name": "stderr",
     "output_type": "stream",
     "text": [
      "Processing PDFs: 100%|██████████| 9/9 [00:44<00:00,  4.93s/it]\n"
     ]
    }
   ],
   "source": [
    "config = {\n",
    "    \"llm_predictor\": {\n",
    "        \"model_name\": \"llama3.1-dacon-Q8:latest\",   # llama3.1-dacon-Q8:latest,  llama3.1\n",
    "        \"temperature\": 0\n",
    "    },\n",
    "    # \"intfloat/multilingual-e5-small\", intfloat/multilingual-e5-base, intfloat/multilingual-e5-large\n",
    "    # BAAI/bge-m3\n",
    "    \"embed_model\": \"intfloat/multilingual-e5-large\",  \n",
    "    \n",
    "    # pymupdf4llm, fitz, PyPDFLoader, PyMuPDFLoader, UnstructuredPDFLoader, PDFPlumberLoader, PyPDFDirectoryLoader\n",
    "    \"pdf_loader\": \"fitz\", \n",
    "    \n",
    "    \"text_split\":{\n",
    "        'chunk_size': 512,\n",
    "        'chunk_overlap': 32\n",
    "    },\n",
    "    \n",
    "    \"save_data_path\": './data_fitz_512_32',\n",
    "    \n",
    "    \"search_type\": \"mmr\",           # \"mmr\"  similarity   similarity_score_threshold\n",
    "    'search_kwargs_k': 3,           # 유사도 기반 상위 k개\n",
    "    'search_kwargs_lambda': 0.5,    # 0~1, 0에 가까울수록 다양성, 1에 가까울수록 관련성\n",
    "    'score_threshold': 0.4,         # 0~1, 쿼리 문장과 최소한 0.x 이상의 유사도를 가진 문서만\n",
    "    \n",
    "    'bm25_k' : 3,                   # 검색어 기반 상위 k개\n",
    "    \"ensemble_search_type\": \"mmr\",  # 앙상블 서칭 타입\n",
    "    \"ensemble_weight\": [0.5,0.5],   # bm25와 vector 가중치\n",
    "\n",
    "\n",
    "}\n",
    "\n",
    "# PDF별 FAISS db 생성 \n",
    "# from config import config\n",
    "process_pdfs_from_dataframe_faiss(config, df, base_directory, reversed_file_mapping)"
   ]
  },
  {
   "cell_type": "code",
   "execution_count": 10,
   "metadata": {},
   "outputs": [
    {
     "name": "stdout",
     "output_type": "stream",
     "text": [
      "가지고 있는 pdf파일들: ['./test_source/중소벤처기업부_혁신창업사업화자금(융자).pdf'\n",
      " './test_source/보건복지부_부모급여(영아수당) 지원.pdf'\n",
      " './test_source/보건복지부_노인장기요양보험 사업운영.pdf'\n",
      " './test_source/산업통상자원부_에너지바우처.pdf' './test_source/국토교통부_행복주택출자.pdf'\n",
      " './test_source/「FIS 이슈 & 포커스」 22-4호 《중앙-지방 간 재정조정제도》.pdf'\n",
      " './test_source/「FIS 이슈 & 포커스」 23-2호 《핵심재정사업 성과관리》.pdf'\n",
      " './test_source/「FIS 이슈&포커스」 22-2호 《재정성과관리제도》.pdf'\n",
      " './test_source/「FIS 이슈 & 포커스」(신규) 통권 제1호 《우발부채》.pdf']\n"
     ]
    },
    {
     "name": "stderr",
     "output_type": "stream",
     "text": [
      "Processing PDFs:   0%|          | 0/9 [00:00<?, ?it/s]"
     ]
    },
    {
     "name": "stdout",
     "output_type": "stream",
     "text": [
      "Processing 중소벤처기업부_혁신창업사업화자금(융자)...\n"
     ]
    },
    {
     "name": "stderr",
     "output_type": "stream",
     "text": [
      "Processing PDFs:  11%|█         | 1/9 [00:05<00:40,  5.04s/it]"
     ]
    },
    {
     "name": "stdout",
     "output_type": "stream",
     "text": [
      "Processing 보건복지부_부모급여(영아수당) 지원...\n"
     ]
    },
    {
     "name": "stderr",
     "output_type": "stream",
     "text": [
      "Processing PDFs:  22%|██▏       | 2/9 [00:09<00:33,  4.78s/it]"
     ]
    },
    {
     "name": "stdout",
     "output_type": "stream",
     "text": [
      "Processing 보건복지부_노인장기요양보험 사업운영...\n"
     ]
    },
    {
     "name": "stderr",
     "output_type": "stream",
     "text": [
      "Processing PDFs:  33%|███▎      | 3/9 [00:14<00:30,  5.02s/it]"
     ]
    },
    {
     "name": "stdout",
     "output_type": "stream",
     "text": [
      "Processing 산업통상자원부_에너지바우처...\n"
     ]
    },
    {
     "name": "stderr",
     "output_type": "stream",
     "text": [
      "Processing PDFs:  44%|████▍     | 4/9 [00:21<00:27,  5.50s/it]"
     ]
    },
    {
     "name": "stdout",
     "output_type": "stream",
     "text": [
      "Processing 국토교통부_행복주택출자...\n"
     ]
    },
    {
     "name": "stderr",
     "output_type": "stream",
     "text": [
      "Processing PDFs:  56%|█████▌    | 5/9 [00:26<00:21,  5.29s/it]"
     ]
    },
    {
     "name": "stdout",
     "output_type": "stream",
     "text": [
      "Processing 「FIS 이슈 & 포커스」 22-4호 《중앙-지방 간 재정조정제도》...\n"
     ]
    },
    {
     "name": "stderr",
     "output_type": "stream",
     "text": [
      "Processing PDFs:  67%|██████▋   | 6/9 [00:31<00:16,  5.46s/it]"
     ]
    },
    {
     "name": "stdout",
     "output_type": "stream",
     "text": [
      "Processing 「FIS 이슈 & 포커스」 23-2호 《핵심재정사업 성과관리》...\n"
     ]
    },
    {
     "name": "stderr",
     "output_type": "stream",
     "text": [
      "Processing PDFs:  78%|███████▊  | 7/9 [00:38<00:11,  5.70s/it]"
     ]
    },
    {
     "name": "stdout",
     "output_type": "stream",
     "text": [
      "Processing 「FIS 이슈&포커스」 22-2호 《재정성과관리제도》...\n"
     ]
    },
    {
     "name": "stderr",
     "output_type": "stream",
     "text": [
      "Processing PDFs:  89%|████████▉ | 8/9 [00:43<00:05,  5.63s/it]"
     ]
    },
    {
     "name": "stdout",
     "output_type": "stream",
     "text": [
      "Processing 「FIS 이슈 & 포커스」(신규) 통권 제1호 《우발부채》...\n"
     ]
    },
    {
     "name": "stderr",
     "output_type": "stream",
     "text": [
      "Processing PDFs: 100%|██████████| 9/9 [00:49<00:00,  5.49s/it]\n"
     ]
    }
   ],
   "source": [
    "config = {\n",
    "    \"llm_predictor\": {\n",
    "        \"model_name\": \"llama3.1-dacon-Q8:latest\",   # llama3.1-dacon-Q8:latest,  llama3.1\n",
    "        \"temperature\": 0\n",
    "    },\n",
    "    # \"intfloat/multilingual-e5-small\", intfloat/multilingual-e5-base, intfloat/multilingual-e5-large\n",
    "    # BAAI/bge-m3\n",
    "    \"embed_model\": \"intfloat/multilingual-e5-large\",  \n",
    "    \n",
    "    # pymupdf4llm, fitz, PyPDFLoader, PyMuPDFLoader, UnstructuredPDFLoader, PDFPlumberLoader, PyPDFDirectoryLoader\n",
    "    \"pdf_loader\": \"PyPDFLoader\", \n",
    "    \n",
    "    \"text_split\":{\n",
    "        'chunk_size': 512,\n",
    "        'chunk_overlap': 32\n",
    "    },\n",
    "    \n",
    "    \"save_data_path\": './data_PyPDFLoader_512_32',\n",
    "    \n",
    "    \"search_type\": \"mmr\",           # \"mmr\"  similarity   similarity_score_threshold\n",
    "    'search_kwargs_k': 3,           # 유사도 기반 상위 k개\n",
    "    'search_kwargs_lambda': 0.5,    # 0~1, 0에 가까울수록 다양성, 1에 가까울수록 관련성\n",
    "    'score_threshold': 0.4,         # 0~1, 쿼리 문장과 최소한 0.x 이상의 유사도를 가진 문서만\n",
    "    \n",
    "    'bm25_k' : 3,                   # 검색어 기반 상위 k개\n",
    "    \"ensemble_search_type\": \"mmr\",  # 앙상블 서칭 타입\n",
    "    \"ensemble_weight\": [0.5,0.5],   # bm25와 vector 가중치\n",
    "\n",
    "\n",
    "}\n",
    "\n",
    "# PDF별 FAISS db 생성 \n",
    "# from config import config\n",
    "process_pdfs_from_dataframe_faiss(config, df, base_directory, reversed_file_mapping)"
   ]
  },
  {
   "cell_type": "code",
   "execution_count": 11,
   "metadata": {},
   "outputs": [
    {
     "name": "stdout",
     "output_type": "stream",
     "text": [
      "가지고 있는 pdf파일들: ['./test_source/중소벤처기업부_혁신창업사업화자금(융자).pdf'\n",
      " './test_source/보건복지부_부모급여(영아수당) 지원.pdf'\n",
      " './test_source/보건복지부_노인장기요양보험 사업운영.pdf'\n",
      " './test_source/산업통상자원부_에너지바우처.pdf' './test_source/국토교통부_행복주택출자.pdf'\n",
      " './test_source/「FIS 이슈 & 포커스」 22-4호 《중앙-지방 간 재정조정제도》.pdf'\n",
      " './test_source/「FIS 이슈 & 포커스」 23-2호 《핵심재정사업 성과관리》.pdf'\n",
      " './test_source/「FIS 이슈&포커스」 22-2호 《재정성과관리제도》.pdf'\n",
      " './test_source/「FIS 이슈 & 포커스」(신규) 통권 제1호 《우발부채》.pdf']\n"
     ]
    },
    {
     "name": "stderr",
     "output_type": "stream",
     "text": [
      "Processing PDFs:   0%|          | 0/9 [00:00<?, ?it/s]"
     ]
    },
    {
     "name": "stdout",
     "output_type": "stream",
     "text": [
      "Processing 중소벤처기업부_혁신창업사업화자금(융자)...\n"
     ]
    },
    {
     "name": "stderr",
     "output_type": "stream",
     "text": [
      "Processing PDFs:  11%|█         | 1/9 [00:04<00:33,  4.23s/it]"
     ]
    },
    {
     "name": "stdout",
     "output_type": "stream",
     "text": [
      "Processing 보건복지부_부모급여(영아수당) 지원...\n"
     ]
    },
    {
     "name": "stderr",
     "output_type": "stream",
     "text": [
      "Processing PDFs:  22%|██▏       | 2/9 [00:08<00:31,  4.43s/it]"
     ]
    },
    {
     "name": "stdout",
     "output_type": "stream",
     "text": [
      "Processing 보건복지부_노인장기요양보험 사업운영...\n"
     ]
    },
    {
     "name": "stderr",
     "output_type": "stream",
     "text": [
      "Processing PDFs:  33%|███▎      | 3/9 [00:13<00:26,  4.47s/it]"
     ]
    },
    {
     "name": "stdout",
     "output_type": "stream",
     "text": [
      "Processing 산업통상자원부_에너지바우처...\n"
     ]
    },
    {
     "name": "stderr",
     "output_type": "stream",
     "text": [
      "Processing PDFs:  44%|████▍     | 4/9 [00:18<00:23,  4.61s/it]"
     ]
    },
    {
     "name": "stdout",
     "output_type": "stream",
     "text": [
      "Processing 국토교통부_행복주택출자...\n"
     ]
    },
    {
     "name": "stderr",
     "output_type": "stream",
     "text": [
      "Processing PDFs:  56%|█████▌    | 5/9 [00:22<00:18,  4.52s/it]"
     ]
    },
    {
     "name": "stdout",
     "output_type": "stream",
     "text": [
      "Processing 「FIS 이슈 & 포커스」 22-4호 《중앙-지방 간 재정조정제도》...\n"
     ]
    },
    {
     "name": "stderr",
     "output_type": "stream",
     "text": [
      "Processing PDFs:  67%|██████▋   | 6/9 [00:27<00:14,  4.73s/it]"
     ]
    },
    {
     "name": "stdout",
     "output_type": "stream",
     "text": [
      "Processing 「FIS 이슈 & 포커스」 23-2호 《핵심재정사업 성과관리》...\n"
     ]
    },
    {
     "name": "stderr",
     "output_type": "stream",
     "text": [
      "Processing PDFs:  78%|███████▊  | 7/9 [00:33<00:09,  4.95s/it]"
     ]
    },
    {
     "name": "stdout",
     "output_type": "stream",
     "text": [
      "Processing 「FIS 이슈&포커스」 22-2호 《재정성과관리제도》...\n"
     ]
    },
    {
     "name": "stderr",
     "output_type": "stream",
     "text": [
      "Processing PDFs:  89%|████████▉ | 8/9 [00:37<00:04,  4.93s/it]"
     ]
    },
    {
     "name": "stdout",
     "output_type": "stream",
     "text": [
      "Processing 「FIS 이슈 & 포커스」(신규) 통권 제1호 《우발부채》...\n"
     ]
    },
    {
     "name": "stderr",
     "output_type": "stream",
     "text": [
      "Processing PDFs: 100%|██████████| 9/9 [00:42<00:00,  4.77s/it]\n"
     ]
    }
   ],
   "source": [
    "config = {\n",
    "    \"llm_predictor\": {\n",
    "        \"model_name\": \"llama3.1-dacon-Q8:latest\",   # llama3.1-dacon-Q8:latest,  llama3.1\n",
    "        \"temperature\": 0\n",
    "    },\n",
    "    # \"intfloat/multilingual-e5-small\", intfloat/multilingual-e5-base, intfloat/multilingual-e5-large\n",
    "    # BAAI/bge-m3\n",
    "    \"embed_model\": \"intfloat/multilingual-e5-large\",  \n",
    "    \n",
    "    # pymupdf4llm, fitz, PyPDFLoader, PyMuPDFLoader, UnstructuredPDFLoader, PDFPlumberLoader, PyPDFDirectoryLoader\n",
    "    \"pdf_loader\": \"PyMuPDFLoader\", \n",
    "    \n",
    "    \"text_split\":{\n",
    "        'chunk_size': 512,\n",
    "        'chunk_overlap': 32\n",
    "    },\n",
    "    \n",
    "    \"save_data_path\": './data_PyMuPDFLoader_512_32',\n",
    "    \n",
    "    \"search_type\": \"mmr\",           # \"mmr\"  similarity   similarity_score_threshold\n",
    "    'search_kwargs_k': 3,           # 유사도 기반 상위 k개\n",
    "    'search_kwargs_lambda': 0.5,    # 0~1, 0에 가까울수록 다양성, 1에 가까울수록 관련성\n",
    "    'score_threshold': 0.4,         # 0~1, 쿼리 문장과 최소한 0.x 이상의 유사도를 가진 문서만\n",
    "    \n",
    "    'bm25_k' : 3,                   # 검색어 기반 상위 k개\n",
    "    \"ensemble_search_type\": \"mmr\",  # 앙상블 서칭 타입\n",
    "    \"ensemble_weight\": [0.5,0.5],   # bm25와 vector 가중치\n",
    "\n",
    "\n",
    "}\n",
    "\n",
    "# PDF별 FAISS db 생성 \n",
    "# from config import config\n",
    "process_pdfs_from_dataframe_faiss(config, df, base_directory, reversed_file_mapping)"
   ]
  },
  {
   "cell_type": "code",
   "execution_count": null,
   "metadata": {},
   "outputs": [
    {
     "name": "stdout",
     "output_type": "stream",
     "text": [
      "가지고 있는 pdf파일들: ['./test_source/중소벤처기업부_혁신창업사업화자금(융자).pdf'\n",
      " './test_source/보건복지부_부모급여(영아수당) 지원.pdf'\n",
      " './test_source/보건복지부_노인장기요양보험 사업운영.pdf'\n",
      " './test_source/산업통상자원부_에너지바우처.pdf' './test_source/국토교통부_행복주택출자.pdf'\n",
      " './test_source/「FIS 이슈 & 포커스」 22-4호 《중앙-지방 간 재정조정제도》.pdf'\n",
      " './test_source/「FIS 이슈 & 포커스」 23-2호 《핵심재정사업 성과관리》.pdf'\n",
      " './test_source/「FIS 이슈&포커스」 22-2호 《재정성과관리제도》.pdf'\n",
      " './test_source/「FIS 이슈 & 포커스」(신규) 통권 제1호 《우발부채》.pdf']\n"
     ]
    },
    {
     "name": "stderr",
     "output_type": "stream",
     "text": [
      "Processing PDFs:   0%|          | 0/9 [00:00<?, ?it/s]"
     ]
    },
    {
     "name": "stdout",
     "output_type": "stream",
     "text": [
      "Processing 중소벤처기업부_혁신창업사업화자금(융자)...\n"
     ]
    },
    {
     "name": "stderr",
     "output_type": "stream",
     "text": [
      "Processing PDFs:  11%|█         | 1/9 [00:05<00:42,  5.32s/it]"
     ]
    },
    {
     "name": "stdout",
     "output_type": "stream",
     "text": [
      "Processing 보건복지부_부모급여(영아수당) 지원...\n"
     ]
    },
    {
     "name": "stderr",
     "output_type": "stream",
     "text": [
      "Processing PDFs:  22%|██▏       | 2/9 [00:10<00:37,  5.36s/it]"
     ]
    },
    {
     "name": "stdout",
     "output_type": "stream",
     "text": [
      "Processing 보건복지부_노인장기요양보험 사업운영...\n"
     ]
    },
    {
     "name": "stderr",
     "output_type": "stream",
     "text": [
      "Processing PDFs:  33%|███▎      | 3/9 [00:17<00:35,  5.85s/it]"
     ]
    },
    {
     "name": "stdout",
     "output_type": "stream",
     "text": [
      "Processing 산업통상자원부_에너지바우처...\n"
     ]
    },
    {
     "name": "stderr",
     "output_type": "stream",
     "text": [
      "Processing PDFs:  44%|████▍     | 4/9 [00:24<00:32,  6.44s/it]"
     ]
    },
    {
     "name": "stdout",
     "output_type": "stream",
     "text": [
      "Processing 국토교통부_행복주택출자...\n"
     ]
    },
    {
     "name": "stderr",
     "output_type": "stream",
     "text": [
      "Processing PDFs:  56%|█████▌    | 5/9 [00:30<00:24,  6.22s/it]"
     ]
    },
    {
     "name": "stdout",
     "output_type": "stream",
     "text": [
      "Processing 「FIS 이슈 & 포커스」 22-4호 《중앙-지방 간 재정조정제도》...\n"
     ]
    },
    {
     "name": "stderr",
     "output_type": "stream",
     "text": [
      "Processing PDFs:  67%|██████▋   | 6/9 [00:37<00:19,  6.47s/it]"
     ]
    },
    {
     "name": "stdout",
     "output_type": "stream",
     "text": [
      "Processing 「FIS 이슈 & 포커스」 23-2호 《핵심재정사업 성과관리》...\n"
     ]
    },
    {
     "name": "stderr",
     "output_type": "stream",
     "text": [
      "Processing PDFs:  78%|███████▊  | 7/9 [00:44<00:13,  6.86s/it]"
     ]
    },
    {
     "name": "stdout",
     "output_type": "stream",
     "text": [
      "Processing 「FIS 이슈&포커스」 22-2호 《재정성과관리제도》...\n"
     ]
    },
    {
     "name": "stderr",
     "output_type": "stream",
     "text": [
      "Processing PDFs:  89%|████████▉ | 8/9 [00:52<00:06,  6.99s/it]"
     ]
    },
    {
     "name": "stdout",
     "output_type": "stream",
     "text": [
      "Processing 「FIS 이슈 & 포커스」(신규) 통권 제1호 《우발부채》...\n"
     ]
    },
    {
     "name": "stderr",
     "output_type": "stream",
     "text": [
      "Processing PDFs: 100%|██████████| 9/9 [00:58<00:00,  6.50s/it]\n"
     ]
    }
   ],
   "source": [
    "config = {\n",
    "    \"llm_predictor\": {\n",
    "        \"model_name\": \"llama3.1-dacon-Q8:latest\",   # llama3.1-dacon-Q8:latest,  llama3.1\n",
    "        \"temperature\": 0\n",
    "    },\n",
    "    # \"intfloat/multilingual-e5-small\", intfloat/multilingual-e5-base, intfloat/multilingual-e5-large\n",
    "    # BAAI/bge-m3\n",
    "    \"embed_model\": \"intfloat/multilingual-e5-large\",  \n",
    "    \n",
    "    # pymupdf4llm, fitz, PyPDFLoader, PyMuPDFLoader, UnstructuredPDFLoader, PDFPlumberLoader, PyPDFDirectoryLoader\n",
    "    \"pdf_loader\": \"PDFPlumberLoader\", \n",
    "    \n",
    "    \"text_split\":{\n",
    "        'chunk_size': 512,\n",
    "        'chunk_overlap': 32\n",
    "    },\n",
    "    \n",
    "    \"save_data_path\": './data_PDFPlumberLoader_512_32',\n",
    "    \n",
    "    \"search_type\": \"mmr\",           # \"mmr\"  similarity   similarity_score_threshold\n",
    "    'search_kwargs_k': 3,           # 유사도 기반 상위 k개\n",
    "    'search_kwargs_lambda': 0.5,    # 0~1, 0에 가까울수록 다양성, 1에 가까울수록 관련성\n",
    "    'score_threshold': 0.4,         # 0~1, 쿼리 문장과 최소한 0.x 이상의 유사도를 가진 문서만\n",
    "    \n",
    "    'bm25_k' : 3,                   # 검색어 기반 상위 k개\n",
    "    \"ensemble_search_type\": \"mmr\",  # 앙상블 서칭 타입\n",
    "    \"ensemble_weight\": [0.5,0.5],   # bm25와 vector 가중치\n",
    "\n",
    "\n",
    "}\n",
    "\n",
    "# PDF별 FAISS db 생성 \n",
    "# from config import config\n",
    "process_pdfs_from_dataframe_faiss(config, df, base_directory, reversed_file_mapping)"
   ]
  },
  {
   "cell_type": "code",
   "execution_count": null,
   "metadata": {},
   "outputs": [],
   "source": []
  }
 ],
 "metadata": {
  "kernelspec": {
   "display_name": "final",
   "language": "python",
   "name": "python3"
  },
  "language_info": {
   "codemirror_mode": {
    "name": "ipython",
    "version": 3
   },
   "file_extension": ".py",
   "mimetype": "text/x-python",
   "name": "python",
   "nbconvert_exporter": "python",
   "pygments_lexer": "ipython3",
   "version": "3.11.9"
  }
 },
 "nbformat": 4,
 "nbformat_minor": 2
}

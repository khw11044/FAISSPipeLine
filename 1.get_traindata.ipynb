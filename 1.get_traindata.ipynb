{
 "cells": [
  {
   "cell_type": "code",
   "execution_count": 12,
   "metadata": {},
   "outputs": [],
   "source": [
    "\n",
    "from utils.prompt import template\n",
    "from utils.utils import process_pdfs_from_dataframe, process_pdfs_from_dataframe_faiss\n",
    "import os \n",
    "import string\n",
    "import pandas as pd \n",
    "from tqdm.autonotebook import tqdm\n",
    "\n",
    "from utils.RagPipeline import Ragpipeline\n",
    "\n",
    "from utils.utils import normalize_path\n",
    "from utils.cal import calculate_average_f1_score"
   ]
  },
  {
   "cell_type": "markdown",
   "metadata": {},
   "source": [
    "## Dense DB (Vector DB) 및 Sparse DB\n",
    "\n",
    "test.csv에서 질문들에 매칭되는 소스(pdf) 정보가 주어진다. \n",
    "\n",
    "각 질문에 따른 소스에 접근을 하고 리트리버를 사용해도 되기 때문에 \n",
    "\n",
    "각 질문에 따른 소스별 DB를 만들어주자"
   ]
  },
  {
   "cell_type": "code",
   "execution_count": 2,
   "metadata": {},
   "outputs": [
    {
     "data": {
      "text/html": [
       "<div>\n",
       "<style scoped>\n",
       "    .dataframe tbody tr th:only-of-type {\n",
       "        vertical-align: middle;\n",
       "    }\n",
       "\n",
       "    .dataframe tbody tr th {\n",
       "        vertical-align: top;\n",
       "    }\n",
       "\n",
       "    .dataframe thead th {\n",
       "        text-align: right;\n",
       "    }\n",
       "</style>\n",
       "<table border=\"1\" class=\"dataframe\">\n",
       "  <thead>\n",
       "    <tr style=\"text-align: right;\">\n",
       "      <th></th>\n",
       "      <th>SAMPLE_ID</th>\n",
       "      <th>Source</th>\n",
       "      <th>Source_path</th>\n",
       "      <th>Question</th>\n",
       "      <th>Answer</th>\n",
       "    </tr>\n",
       "  </thead>\n",
       "  <tbody>\n",
       "    <tr>\n",
       "      <th>0</th>\n",
       "      <td>TRAIN_000</td>\n",
       "      <td>1-1 2024 주요 재정통계 1권</td>\n",
       "      <td>./train_source/1-1 2024 주요 재정통계 1권.pdf</td>\n",
       "      <td>2024년 중앙정부 재정체계는 어떻게 구성되어 있나요?</td>\n",
       "      <td>2024년 중앙정부 재정체계는 예산(일반·특별회계)과 기금으로 구분되며, 2024년...</td>\n",
       "    </tr>\n",
       "    <tr>\n",
       "      <th>1</th>\n",
       "      <td>TRAIN_001</td>\n",
       "      <td>1-1 2024 주요 재정통계 1권</td>\n",
       "      <td>./train_source/1-1 2024 주요 재정통계 1권.pdf</td>\n",
       "      <td>2024년 중앙정부의 예산 지출은 어떻게 구성되어 있나요?</td>\n",
       "      <td>2024년 중앙정부의 예산 지출은 일반회계 356.5조원, 21개 특별회계 81.7...</td>\n",
       "    </tr>\n",
       "    <tr>\n",
       "      <th>2</th>\n",
       "      <td>TRAIN_002</td>\n",
       "      <td>1-1 2024 주요 재정통계 1권</td>\n",
       "      <td>./train_source/1-1 2024 주요 재정통계 1권.pdf</td>\n",
       "      <td>기금이 예산과 다른 점은?</td>\n",
       "      <td>기금은 예산과 구분되는 재정수단으로서 재정운영의 신축성을 기할 필요가 있을 때, 정...</td>\n",
       "    </tr>\n",
       "    <tr>\n",
       "      <th>3</th>\n",
       "      <td>TRAIN_003</td>\n",
       "      <td>1-1 2024 주요 재정통계 1권</td>\n",
       "      <td>./train_source/1-1 2024 주요 재정통계 1권.pdf</td>\n",
       "      <td>일반회계, 특별회계, 기금 간의 차이점은 무엇인가요?</td>\n",
       "      <td>일반회계는 특정 사업 운영 및 특정 세입으로 특정 세출을 충당하는데 사용되고, 특별...</td>\n",
       "    </tr>\n",
       "    <tr>\n",
       "      <th>4</th>\n",
       "      <td>TRAIN_004</td>\n",
       "      <td>1-1 2024 주요 재정통계 1권</td>\n",
       "      <td>./train_source/1-1 2024 주요 재정통계 1권.pdf</td>\n",
       "      <td>2024년 총수입은 얼마이며, 예산수입과 기금수입은 각각 몇 조원인가요?</td>\n",
       "      <td>2024년 총수입은 612.2조원이며, 예산수입은 395.5조원, 기금수입은 216...</td>\n",
       "    </tr>\n",
       "  </tbody>\n",
       "</table>\n",
       "</div>"
      ],
      "text/plain": [
       "   SAMPLE_ID               Source                             Source_path  \\\n",
       "0  TRAIN_000  1-1 2024 주요 재정통계 1권  ./train_source/1-1 2024 주요 재정통계 1권.pdf   \n",
       "1  TRAIN_001  1-1 2024 주요 재정통계 1권  ./train_source/1-1 2024 주요 재정통계 1권.pdf   \n",
       "2  TRAIN_002  1-1 2024 주요 재정통계 1권  ./train_source/1-1 2024 주요 재정통계 1권.pdf   \n",
       "3  TRAIN_003  1-1 2024 주요 재정통계 1권  ./train_source/1-1 2024 주요 재정통계 1권.pdf   \n",
       "4  TRAIN_004  1-1 2024 주요 재정통계 1권  ./train_source/1-1 2024 주요 재정통계 1권.pdf   \n",
       "\n",
       "                                   Question  \\\n",
       "0            2024년 중앙정부 재정체계는 어떻게 구성되어 있나요?   \n",
       "1          2024년 중앙정부의 예산 지출은 어떻게 구성되어 있나요?   \n",
       "2                            기금이 예산과 다른 점은?   \n",
       "3             일반회계, 특별회계, 기금 간의 차이점은 무엇인가요?   \n",
       "4  2024년 총수입은 얼마이며, 예산수입과 기금수입은 각각 몇 조원인가요?   \n",
       "\n",
       "                                              Answer  \n",
       "0  2024년 중앙정부 재정체계는 예산(일반·특별회계)과 기금으로 구분되며, 2024년...  \n",
       "1  2024년 중앙정부의 예산 지출은 일반회계 356.5조원, 21개 특별회계 81.7...  \n",
       "2  기금은 예산과 구분되는 재정수단으로서 재정운영의 신축성을 기할 필요가 있을 때, 정...  \n",
       "3  일반회계는 특정 사업 운영 및 특정 세입으로 특정 세출을 충당하는데 사용되고, 특별...  \n",
       "4  2024년 총수입은 612.2조원이며, 예산수입은 395.5조원, 기금수입은 216...  "
      ]
     },
     "execution_count": 2,
     "metadata": {},
     "output_type": "execute_result"
    }
   ],
   "source": [
    "df = pd.read_csv('../open/train.csv')\n",
    "base_directory = '../open' # Your Base Directory\n",
    "\n",
    "df.head()"
   ]
  },
  {
   "cell_type": "code",
   "execution_count": 3,
   "metadata": {},
   "outputs": [],
   "source": [
    "source_list = list(df['Source'].unique())\n",
    "\n",
    "# 알파벳 리스트\n",
    "alphabet = list(string.ascii_uppercase)"
   ]
  },
  {
   "cell_type": "code",
   "execution_count": 4,
   "metadata": {},
   "outputs": [
    {
     "data": {
      "text/plain": [
       "{'A': '1-1 2024 주요 재정통계 1권',\n",
       " 'B': '2024 나라살림 예산개요',\n",
       " 'C': '재정통계해설',\n",
       " 'D': '국토교통부_전세임대(융자)',\n",
       " 'E': '고용노동부_청년일자리창출지원',\n",
       " 'F': '고용노동부_내일배움카드(일반)',\n",
       " 'G': '보건복지부_노인일자리 및 사회활동지원',\n",
       " 'H': '중소벤처기업부_창업사업화지원',\n",
       " 'I': '보건복지부_생계급여',\n",
       " 'J': '국토교통부_소규모주택정비사업',\n",
       " 'K': '국토교통부_민간임대(융자)',\n",
       " 'L': '고용노동부_조기재취업수당',\n",
       " 'M': '2024년도 성과계획서(총괄편)',\n",
       " 'N': '「FIS 이슈 & 포커스」 23-3호 《조세지출 연계관리》',\n",
       " 'O': '「FIS 이슈 & 포커스」 22-3호 《재정융자사업》',\n",
       " 'P': '월간 나라재정 2023년 12월호'}"
      ]
     },
     "execution_count": 4,
     "metadata": {},
     "output_type": "execute_result"
    }
   ],
   "source": [
    "# 딕셔너리로 파일명과 알파벳 매핑\n",
    "file_mapping = {alphabet[i]: source_list[i] for i in range(len(source_list))}\n",
    "\n",
    "reversed_file_mapping = {value: key for key, value in file_mapping.items()}\n",
    "\n",
    "file_mapping"
   ]
  },
  {
   "cell_type": "code",
   "execution_count": 13,
   "metadata": {},
   "outputs": [
    {
     "name": "stdout",
     "output_type": "stream",
     "text": [
      "가지고 있는 pdf파일들: ['./train_source/1-1 2024 주요 재정통계 1권.pdf'\n",
      " './train_source/2024 나라살림 예산개요.pdf' './train_source/재정통계해설.pdf'\n",
      " './train_source/국토교통부_전세임대(융자).pdf' './train_source/고용노동부_청년일자리창출지원.pdf'\n",
      " './train_source/고용노동부_내일배움카드(일반).pdf'\n",
      " './train_source/보건복지부_노인일자리 및 사회활동지원.pdf'\n",
      " './train_source/중소벤처기업부_창업사업화지원.pdf' './train_source/보건복지부_생계급여.pdf'\n",
      " './train_source/국토교통부_소규모주택정비사업.pdf' './train_source/국토교통부_민간임대(융자).pdf'\n",
      " './train_source/고용노동부_조기재취업수당.pdf' './train_source/2024년도 성과계획서(총괄편).pdf'\n",
      " './train_source/「FIS 이슈 & 포커스」 23-3호 《조세지출 연계관리》.pdf'\n",
      " './train_source/「FIS 이슈 & 포커스」 22-3호 《재정융자사업》.pdf'\n",
      " './train_source/월간 나라재정 2023년 12월호.pdf']\n"
     ]
    },
    {
     "name": "stderr",
     "output_type": "stream",
     "text": [
      "Processing PDFs:   0%|          | 0/16 [00:00<?, ?it/s]"
     ]
    },
    {
     "name": "stdout",
     "output_type": "stream",
     "text": [
      "Processing 1-1 2024 주요 재정통계 1권...\n"
     ]
    },
    {
     "name": "stderr",
     "output_type": "stream",
     "text": [
      "c:\\Users\\kim_h\\anaconda3\\envs\\final\\Lib\\site-packages\\langchain_core\\_api\\deprecation.py:139: LangChainDeprecationWarning: The class `HuggingFaceEmbeddings` was deprecated in LangChain 0.2.2 and will be removed in 0.3.0. An updated version of the class exists in the langchain-huggingface package and should be used instead. To use it run `pip install -U langchain-huggingface` and import as `from langchain_huggingface import HuggingFaceEmbeddings`.\n",
      "  warn_deprecated(\n",
      "Processing PDFs:   6%|▋         | 1/16 [00:08<02:06,  8.42s/it]"
     ]
    },
    {
     "name": "stdout",
     "output_type": "stream",
     "text": [
      "Processing 2024 나라살림 예산개요...\n"
     ]
    },
    {
     "name": "stderr",
     "output_type": "stream",
     "text": [
      "Processing PDFs:  12%|█▎        | 2/16 [00:14<01:42,  7.32s/it]"
     ]
    },
    {
     "name": "stdout",
     "output_type": "stream",
     "text": [
      "Processing 재정통계해설...\n"
     ]
    },
    {
     "name": "stderr",
     "output_type": "stream",
     "text": [
      "Processing PDFs:  19%|█▉        | 3/16 [00:20<01:25,  6.54s/it]"
     ]
    },
    {
     "name": "stdout",
     "output_type": "stream",
     "text": [
      "Processing 국토교통부_전세임대(융자)...\n"
     ]
    },
    {
     "name": "stderr",
     "output_type": "stream",
     "text": [
      "Processing PDFs:  25%|██▌       | 4/16 [00:24<01:06,  5.54s/it]"
     ]
    },
    {
     "name": "stdout",
     "output_type": "stream",
     "text": [
      "Processing 고용노동부_청년일자리창출지원...\n"
     ]
    },
    {
     "name": "stderr",
     "output_type": "stream",
     "text": [
      "Processing PDFs:  31%|███▏      | 5/16 [00:29<00:57,  5.21s/it]"
     ]
    },
    {
     "name": "stdout",
     "output_type": "stream",
     "text": [
      "Processing 고용노동부_내일배움카드(일반)...\n"
     ]
    },
    {
     "name": "stderr",
     "output_type": "stream",
     "text": [
      "Processing PDFs:  38%|███▊      | 6/16 [00:32<00:47,  4.71s/it]"
     ]
    },
    {
     "name": "stdout",
     "output_type": "stream",
     "text": [
      "Processing 보건복지부_노인일자리 및 사회활동지원...\n"
     ]
    },
    {
     "name": "stderr",
     "output_type": "stream",
     "text": [
      "Processing PDFs:  44%|████▍     | 7/16 [00:37<00:40,  4.55s/it]"
     ]
    },
    {
     "name": "stdout",
     "output_type": "stream",
     "text": [
      "Processing 중소벤처기업부_창업사업화지원...\n"
     ]
    },
    {
     "name": "stderr",
     "output_type": "stream",
     "text": [
      "Processing PDFs:  50%|█████     | 8/16 [00:40<00:33,  4.23s/it]"
     ]
    },
    {
     "name": "stdout",
     "output_type": "stream",
     "text": [
      "Processing 보건복지부_생계급여...\n"
     ]
    },
    {
     "name": "stderr",
     "output_type": "stream",
     "text": [
      "Processing PDFs:  56%|█████▋    | 9/16 [00:44<00:27,  4.00s/it]"
     ]
    },
    {
     "name": "stdout",
     "output_type": "stream",
     "text": [
      "Processing 국토교통부_소규모주택정비사업...\n"
     ]
    },
    {
     "name": "stderr",
     "output_type": "stream",
     "text": [
      "Processing PDFs:  62%|██████▎   | 10/16 [00:49<00:26,  4.48s/it]"
     ]
    },
    {
     "name": "stdout",
     "output_type": "stream",
     "text": [
      "Processing 국토교통부_민간임대(융자)...\n"
     ]
    },
    {
     "name": "stderr",
     "output_type": "stream",
     "text": [
      "Processing PDFs:  69%|██████▉   | 11/16 [00:53<00:20,  4.20s/it]"
     ]
    },
    {
     "name": "stdout",
     "output_type": "stream",
     "text": [
      "Processing 고용노동부_조기재취업수당...\n"
     ]
    },
    {
     "name": "stderr",
     "output_type": "stream",
     "text": [
      "Processing PDFs:  75%|███████▌  | 12/16 [00:58<00:17,  4.40s/it]"
     ]
    },
    {
     "name": "stdout",
     "output_type": "stream",
     "text": [
      "Processing 2024년도 성과계획서(총괄편)...\n"
     ]
    },
    {
     "name": "stderr",
     "output_type": "stream",
     "text": [
      "Processing PDFs:  81%|████████▏ | 13/16 [01:04<00:14,  4.85s/it]"
     ]
    },
    {
     "name": "stdout",
     "output_type": "stream",
     "text": [
      "Processing 「FIS 이슈 & 포커스」 23-3호 《조세지출 연계관리》...\n"
     ]
    },
    {
     "name": "stderr",
     "output_type": "stream",
     "text": [
      "Processing PDFs:  88%|████████▊ | 14/16 [01:07<00:09,  4.50s/it]"
     ]
    },
    {
     "name": "stdout",
     "output_type": "stream",
     "text": [
      "Processing 「FIS 이슈 & 포커스」 22-3호 《재정융자사업》...\n"
     ]
    },
    {
     "name": "stderr",
     "output_type": "stream",
     "text": [
      "Processing PDFs:  94%|█████████▍| 15/16 [01:12<00:04,  4.43s/it]"
     ]
    },
    {
     "name": "stdout",
     "output_type": "stream",
     "text": [
      "Processing 월간 나라재정 2023년 12월호...\n"
     ]
    },
    {
     "name": "stderr",
     "output_type": "stream",
     "text": [
      "Processing PDFs: 100%|██████████| 16/16 [01:16<00:00,  4.78s/it]\n"
     ]
    }
   ],
   "source": [
    "# PDF별 FAISS db 생성 \n",
    "save_path = 'train_data'\n",
    "os.makedirs(save_path, exist_ok=True)\n",
    "process_pdfs_from_dataframe_faiss(df, base_directory, save_path, reversed_file_mapping)"
   ]
  },
  {
   "cell_type": "code",
   "execution_count": 5,
   "metadata": {},
   "outputs": [],
   "source": [
    "source = source_list[0]\n",
    "\n",
    "target_df = df[df['Source'] == source][:10]"
   ]
  },
  {
   "cell_type": "code",
   "execution_count": 6,
   "metadata": {},
   "outputs": [
    {
     "data": {
      "text/plain": [
       "'1-1 2024 주요 재정통계 1권'"
      ]
     },
     "execution_count": 6,
     "metadata": {},
     "output_type": "execute_result"
    }
   ],
   "source": [
    "source"
   ]
  },
  {
   "cell_type": "code",
   "execution_count": 7,
   "metadata": {},
   "outputs": [
    {
     "data": {
      "text/plain": [
       "10"
      ]
     },
     "execution_count": 7,
     "metadata": {},
     "output_type": "execute_result"
    }
   ],
   "source": [
    "len(target_df)"
   ]
  },
  {
   "cell_type": "code",
   "execution_count": 8,
   "metadata": {},
   "outputs": [
    {
     "name": "stderr",
     "output_type": "stream",
     "text": [
      "c:\\Users\\kim_h\\anaconda3\\envs\\final\\Lib\\site-packages\\langchain_core\\_api\\deprecation.py:139: LangChainDeprecationWarning: The class `HuggingFaceEmbeddings` was deprecated in LangChain 0.2.2 and will be removed in 0.3.0. An updated version of the class exists in the langchain-huggingface package and should be used instead. To use it run `pip install -U langchain-huggingface` and import as `from langchain_huggingface import HuggingFaceEmbeddings`.\n",
      "  warn_deprecated(\n"
     ]
    }
   ],
   "source": [
    "pipeline = Ragpipeline(f'train_data/{reversed_file_mapping[source]}')"
   ]
  },
  {
   "cell_type": "code",
   "execution_count": 9,
   "metadata": {},
   "outputs": [
    {
     "name": "stderr",
     "output_type": "stream",
     "text": [
      "Answering Questions:   0%|          | 0/10 [00:00<?, ?it/s]"
     ]
    },
    {
     "name": "stdout",
     "output_type": "stream",
     "text": [
      "Question: 2024년 중앙정부 재정체계는 어떻게 구성되어 있나요?\n"
     ]
    },
    {
     "name": "stderr",
     "output_type": "stream",
     "text": [
      "Answering Questions:  10%|█         | 1/10 [01:36<14:28, 96.52s/it]"
     ]
    },
    {
     "name": "stdout",
     "output_type": "stream",
     "text": [
      "Answer: 2024년 중앙정부 재정체계는 일반회계, 특별회계, 기금으로 구분되며, 총수입은 612.2조원으로 예산수입 395.5조원, 기금수입 216.7조원으로 구성되어 있습니다.\n",
      "GT: 2024년 중앙정부 재정체계는 예산(일반·특별회계)과 기금으로 구분되며, 2024년 기준으로 일반회계 1개, 특별회계 21개, 기금 68개로 구성되어 있습니다.\n",
      "\n",
      "Question: 2024년 중앙정부의 예산 지출은 어떻게 구성되어 있나요?\n"
     ]
    },
    {
     "name": "stderr",
     "output_type": "stream",
     "text": [
      "Answering Questions:  20%|██        | 2/10 [02:35<09:53, 74.15s/it]"
     ]
    },
    {
     "name": "stdout",
     "output_type": "stream",
     "text": [
      "Answer: 2024년 기준, 중앙정부 총지출은 의무지출 347.4조원(52.9%)과 재량지출 309.2조원(47.1%)으로 구성되어 있습니다.\n",
      "GT: 2024년 중앙정부의 예산 지출은 일반회계 356.5조원, 21개 특별회계 81.7조원으로 구성되어 있습니다.\n",
      "\n",
      "Question: 기금이 예산과 다른 점은?\n"
     ]
    },
    {
     "name": "stderr",
     "output_type": "stream",
     "text": [
      "Answering Questions:  30%|███       | 3/10 [03:25<07:23, 63.36s/it]"
     ]
    },
    {
     "name": "stdout",
     "output_type": "stream",
     "text": [
      "Answer: 기금의 운용규모는 총지출에서 제외되는 것으로, 2024년 기준으로 외국환평형기금의 운용규모는 205.1조원입니다.\n",
      "GT: 기금은 예산과 구분되는 재정수단으로서 재정운영의 신축성을 기할 필요가 있을 때, 정부가 편성하고 국회에서 심의・의결한 기금운용계획에 의해 운용됩니다.\n",
      "\n",
      "Question: 일반회계, 특별회계, 기금 간의 차이점은 무엇인가요?\n"
     ]
    },
    {
     "name": "stderr",
     "output_type": "stream",
     "text": [
      "Answering Questions:  40%|████      | 4/10 [04:32<06:27, 64.66s/it]"
     ]
    },
    {
     "name": "stdout",
     "output_type": "stream",
     "text": [
      "Answer: 일반회계는 중앙정부가 운영하는 일반적인 예산을 의미하며, 특별회계는 특정 목적이나 업무를 수행하기 위해 별도로 관리되는 예산을 말합니다. 기금은 재정 자산을 운용하여 사회복지 및 공공서비스와 같은 사회적 가치를 창출하는 데 사용되는 재정자산입니다.\n",
      "GT: 일반회계는 특정 사업 운영 및 특정 세입으로 특정 세출을 충당하는데 사용되고, 특별회계는 특정 목적을 위해 특정 자금을 운용하며, 기금은 재정운영의 신축성을 기할 필요가 있을 때 사용됩니다.\n",
      "\n",
      "Question: 2024년 총수입은 얼마이며, 예산수입과 기금수입은 각각 몇 조원인가요?\n"
     ]
    },
    {
     "name": "stderr",
     "output_type": "stream",
     "text": [
      "Answering Questions:  50%|█████     | 5/10 [05:21<04:55, 59.17s/it]"
     ]
    },
    {
     "name": "stdout",
     "output_type": "stream",
     "text": [
      "Answer: 2024년 총수입은 612.2조원이며, 예산수입은 395.5조원, 기금수입은 216.7조원입니다.\n",
      "GT: 2024년 총수입은 612.2조원이며, 예산수입은 395.5조원, 기금수입은 216.7조원입니다.\n",
      "\n",
      "Question: 2024년도 예산수입은 어떻게 구성되어 있나요?\n"
     ]
    },
    {
     "name": "stderr",
     "output_type": "stream",
     "text": [
      "Answering Questions:  60%|██████    | 6/10 [06:47<04:32, 68.17s/it]"
     ]
    },
    {
     "name": "stdout",
     "output_type": "stream",
     "text": [
      "Answer: 2024년 총수입은 일반회계 367.3조원(60.0%), 특별회계 28.2조원(4.6%), 기금 216.7조원(35.4%)으로 구성되었으며, 예산수입은 국세수입 367.3조원, 세외수입 28.2조원으로 구성되어 있습니다.\n",
      "GT: 2024년도 예산수입은 국세수입 367.3조원, 세외수입 28.2조원으로 구성되어 있습니다.\n",
      "\n",
      "Question: 2024년의 기금수입은 어떻게 구성되어 있나요?\n"
     ]
    },
    {
     "name": "stderr",
     "output_type": "stream",
     "text": [
      "Answering Questions:  70%|███████   | 7/10 [07:57<03:26, 68.73s/it]"
     ]
    },
    {
     "name": "stdout",
     "output_type": "stream",
     "text": [
      "Answer: 2024년 기금수입은 사회보장기여금 92.3조원, 융자원금회수 33.8조원, 기타 90.6조원으로 구성되어 있습니다.\n",
      "GT: 2024년도 기금수입은 사회보장성기금 92.3조원, 경상이전수입 39.6조원, 기타 84.7조원으로 구성되어 있습니다.\n",
      "\n",
      "Question: 2024년 국세수입은 얼마이며, 일반회계와 특별회계의 규모는 각각 얼마인가요?\n"
     ]
    },
    {
     "name": "stderr",
     "output_type": "stream",
     "text": [
      "Answering Questions:  80%|████████  | 8/10 [08:50<02:07, 63.91s/it]"
     ]
    },
    {
     "name": "stdout",
     "output_type": "stream",
     "text": [
      "Answer: 2024년 국세수입은 367.3조원이며, 일반회계는 356.1조원, 특별회계는 11.2조원입니다.\n",
      "GT: 2024년 국세수입은 367.3조원이며, 일반회계는 356.1조원, 특별회계는 11.2조원입니다.\n",
      "\n",
      "Question: 2024년도 국세수입 중 일반회계 내국세수입은 몇 조원인가요?\n"
     ]
    },
    {
     "name": "stderr",
     "output_type": "stream",
     "text": [
      "Answering Questions:  90%|█████████ | 9/10 [09:31<00:56, 56.59s/it]"
     ]
    },
    {
     "name": "stdout",
     "output_type": "stream",
     "text": [
      "Answer: 2024년 국세수입 중 일반회계 내국세수입은 321.6조원입니다.\n",
      "GT: 2024년도 일반회계 내국세수입은 321.6조원입니다.\n",
      "\n",
      "Question: 2024년도 세외수입 규모와 구성은 어떤가요?\n"
     ]
    },
    {
     "name": "stderr",
     "output_type": "stream",
     "text": [
      "Answering Questions: 100%|██████████| 10/10 [10:25<00:00, 62.50s/it]"
     ]
    },
    {
     "name": "stdout",
     "output_type": "stream",
     "text": [
      "Answer: 2024년 총세외수입은 28.2조원으로, 이는 전년보다 0.3% 증가했습니다. 세외수입은 총수입의 7.1%를 차지하며, 주요 구성 요소로는 경상이전수입 6.9조원, 재산수입 2.9조원, 기업특별회계영업수입 8.1조원이 포함됩니다.\n",
      "GT: 2024년 세외수입은 일반회계에서 11.2조원, 특별회계에서 17.0조원으로 나타났습니다.\n",
      "\n"
     ]
    },
    {
     "name": "stderr",
     "output_type": "stream",
     "text": [
      "\n"
     ]
    }
   ],
   "source": [
    "# 결과를 저장할 리스트 초기화\n",
    "results = []\n",
    "\n",
    "for _, row in tqdm(target_df.iterrows(), total=len(target_df), desc=f\"Answering Questions\"):\n",
    "    # 소스 문자열 정규화\n",
    "    source = normalize_path(row['Source'])\n",
    "    \n",
    "    # 질문 \n",
    "    question = row['Question']\n",
    "    print(f\"Question: {question}\")\n",
    "    \n",
    "    # 대답\n",
    "    full_response = pipeline.answer_generation(question)\n",
    "    first_line_response = full_response.split(\"\\n\")[0]\n",
    "    print(f\"Answer: {first_line_response}\")\n",
    "    \n",
    "    # 정답 \n",
    "    print(f\"GT: {row['Answer']}\\n\")\n",
    "    \n",
    "    # 결과 저장\n",
    "    results.append({\n",
    "        \"Answer\": first_line_response,\n",
    "        \"GT\": row['Answer']\n",
    "    })\n",
    "    \n"
   ]
  },
  {
   "cell_type": "code",
   "execution_count": 10,
   "metadata": {},
   "outputs": [
    {
     "data": {
      "text/plain": [
       "[{'Answer': '2024년 중앙정부 재정체계는 일반회계, 특별회계, 기금으로 구분되며, 총수입은 612.2조원으로 예산수입 395.5조원, 기금수입 216.7조원으로 구성되어 있습니다.',\n",
       "  'GT': '2024년 중앙정부 재정체계는 예산(일반·특별회계)과 기금으로 구분되며, 2024년 기준으로 일반회계 1개, 특별회계 21개, 기금 68개로 구성되어 있습니다.'},\n",
       " {'Answer': '2024년 기준, 중앙정부 총지출은 의무지출 347.4조원(52.9%)과 재량지출 309.2조원(47.1%)으로 구성되어 있습니다.',\n",
       "  'GT': '2024년 중앙정부의 예산 지출은 일반회계 356.5조원, 21개 특별회계 81.7조원으로 구성되어 있습니다.'},\n",
       " {'Answer': '기금의 운용규모는 총지출에서 제외되는 것으로, 2024년 기준으로 외국환평형기금의 운용규모는 205.1조원입니다.',\n",
       "  'GT': '기금은 예산과 구분되는 재정수단으로서 재정운영의 신축성을 기할 필요가 있을 때, 정부가 편성하고 국회에서 심의・의결한 기금운용계획에 의해 운용됩니다.'},\n",
       " {'Answer': '일반회계는 중앙정부가 운영하는 일반적인 예산을 의미하며, 특별회계는 특정 목적이나 업무를 수행하기 위해 별도로 관리되는 예산을 말합니다. 기금은 재정 자산을 운용하여 사회복지 및 공공서비스와 같은 사회적 가치를 창출하는 데 사용되는 재정자산입니다.',\n",
       "  'GT': '일반회계는 특정 사업 운영 및 특정 세입으로 특정 세출을 충당하는데 사용되고, 특별회계는 특정 목적을 위해 특정 자금을 운용하며, 기금은 재정운영의 신축성을 기할 필요가 있을 때 사용됩니다.'},\n",
       " {'Answer': '2024년 총수입은 612.2조원이며, 예산수입은 395.5조원, 기금수입은 216.7조원입니다.',\n",
       "  'GT': '2024년 총수입은 612.2조원이며, 예산수입은 395.5조원, 기금수입은 216.7조원입니다.'},\n",
       " {'Answer': '2024년 총수입은 일반회계 367.3조원(60.0%), 특별회계 28.2조원(4.6%), 기금 216.7조원(35.4%)으로 구성되었으며, 예산수입은 국세수입 367.3조원, 세외수입 28.2조원으로 구성되어 있습니다.',\n",
       "  'GT': '2024년도 예산수입은 국세수입 367.3조원, 세외수입 28.2조원으로 구성되어 있습니다.'},\n",
       " {'Answer': '2024년 기금수입은 사회보장기여금 92.3조원, 융자원금회수 33.8조원, 기타 90.6조원으로 구성되어 있습니다.',\n",
       "  'GT': '2024년도 기금수입은 사회보장성기금 92.3조원, 경상이전수입 39.6조원, 기타 84.7조원으로 구성되어 있습니다.'},\n",
       " {'Answer': '2024년 국세수입은 367.3조원이며, 일반회계는 356.1조원, 특별회계는 11.2조원입니다.',\n",
       "  'GT': '2024년 국세수입은 367.3조원이며, 일반회계는 356.1조원, 특별회계는 11.2조원입니다.'},\n",
       " {'Answer': '2024년 국세수입 중 일반회계 내국세수입은 321.6조원입니다.',\n",
       "  'GT': '2024년도 일반회계 내국세수입은 321.6조원입니다.'},\n",
       " {'Answer': '2024년 총세외수입은 28.2조원으로, 이는 전년보다 0.3% 증가했습니다. 세외수입은 총수입의 7.1%를 차지하며, 주요 구성 요소로는 경상이전수입 6.9조원, 재산수입 2.9조원, 기업특별회계영업수입 8.1조원이 포함됩니다.',\n",
       "  'GT': '2024년 세외수입은 일반회계에서 11.2조원, 특별회계에서 17.0조원으로 나타났습니다.'}]"
      ]
     },
     "execution_count": 10,
     "metadata": {},
     "output_type": "execute_result"
    }
   ],
   "source": [
    "results"
   ]
  },
  {
   "cell_type": "code",
   "execution_count": 13,
   "metadata": {},
   "outputs": [
    {
     "data": {
      "text/html": [
       "<div>\n",
       "<style scoped>\n",
       "    .dataframe tbody tr th:only-of-type {\n",
       "        vertical-align: middle;\n",
       "    }\n",
       "\n",
       "    .dataframe tbody tr th {\n",
       "        vertical-align: top;\n",
       "    }\n",
       "\n",
       "    .dataframe thead th {\n",
       "        text-align: right;\n",
       "    }\n",
       "</style>\n",
       "<table border=\"1\" class=\"dataframe\">\n",
       "  <thead>\n",
       "    <tr style=\"text-align: right;\">\n",
       "      <th></th>\n",
       "      <th>Answer</th>\n",
       "      <th>GT</th>\n",
       "    </tr>\n",
       "  </thead>\n",
       "  <tbody>\n",
       "    <tr>\n",
       "      <th>0</th>\n",
       "      <td>2024년 중앙정부 재정체계는 일반회계, 특별회계, 기금으로 구분되며, 총수입은 6...</td>\n",
       "      <td>2024년 중앙정부 재정체계는 예산(일반·특별회계)과 기금으로 구분되며, 2024년...</td>\n",
       "    </tr>\n",
       "    <tr>\n",
       "      <th>1</th>\n",
       "      <td>2024년 기준, 중앙정부 총지출은 의무지출 347.4조원(52.9%)과 재량지출 ...</td>\n",
       "      <td>2024년 중앙정부의 예산 지출은 일반회계 356.5조원, 21개 특별회계 81.7...</td>\n",
       "    </tr>\n",
       "    <tr>\n",
       "      <th>2</th>\n",
       "      <td>기금의 운용규모는 총지출에서 제외되는 것으로, 2024년 기준으로 외국환평형기금의 ...</td>\n",
       "      <td>기금은 예산과 구분되는 재정수단으로서 재정운영의 신축성을 기할 필요가 있을 때, 정...</td>\n",
       "    </tr>\n",
       "    <tr>\n",
       "      <th>3</th>\n",
       "      <td>일반회계는 중앙정부가 운영하는 일반적인 예산을 의미하며, 특별회계는 특정 목적이나 ...</td>\n",
       "      <td>일반회계는 특정 사업 운영 및 특정 세입으로 특정 세출을 충당하는데 사용되고, 특별...</td>\n",
       "    </tr>\n",
       "    <tr>\n",
       "      <th>4</th>\n",
       "      <td>2024년 총수입은 612.2조원이며, 예산수입은 395.5조원, 기금수입은 216...</td>\n",
       "      <td>2024년 총수입은 612.2조원이며, 예산수입은 395.5조원, 기금수입은 216...</td>\n",
       "    </tr>\n",
       "  </tbody>\n",
       "</table>\n",
       "</div>"
      ],
      "text/plain": [
       "                                              Answer  \\\n",
       "0  2024년 중앙정부 재정체계는 일반회계, 특별회계, 기금으로 구분되며, 총수입은 6...   \n",
       "1  2024년 기준, 중앙정부 총지출은 의무지출 347.4조원(52.9%)과 재량지출 ...   \n",
       "2  기금의 운용규모는 총지출에서 제외되는 것으로, 2024년 기준으로 외국환평형기금의 ...   \n",
       "3  일반회계는 중앙정부가 운영하는 일반적인 예산을 의미하며, 특별회계는 특정 목적이나 ...   \n",
       "4  2024년 총수입은 612.2조원이며, 예산수입은 395.5조원, 기금수입은 216...   \n",
       "\n",
       "                                                  GT  \n",
       "0  2024년 중앙정부 재정체계는 예산(일반·특별회계)과 기금으로 구분되며, 2024년...  \n",
       "1  2024년 중앙정부의 예산 지출은 일반회계 356.5조원, 21개 특별회계 81.7...  \n",
       "2  기금은 예산과 구분되는 재정수단으로서 재정운영의 신축성을 기할 필요가 있을 때, 정...  \n",
       "3  일반회계는 특정 사업 운영 및 특정 세입으로 특정 세출을 충당하는데 사용되고, 특별...  \n",
       "4  2024년 총수입은 612.2조원이며, 예산수입은 395.5조원, 기금수입은 216...  "
      ]
     },
     "execution_count": 13,
     "metadata": {},
     "output_type": "execute_result"
    }
   ],
   "source": [
    "# results 리스트를 DataFrame으로 변환\n",
    "df_results = pd.DataFrame(results)\n",
    "\n",
    "# 데이터프레임 출력\n",
    "df_results.head()"
   ]
  },
  {
   "cell_type": "code",
   "execution_count": 14,
   "metadata": {},
   "outputs": [],
   "source": [
    "pred = df_results['Answer']\n",
    "gt = df_results['GT']"
   ]
  },
  {
   "cell_type": "code",
   "execution_count": 15,
   "metadata": {},
   "outputs": [
    {
     "name": "stdout",
     "output_type": "stream",
     "text": [
      "{'average_precision': 0.6533942918524156, 'average_recall': 0.7941418473460277, 'average_f1_score': 0.6994855122810903}\n"
     ]
    }
   ],
   "source": [
    "f1_score = calculate_average_f1_score(gt, pred)\n",
    "print(f1_score)"
   ]
  },
  {
   "cell_type": "code",
   "execution_count": null,
   "metadata": {},
   "outputs": [],
   "source": []
  }
 ],
 "metadata": {
  "kernelspec": {
   "display_name": "final",
   "language": "python",
   "name": "python3"
  },
  "language_info": {
   "codemirror_mode": {
    "name": "ipython",
    "version": 3
   },
   "file_extension": ".py",
   "mimetype": "text/x-python",
   "name": "python",
   "nbconvert_exporter": "python",
   "pygments_lexer": "ipython3",
   "version": "3.11.9"
  }
 },
 "nbformat": 4,
 "nbformat_minor": 2
}

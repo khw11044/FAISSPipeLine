{
 "cells": [
  {
   "cell_type": "code",
   "execution_count": 2,
   "metadata": {},
   "outputs": [],
   "source": [
    "\n",
    "from utils.prompt import template\n",
    "from utils.utils import process_pdfs_from_dataframe, process_pdfs_from_dataframe_faiss\n",
    "import os \n",
    "import string\n",
    "import pandas as pd \n",
    "from tqdm.autonotebook import tqdm\n",
    "\n",
    "from utils.RagPipeline import Ragpipeline\n",
    "\n",
    "from utils.utils import normalize_path\n",
    "from utils.cal import calculate_average_f1_score"
   ]
  },
  {
   "cell_type": "markdown",
   "metadata": {},
   "source": [
    "## Dense DB (Vector DB) 및 Sparse DB\n",
    "\n",
    "test.csv에서 질문들에 매칭되는 소스(pdf) 정보가 주어진다. \n",
    "\n",
    "각 질문에 따른 소스에 접근을 하고 리트리버를 사용해도 되기 때문에 \n",
    "\n",
    "각 질문에 따른 소스별 DB를 만들어주자"
   ]
  },
  {
   "cell_type": "code",
   "execution_count": 3,
   "metadata": {},
   "outputs": [
    {
     "data": {
      "text/html": [
       "<div>\n",
       "<style scoped>\n",
       "    .dataframe tbody tr th:only-of-type {\n",
       "        vertical-align: middle;\n",
       "    }\n",
       "\n",
       "    .dataframe tbody tr th {\n",
       "        vertical-align: top;\n",
       "    }\n",
       "\n",
       "    .dataframe thead th {\n",
       "        text-align: right;\n",
       "    }\n",
       "</style>\n",
       "<table border=\"1\" class=\"dataframe\">\n",
       "  <thead>\n",
       "    <tr style=\"text-align: right;\">\n",
       "      <th></th>\n",
       "      <th>SAMPLE_ID</th>\n",
       "      <th>Source</th>\n",
       "      <th>Source_path</th>\n",
       "      <th>Question</th>\n",
       "      <th>Answer</th>\n",
       "    </tr>\n",
       "  </thead>\n",
       "  <tbody>\n",
       "    <tr>\n",
       "      <th>0</th>\n",
       "      <td>TRAIN_000</td>\n",
       "      <td>1-1 2024 주요 재정통계 1권</td>\n",
       "      <td>./train_source/1-1 2024 주요 재정통계 1권.pdf</td>\n",
       "      <td>2024년 중앙정부 재정체계는 어떻게 구성되어 있나요?</td>\n",
       "      <td>2024년 중앙정부 재정체계는 예산(일반·특별회계)과 기금으로 구분되며, 2024년...</td>\n",
       "    </tr>\n",
       "    <tr>\n",
       "      <th>1</th>\n",
       "      <td>TRAIN_001</td>\n",
       "      <td>1-1 2024 주요 재정통계 1권</td>\n",
       "      <td>./train_source/1-1 2024 주요 재정통계 1권.pdf</td>\n",
       "      <td>2024년 중앙정부의 예산 지출은 어떻게 구성되어 있나요?</td>\n",
       "      <td>2024년 중앙정부의 예산 지출은 일반회계 356.5조원, 21개 특별회계 81.7...</td>\n",
       "    </tr>\n",
       "    <tr>\n",
       "      <th>2</th>\n",
       "      <td>TRAIN_002</td>\n",
       "      <td>1-1 2024 주요 재정통계 1권</td>\n",
       "      <td>./train_source/1-1 2024 주요 재정통계 1권.pdf</td>\n",
       "      <td>기금이 예산과 다른 점은?</td>\n",
       "      <td>기금은 예산과 구분되는 재정수단으로서 재정운영의 신축성을 기할 필요가 있을 때, 정...</td>\n",
       "    </tr>\n",
       "    <tr>\n",
       "      <th>3</th>\n",
       "      <td>TRAIN_003</td>\n",
       "      <td>1-1 2024 주요 재정통계 1권</td>\n",
       "      <td>./train_source/1-1 2024 주요 재정통계 1권.pdf</td>\n",
       "      <td>일반회계, 특별회계, 기금 간의 차이점은 무엇인가요?</td>\n",
       "      <td>일반회계는 특정 사업 운영 및 특정 세입으로 특정 세출을 충당하는데 사용되고, 특별...</td>\n",
       "    </tr>\n",
       "    <tr>\n",
       "      <th>4</th>\n",
       "      <td>TRAIN_004</td>\n",
       "      <td>1-1 2024 주요 재정통계 1권</td>\n",
       "      <td>./train_source/1-1 2024 주요 재정통계 1권.pdf</td>\n",
       "      <td>2024년 총수입은 얼마이며, 예산수입과 기금수입은 각각 몇 조원인가요?</td>\n",
       "      <td>2024년 총수입은 612.2조원이며, 예산수입은 395.5조원, 기금수입은 216...</td>\n",
       "    </tr>\n",
       "  </tbody>\n",
       "</table>\n",
       "</div>"
      ],
      "text/plain": [
       "   SAMPLE_ID               Source                             Source_path  \\\n",
       "0  TRAIN_000  1-1 2024 주요 재정통계 1권  ./train_source/1-1 2024 주요 재정통계 1권.pdf   \n",
       "1  TRAIN_001  1-1 2024 주요 재정통계 1권  ./train_source/1-1 2024 주요 재정통계 1권.pdf   \n",
       "2  TRAIN_002  1-1 2024 주요 재정통계 1권  ./train_source/1-1 2024 주요 재정통계 1권.pdf   \n",
       "3  TRAIN_003  1-1 2024 주요 재정통계 1권  ./train_source/1-1 2024 주요 재정통계 1권.pdf   \n",
       "4  TRAIN_004  1-1 2024 주요 재정통계 1권  ./train_source/1-1 2024 주요 재정통계 1권.pdf   \n",
       "\n",
       "                                   Question  \\\n",
       "0            2024년 중앙정부 재정체계는 어떻게 구성되어 있나요?   \n",
       "1          2024년 중앙정부의 예산 지출은 어떻게 구성되어 있나요?   \n",
       "2                            기금이 예산과 다른 점은?   \n",
       "3             일반회계, 특별회계, 기금 간의 차이점은 무엇인가요?   \n",
       "4  2024년 총수입은 얼마이며, 예산수입과 기금수입은 각각 몇 조원인가요?   \n",
       "\n",
       "                                              Answer  \n",
       "0  2024년 중앙정부 재정체계는 예산(일반·특별회계)과 기금으로 구분되며, 2024년...  \n",
       "1  2024년 중앙정부의 예산 지출은 일반회계 356.5조원, 21개 특별회계 81.7...  \n",
       "2  기금은 예산과 구분되는 재정수단으로서 재정운영의 신축성을 기할 필요가 있을 때, 정...  \n",
       "3  일반회계는 특정 사업 운영 및 특정 세입으로 특정 세출을 충당하는데 사용되고, 특별...  \n",
       "4  2024년 총수입은 612.2조원이며, 예산수입은 395.5조원, 기금수입은 216...  "
      ]
     },
     "execution_count": 3,
     "metadata": {},
     "output_type": "execute_result"
    }
   ],
   "source": [
    "df = pd.read_csv('../open/train.csv')\n",
    "base_directory = '../open' # Your Base Directory\n",
    "\n",
    "df.head()"
   ]
  },
  {
   "cell_type": "code",
   "execution_count": 4,
   "metadata": {},
   "outputs": [],
   "source": [
    "source_list = list(df['Source'].unique())\n",
    "\n",
    "# 알파벳 리스트\n",
    "alphabet = list(string.ascii_uppercase)"
   ]
  },
  {
   "cell_type": "code",
   "execution_count": 5,
   "metadata": {},
   "outputs": [
    {
     "data": {
      "text/plain": [
       "{'A': '1-1 2024 주요 재정통계 1권',\n",
       " 'B': '2024 나라살림 예산개요',\n",
       " 'C': '재정통계해설',\n",
       " 'D': '국토교통부_전세임대(융자)',\n",
       " 'E': '고용노동부_청년일자리창출지원',\n",
       " 'F': '고용노동부_내일배움카드(일반)',\n",
       " 'G': '보건복지부_노인일자리 및 사회활동지원',\n",
       " 'H': '중소벤처기업부_창업사업화지원',\n",
       " 'I': '보건복지부_생계급여',\n",
       " 'J': '국토교통부_소규모주택정비사업',\n",
       " 'K': '국토교통부_민간임대(융자)',\n",
       " 'L': '고용노동부_조기재취업수당',\n",
       " 'M': '2024년도 성과계획서(총괄편)',\n",
       " 'N': '「FIS 이슈 & 포커스」 23-3호 《조세지출 연계관리》',\n",
       " 'O': '「FIS 이슈 & 포커스」 22-3호 《재정융자사업》',\n",
       " 'P': '월간 나라재정 2023년 12월호'}"
      ]
     },
     "execution_count": 5,
     "metadata": {},
     "output_type": "execute_result"
    }
   ],
   "source": [
    "# 딕셔너리로 파일명과 알파벳 매핑\n",
    "file_mapping = {alphabet[i]: source_list[i] for i in range(len(source_list))}\n",
    "\n",
    "reversed_file_mapping = {value: key for key, value in file_mapping.items()}\n",
    "\n",
    "file_mapping"
   ]
  },
  {
   "cell_type": "code",
   "execution_count": 5,
   "metadata": {},
   "outputs": [
    {
     "name": "stdout",
     "output_type": "stream",
     "text": [
      "가지고 있는 pdf파일들: ['./train_source/1-1 2024 주요 재정통계 1권.pdf'\n",
      " './train_source/2024 나라살림 예산개요.pdf' './train_source/재정통계해설.pdf'\n",
      " './train_source/국토교통부_전세임대(융자).pdf' './train_source/고용노동부_청년일자리창출지원.pdf'\n",
      " './train_source/고용노동부_내일배움카드(일반).pdf'\n",
      " './train_source/보건복지부_노인일자리 및 사회활동지원.pdf'\n",
      " './train_source/중소벤처기업부_창업사업화지원.pdf' './train_source/보건복지부_생계급여.pdf'\n",
      " './train_source/국토교통부_소규모주택정비사업.pdf' './train_source/국토교통부_민간임대(융자).pdf'\n",
      " './train_source/고용노동부_조기재취업수당.pdf' './train_source/2024년도 성과계획서(총괄편).pdf'\n",
      " './train_source/「FIS 이슈 & 포커스」 23-3호 《조세지출 연계관리》.pdf'\n",
      " './train_source/「FIS 이슈 & 포커스」 22-3호 《재정융자사업》.pdf'\n",
      " './train_source/월간 나라재정 2023년 12월호.pdf']\n"
     ]
    },
    {
     "name": "stderr",
     "output_type": "stream",
     "text": [
      "Processing PDFs:   0%|          | 0/16 [00:00<?, ?it/s]"
     ]
    },
    {
     "name": "stdout",
     "output_type": "stream",
     "text": [
      "Processing 1-1 2024 주요 재정통계 1권...\n"
     ]
    },
    {
     "name": "stderr",
     "output_type": "stream",
     "text": [
      "c:\\Users\\kim_h\\anaconda3\\envs\\final\\Lib\\site-packages\\langchain_core\\_api\\deprecation.py:141: LangChainDeprecationWarning: The class `HuggingFaceEmbeddings` was deprecated in LangChain 0.2.2 and will be removed in 0.3.0. An updated version of the class exists in the langchain-huggingface package and should be used instead. To use it run `pip install -U langchain-huggingface` and import as `from langchain_huggingface import HuggingFaceEmbeddings`.\n",
      "  warn_deprecated(\n",
      "Processing PDFs:   6%|▋         | 1/16 [00:23<05:53, 23.60s/it]"
     ]
    },
    {
     "name": "stdout",
     "output_type": "stream",
     "text": [
      "Processing 2024 나라살림 예산개요...\n"
     ]
    },
    {
     "name": "stderr",
     "output_type": "stream",
     "text": [
      "Processing PDFs:  12%|█▎        | 2/16 [01:06<08:09, 34.97s/it]"
     ]
    },
    {
     "name": "stdout",
     "output_type": "stream",
     "text": [
      "Processing 재정통계해설...\n"
     ]
    },
    {
     "name": "stderr",
     "output_type": "stream",
     "text": [
      "Processing PDFs:  19%|█▉        | 3/16 [01:21<05:37, 25.95s/it]"
     ]
    },
    {
     "name": "stdout",
     "output_type": "stream",
     "text": [
      "Processing 국토교통부_전세임대(융자)...\n"
     ]
    },
    {
     "name": "stderr",
     "output_type": "stream",
     "text": [
      "Processing PDFs:  25%|██▌       | 4/16 [01:27<03:35, 17.96s/it]"
     ]
    },
    {
     "name": "stdout",
     "output_type": "stream",
     "text": [
      "Processing 고용노동부_청년일자리창출지원...\n"
     ]
    },
    {
     "name": "stderr",
     "output_type": "stream",
     "text": [
      "Processing PDFs:  31%|███▏      | 5/16 [01:32<02:26, 13.32s/it]"
     ]
    },
    {
     "name": "stdout",
     "output_type": "stream",
     "text": [
      "Processing 고용노동부_내일배움카드(일반)...\n"
     ]
    },
    {
     "name": "stderr",
     "output_type": "stream",
     "text": [
      "Processing PDFs:  38%|███▊      | 6/16 [01:37<01:44, 10.44s/it]"
     ]
    },
    {
     "name": "stdout",
     "output_type": "stream",
     "text": [
      "Processing 보건복지부_노인일자리 및 사회활동지원...\n"
     ]
    },
    {
     "name": "stderr",
     "output_type": "stream",
     "text": [
      "Processing PDFs:  44%|████▍     | 7/16 [01:42<01:18,  8.72s/it]"
     ]
    },
    {
     "name": "stdout",
     "output_type": "stream",
     "text": [
      "Processing 중소벤처기업부_창업사업화지원...\n"
     ]
    },
    {
     "name": "stderr",
     "output_type": "stream",
     "text": [
      "Processing PDFs:  50%|█████     | 8/16 [01:47<00:59,  7.39s/it]"
     ]
    },
    {
     "name": "stdout",
     "output_type": "stream",
     "text": [
      "Processing 보건복지부_생계급여...\n"
     ]
    },
    {
     "name": "stderr",
     "output_type": "stream",
     "text": [
      "Processing PDFs:  56%|█████▋    | 9/16 [01:52<00:46,  6.70s/it]"
     ]
    },
    {
     "name": "stdout",
     "output_type": "stream",
     "text": [
      "Processing 국토교통부_소규모주택정비사업...\n"
     ]
    },
    {
     "name": "stderr",
     "output_type": "stream",
     "text": [
      "Processing PDFs:  62%|██████▎   | 10/16 [01:57<00:38,  6.38s/it]"
     ]
    },
    {
     "name": "stdout",
     "output_type": "stream",
     "text": [
      "Processing 국토교통부_민간임대(융자)...\n"
     ]
    },
    {
     "name": "stderr",
     "output_type": "stream",
     "text": [
      "Processing PDFs:  69%|██████▉   | 11/16 [02:04<00:32,  6.54s/it]"
     ]
    },
    {
     "name": "stdout",
     "output_type": "stream",
     "text": [
      "Processing 고용노동부_조기재취업수당...\n"
     ]
    },
    {
     "name": "stderr",
     "output_type": "stream",
     "text": [
      "Processing PDFs:  75%|███████▌  | 12/16 [02:10<00:25,  6.33s/it]"
     ]
    },
    {
     "name": "stdout",
     "output_type": "stream",
     "text": [
      "Processing 2024년도 성과계획서(총괄편)...\n"
     ]
    },
    {
     "name": "stderr",
     "output_type": "stream",
     "text": [
      "Processing PDFs:  81%|████████▏ | 13/16 [03:00<00:58, 19.58s/it]"
     ]
    },
    {
     "name": "stdout",
     "output_type": "stream",
     "text": [
      "Processing 「FIS 이슈 & 포커스」 23-3호 《조세지출 연계관리》...\n"
     ]
    },
    {
     "name": "stderr",
     "output_type": "stream",
     "text": [
      "Processing PDFs:  88%|████████▊ | 14/16 [03:07<00:31, 15.55s/it]"
     ]
    },
    {
     "name": "stdout",
     "output_type": "stream",
     "text": [
      "Processing 「FIS 이슈 & 포커스」 22-3호 《재정융자사업》...\n"
     ]
    },
    {
     "name": "stderr",
     "output_type": "stream",
     "text": [
      "Processing PDFs:  94%|█████████▍| 15/16 [03:12<00:12, 12.59s/it]"
     ]
    },
    {
     "name": "stdout",
     "output_type": "stream",
     "text": [
      "Processing 월간 나라재정 2023년 12월호...\n"
     ]
    },
    {
     "name": "stderr",
     "output_type": "stream",
     "text": [
      "Processing PDFs: 100%|██████████| 16/16 [03:30<00:00, 13.16s/it]\n"
     ]
    }
   ],
   "source": [
    "# # PDF별 FAISS db 생성 \n",
    "# from config import config\n",
    "# process_pdfs_from_dataframe_faiss(config, df, base_directory, reversed_file_mapping, save_path='./train_data')"
   ]
  },
  {
   "cell_type": "code",
   "execution_count": 6,
   "metadata": {},
   "outputs": [],
   "source": [
    "source = source_list[0]\n",
    "\n",
    "target_df = df[df['Source'] == source][:]"
   ]
  },
  {
   "cell_type": "code",
   "execution_count": 7,
   "metadata": {},
   "outputs": [
    {
     "data": {
      "text/plain": [
       "'1-1 2024 주요 재정통계 1권'"
      ]
     },
     "execution_count": 7,
     "metadata": {},
     "output_type": "execute_result"
    }
   ],
   "source": [
    "source"
   ]
  },
  {
   "cell_type": "code",
   "execution_count": 8,
   "metadata": {},
   "outputs": [
    {
     "data": {
      "text/plain": [
       "50"
      ]
     },
     "execution_count": 8,
     "metadata": {},
     "output_type": "execute_result"
    }
   ],
   "source": [
    "len(target_df)"
   ]
  },
  {
   "cell_type": "code",
   "execution_count": 10,
   "metadata": {},
   "outputs": [],
   "source": [
    "from config import config"
   ]
  },
  {
   "cell_type": "code",
   "execution_count": 11,
   "metadata": {},
   "outputs": [
    {
     "name": "stderr",
     "output_type": "stream",
     "text": [
      "c:\\Users\\kim_h\\anaconda3\\envs\\final\\Lib\\site-packages\\langchain_core\\_api\\deprecation.py:141: LangChainDeprecationWarning: The class `HuggingFaceEmbeddings` was deprecated in LangChain 0.2.2 and will be removed in 0.3.0. An updated version of the class exists in the langchain-huggingface package and should be used instead. To use it run `pip install -U langchain-huggingface` and import as `from langchain_huggingface import HuggingFaceEmbeddings`.\n",
      "  warn_deprecated(\n",
      "Answering Questions:   0%|          | 0/50 [00:00<?, ?it/s]"
     ]
    },
    {
     "name": "stdout",
     "output_type": "stream",
     "text": [
      "Question: 2024년 중앙정부 재정체계는 어떻게 구성되어 있나요?\n"
     ]
    },
    {
     "name": "stderr",
     "output_type": "stream",
     "text": [
      "Answering Questions:   2%|▏         | 1/50 [00:30<25:16, 30.94s/it]"
     ]
    },
    {
     "name": "stdout",
     "output_type": "stream",
     "text": [
      "Answer: 2024년 기준으로 중앙정부 재정체계는 일반회계 1개, 특별회계 21개, 기금 68개로 구성되어 있습니다.\n",
      "GT: 2024년 중앙정부 재정체계는 예산(일반·특별회계)과 기금으로 구분되며, 2024년 기준으로 일반회계 1개, 특별회계 21개, 기금 68개로 구성되어 있습니다.\n",
      "\n",
      "Question: 2024년 중앙정부의 예산 지출은 어떻게 구성되어 있나요?\n"
     ]
    },
    {
     "name": "stderr",
     "output_type": "stream",
     "text": [
      "Answering Questions:   4%|▍         | 2/50 [00:44<16:41, 20.86s/it]"
     ]
    },
    {
     "name": "stdout",
     "output_type": "stream",
     "text": [
      "Answer: 2024년 중앙정부의 예산 지출은 일반회계 356.5조원, 특별회계 81.7조원으로 구성되어 있습니다.\n",
      "GT: 2024년 중앙정부의 예산 지출은 일반회계 356.5조원, 21개 특별회계 81.7조원으로 구성되어 있습니다.\n",
      "\n",
      "Question: 기금이 예산과 다른 점은?\n"
     ]
    },
    {
     "name": "stderr",
     "output_type": "stream",
     "text": [
      "Answering Questions:   6%|▌         | 3/50 [01:17<20:29, 26.17s/it]"
     ]
    },
    {
     "name": "stdout",
     "output_type": "stream",
     "text": [
      "Answer: 기금은 예산과 구분되는 재정체계로, 2024년 기준으로 일반회계 1개, 특별회계 21개, 기금 68개로 구성됩니다. 또한, 기금은 사업성, 사회보험성, 계정성 등으로 구분되며, 2024년 지출은 각각 81.2조원, 107.1조원, 30.1조원으로 이루어집니다.\n",
      "GT: 기금은 예산과 구분되는 재정수단으로서 재정운영의 신축성을 기할 필요가 있을 때, 정부가 편성하고 국회에서 심의・의결한 기금운용계획에 의해 운용됩니다.\n",
      "\n",
      "Question: 일반회계, 특별회계, 기금 간의 차이점은 무엇인가요?\n"
     ]
    },
    {
     "name": "stderr",
     "output_type": "stream",
     "text": [
      "Answering Questions:   8%|▊         | 4/50 [01:46<20:52, 27.23s/it]"
     ]
    },
    {
     "name": "stdout",
     "output_type": "stream",
     "text": [
      "Answer: 일반회계는 특정 사업 운영 및 특정 세입으로 특정 목적의 지출을 충당하는데 사용되며, 특별회계는 특정한 재원으로 특정한 목적의 지출을 충당하는 회계입니다. 기금은 일반·특별회계 예산과는 달리 계획 변경이 가능하고 여유자금을 운용할 수 있는 특징을 가지고 있습니다.\n",
      "GT: 일반회계는 특정 사업 운영 및 특정 세입으로 특정 세출을 충당하는데 사용되고, 특별회계는 특정 목적을 위해 특정 자금을 운용하며, 기금은 재정운영의 신축성을 기할 필요가 있을 때 사용됩니다.\n",
      "\n",
      "Question: 2024년 총수입은 얼마이며, 예산수입과 기금수입은 각각 몇 조원인가요?\n"
     ]
    },
    {
     "name": "stderr",
     "output_type": "stream",
     "text": [
      "Answering Questions:  10%|█         | 5/50 [02:01<17:13, 22.97s/it]"
     ]
    },
    {
     "name": "stdout",
     "output_type": "stream",
     "text": [
      "Answer: 2024년 총수입은 612.2조원이며, 예산수입은 395.5조원, 기금수입은 216.7조원입니다.\n",
      "GT: 2024년 총수입은 612.2조원이며, 예산수입은 395.5조원, 기금수입은 216.7조원입니다.\n",
      "\n",
      "Question: 2024년도 예산수입은 어떻게 구성되어 있나요?\n"
     ]
    },
    {
     "name": "stderr",
     "output_type": "stream",
     "text": [
      "Answering Questions:  12%|█▏        | 6/50 [02:13<14:07, 19.27s/it]"
     ]
    },
    {
     "name": "stdout",
     "output_type": "stream",
     "text": [
      "Answer: 2024년도 예산수입은 국세수입 367.3조원, 세외수입 28.2조원으로 구성되어 있습니다.\n",
      "GT: 2024년도 예산수입은 국세수입 367.3조원, 세외수입 28.2조원으로 구성되어 있습니다.\n",
      "\n",
      "Question: 2024년의 기금수입은 어떻게 구성되어 있나요?\n"
     ]
    },
    {
     "name": "stderr",
     "output_type": "stream",
     "text": [
      "Answering Questions:  14%|█▍        | 7/50 [02:29<12:59, 18.13s/it]"
     ]
    },
    {
     "name": "stdout",
     "output_type": "stream",
     "text": [
      "Answer: 2024년 기금수입은 사회보장기여금 92.3조원, 융자원금회수 33.8조원, 기타 90.6조원으로 구성되어 있습니다.\n",
      "GT: 2024년도 기금수입은 사회보장성기금 92.3조원, 경상이전수입 39.6조원, 기타 84.7조원으로 구성되어 있습니다.\n",
      "\n",
      "Question: 2024년 국세수입은 얼마이며, 일반회계와 특별회계의 규모는 각각 얼마인가요?\n"
     ]
    },
    {
     "name": "stderr",
     "output_type": "stream",
     "text": [
      "Answering Questions:  16%|█▌        | 8/50 [02:44<11:58, 17.12s/it]"
     ]
    },
    {
     "name": "stdout",
     "output_type": "stream",
     "text": [
      "Answer: 2024년 국세수입은 367.3조원이며, 일반회계는 356.1조원, 특별회계는 11.2조원입니다.\n",
      "GT: 2024년 국세수입은 367.3조원이며, 일반회계는 356.1조원, 특별회계는 11.2조원입니다.\n",
      "\n",
      "Question: 2024년도 국세수입 중 일반회계 내국세수입은 몇 조원인가요?\n"
     ]
    },
    {
     "name": "stderr",
     "output_type": "stream",
     "text": [
      "Answering Questions:  18%|█▊        | 9/50 [02:53<10:06, 14.79s/it]"
     ]
    },
    {
     "name": "stdout",
     "output_type": "stream",
     "text": [
      "Answer: 2024년도 일반회계 내국세수입은 321.6조원입니다.\n",
      "GT: 2024년도 일반회계 내국세수입은 321.6조원입니다.\n",
      "\n",
      "Question: 2024년도 세외수입 규모와 구성은 어떤가요?\n"
     ]
    },
    {
     "name": "stderr",
     "output_type": "stream",
     "text": [
      "Answering Questions:  20%|██        | 10/50 [03:32<14:43, 22.09s/it]"
     ]
    },
    {
     "name": "stdout",
     "output_type": "stream",
     "text": [
      "Answer: 2024년 세외수입은 일반회계 11.2조원, 특별회계 17.0조원으로 구성되며, 일반회계는 경상이전수입*이 6.9조원(24.5%), 재산수입*이 2.9조원(10.2%) 순으로 비중이 큼\n",
      "GT: 2024년 세외수입은 일반회계에서 11.2조원, 특별회계에서 17.0조원으로 나타났습니다.\n",
      "\n",
      "Question: 2024년 기금수입 중 가장 큰 비중을 차지하는 항목은 무엇인가?\n"
     ]
    },
    {
     "name": "stderr",
     "output_type": "stream",
     "text": [
      "Answering Questions:  22%|██▏       | 11/50 [03:46<12:43, 19.58s/it]"
     ]
    },
    {
     "name": "stdout",
     "output_type": "stream",
     "text": [
      "Answer: 2024년 기금수입 중 가장 큰 비중을 차지하는 항목은 사회보장기여금 92.3조원이다.\n",
      "GT: 기금수입 중 가장 큰 비중을 차지하는 항목은 사회보장성기금 기여금이다.\n",
      "\n",
      "Question: 2024년 총지출 기준 예산의 일반회계와 특별회계의 비중이 각각 얼마인가?\n"
     ]
    },
    {
     "name": "stderr",
     "output_type": "stream",
     "text": [
      "Answering Questions:  24%|██▍       | 12/50 [04:00<11:19, 17.87s/it]"
     ]
    },
    {
     "name": "stdout",
     "output_type": "stream",
     "text": [
      "Answer: 2024년 총지출 기준 예산에서 일반회계의 비중은 54.3%, 특별회계의 비중은 12.4%입니다.\n",
      "GT: 2024년 총지출 중 일반회계와 특별회계의 비중은 각각 54.3%와 12.4%이다.\n",
      "\n",
      "Question: 2024년도 총계 기준 재정규모는 얼마이며, 예산과 기금은 각각 몇 조원으로 구성되어 있는가?\n"
     ]
    },
    {
     "name": "stderr",
     "output_type": "stream",
     "text": [
      "Answering Questions:  26%|██▌       | 13/50 [04:17<10:53, 17.66s/it]"
     ]
    },
    {
     "name": "stdout",
     "output_type": "stream",
     "text": [
      "Answer: 2024년도 총계 기준 재정규모는 1,573.3조원이며, 예산은 550.0조원, 기금은 1,023.3조원으로 구성되어 있습니다.\n",
      "GT: 2024년도 총계 기준 재정규모는 1,573.3조원이며, 예산은 550.0조원, 기금은 1,023.3조원으로 구성되어 있다.\n",
      "\n",
      "Question: 내부거래지출이란 무엇을 의미하며, 어떤 종류의 거래를 포함하고 있는가?\n"
     ]
    },
    {
     "name": "stderr",
     "output_type": "stream",
     "text": [
      "Answering Questions:  28%|██▊       | 14/50 [04:39<11:28, 19.13s/it]"
     ]
    },
    {
     "name": "stdout",
     "output_type": "stream",
     "text": [
      "Answer: 내부거래지출은 회계 간, 회계 ･기금 간, 기금 간 거래를 의미하며, 사업비 보전을 위한 전입 ･전출, 여유자금의 공공자금관리기금에 예수 ･예탁 등을 포함하고 있다.\n",
      "GT: 내부거래지출은 회계 간, 회계・기금 간, 기금 간 거래를 의미하며, 사업비 보전을 위한 전입・전출, 여유자금의 공공자금관리기금에 예수・예탁 등을 포함하고 있다.\n",
      "\n",
      "Question: 보전지출이란 무엇을 의미하며, 어떤 상황에서 발생하는가?\n"
     ]
    },
    {
     "name": "stderr",
     "output_type": "stream",
     "text": [
      "Answering Questions:  30%|███       | 15/50 [05:00<11:29, 19.70s/it]"
     ]
    },
    {
     "name": "stdout",
     "output_type": "stream",
     "text": [
      "Answer: 보전지출은 이전 지출 중에서 법률에 따라 설치된 기관에 대한 지원을 의미하며, 지방자치단체 또는 민간 단체에 대한 이전, 손실보상 또는 배상 성격의 보전금과 구분된다.\n",
      "GT: 보전지출은 회계 또는 기금의 민간차입 상환(국채상환), 남은 자금의 금융기관 예치(기금여유자금 운용) 등을 의미하며, 민간차입 상환이나 자금의 운용 상황에서 발생한다.\n",
      "\n",
      "Question: 2024년에 일반회계의 총지출은 얼마이며, 중앙정부 총지출 대비 어느 정도의 비율을 차지하는가?\n"
     ]
    },
    {
     "name": "stderr",
     "output_type": "stream",
     "text": [
      "Answering Questions:  32%|███▏      | 16/50 [05:16<10:29, 18.52s/it]"
     ]
    },
    {
     "name": "stdout",
     "output_type": "stream",
     "text": [
      "Answer: 2024년에 일반회계의 총지출은 356.5조원이며, 중앙정부 총지출(656.6조원)의 54.3%를 차지한다.\n",
      "GT: 2024년에 일반회계의 총지출은 356.5조원으로, 중앙정부 총지출(656.6조원)의 54.3%를 차지하고 있다.\n",
      "\n",
      "Question: 2024년 예산 기준 특별회계는 얼마이며, 중앙정부 총지출 대비 어느 정도의 비율을 차지하는가?\n"
     ]
    },
    {
     "name": "stderr",
     "output_type": "stream",
     "text": [
      "Answering Questions:  34%|███▍      | 17/50 [05:30<09:21, 17.01s/it]"
     ]
    },
    {
     "name": "stdout",
     "output_type": "stream",
     "text": [
      "Answer: 특별회계는 2024년 예산 기준 81.7조원이며, 중앙정부 총지출의 12.4%를 차지한다.\n",
      "GT: 2024년 예산 기준 특별회계는 81.7조원으로 중앙정부 총지출의 12.4%를 차지한다.\n",
      "\n",
      "Question: 2024년 기준으로 중앙정부의 인건비 편성 사업 규모와, 총지출 대비 인건비 사업 비중은 얼마인가?\n"
     ]
    },
    {
     "name": "stderr",
     "output_type": "stream",
     "text": [
      "Answering Questions:  36%|███▌      | 18/50 [05:45<08:51, 16.61s/it]"
     ]
    },
    {
     "name": "stdout",
     "output_type": "stream",
     "text": [
      "Answer: 2024년 기준으로 중앙정부의 인건비 편성 사업 규모는 46.1조원이며, 총지출의 7.0%를 차지한다.\n",
      "GT: 2024년 기준으로 중앙정부의 인건비 편성 사업 규모는 46.1조원이며, 총지출의 7.0%를 차지한다.\n",
      "\n",
      "Question: 2024년 총지출 대비 자본지출 비중은 얼마인가요?\n"
     ]
    },
    {
     "name": "stderr",
     "output_type": "stream",
     "text": [
      "Answering Questions:  38%|███▊      | 19/50 [05:56<07:37, 14.74s/it]"
     ]
    },
    {
     "name": "stdout",
     "output_type": "stream",
     "text": [
      "Answer: 2024년 총지출 대비 자본지출의 비중은 6.1%입니다.\n",
      "GT: 2024년 총지출 대비 자본지출의 비중은 6.1%입니다.\n",
      "\n",
      "Question: 2020년 결산 기준, 연구개발비 중 개발연구 규모는 몇 억원인가?\n"
     ]
    },
    {
     "name": "stderr",
     "output_type": "stream",
     "text": [
      "Answering Questions:  40%|████      | 20/50 [06:07<06:46, 13.53s/it]"
     ]
    },
    {
     "name": "stdout",
     "output_type": "stream",
     "text": [
      "Answer: 2020년 결산 기준, 연구개발비 중 개발연구 규모는 78.7억원이다.\n",
      "GT: 2020년 결산 기준 연구개발비 중 개발연구 규모는 78754억원이다.\n",
      "\n",
      "Question: 세출예산현액이란?\n"
     ]
    },
    {
     "name": "stderr",
     "output_type": "stream",
     "text": [
      "Answering Questions:  42%|████▏     | 21/50 [06:29<07:53, 16.34s/it]"
     ]
    },
    {
     "name": "stdout",
     "output_type": "stream",
     "text": [
      "Answer: 세출예산현액은 예산 확정 후 전년도로부터의 이월액 반영, 추경 편성, 기금운용계획 변경, 이용 ･전용, 예비비 증액 등을 반영한 것으로, 실제 지출할 수 있는 한도액을 의미합니다.\n",
      "GT: 예산 확정 후 전년도로부터의 이월액 반영, 추경 편성, 기금운용계획 변경, 이용・전용, 예비비 증액 등을 반영한 것으로, 실제 지출할 수 있는 한도액을 의미한다.\n",
      "\n",
      "Question: 2022년 국가 예산의 다음 연도 이월액은 몇 조원인가?\n"
     ]
    },
    {
     "name": "stderr",
     "output_type": "stream",
     "text": [
      "Answering Questions:  44%|████▍     | 22/50 [06:40<06:50, 14.65s/it]"
     ]
    },
    {
     "name": "stdout",
     "output_type": "stream",
     "text": [
      "Answer: 2022년 국가 예산의 다음 연도 이월액은 총지출 기준 4.9조원이다.\n",
      "GT: 2022년 국가 예산의 다음 연도 이월액은 4.9조원이다.\n",
      "\n",
      "Question: 2022년 국가 예산의 불용액은 몇 조원인가?\n"
     ]
    },
    {
     "name": "stderr",
     "output_type": "stream",
     "text": [
      "Answering Questions:  46%|████▌     | 23/50 [06:49<05:51, 13.03s/it]"
     ]
    },
    {
     "name": "stdout",
     "output_type": "stream",
     "text": [
      "Answer: 2022년 결산 기준 국가 예산의 불용액은 14.8조원이다.\n",
      "GT: 2022년 국가 예산의 불용액은 14.8조원이다.\n",
      "\n",
      "Question: 2022년 기준, 일반회계, 특별회계, 기금의 집행률은?\n"
     ]
    },
    {
     "name": "stderr",
     "output_type": "stream",
     "text": [
      "Answering Questions:  48%|████▊     | 24/50 [07:03<05:46, 13.33s/it]"
     ]
    },
    {
     "name": "stdout",
     "output_type": "stream",
     "text": [
      "Answer: 2022년 기준, 일반회계의 집행률은 97.3%, 특별회계는 94.7%, 기금은 97.6%입니다.\n",
      "GT: 2022년 기준, 집행률은 일반회계 97.3%, 특별회계 94.7%, 기금 97.6%\n",
      "\n",
      "Question: 2022년 기준, 일반회계와 기타특별회계의 이월금 차지 비율은 얼마인가?\n"
     ]
    },
    {
     "name": "stderr",
     "output_type": "stream",
     "text": [
      "Answering Questions:  50%|█████     | 25/50 [07:17<05:35, 13.41s/it]"
     ]
    },
    {
     "name": "stdout",
     "output_type": "stream",
     "text": [
      "Answer: 일반회계와 기타특별회계의 이월금 차지 비율은 각각 56.9%와 35.3이다.\n",
      "GT: 일반회계와 기타특별회계의 이월금 차지 비율은 2022년에 각각 56.9%, 35.3%로 나타났다.\n",
      "\n",
      "Question: 2022년 결산 기준으로 사회보험성기금의 이월금 규모는 몇 억원인가요?\n"
     ]
    },
    {
     "name": "stderr",
     "output_type": "stream",
     "text": [
      "Answering Questions:  52%|█████▏    | 26/50 [07:29<05:09, 12.89s/it]"
     ]
    },
    {
     "name": "stdout",
     "output_type": "stream",
     "text": [
      "Answer: 2022년 결산 기준으로 사회보험성기금의 이월금 규모는 211억원입니다.\n",
      "GT: 223억원입니다.\n",
      "\n",
      "Question: 2017년부터 2022년까지의 사업성기금의 연도별 이월금 규모 추이는 어떠한가?\n"
     ]
    },
    {
     "name": "stderr",
     "output_type": "stream",
     "text": [
      "Answering Questions:  54%|█████▍    | 27/50 [07:59<06:56, 18.11s/it]"
     ]
    },
    {
     "name": "stdout",
     "output_type": "stream",
     "text": [
      "Answer: 사업성기금의 연도별 이월금 규모 추이는 다음과 같다:\n",
      "GT: 사업성기금의 이월금은 2017년 3,510억원, 2018년 3,803억원, 2019년 4,056억원, 2020년 1,679억원, 2021년 2,931억원, 2022년 3,305억원으로 변동하였다.\n",
      "\n",
      "Question: 2022년 기준으로 국내총생산 대비 일반정부부채와 공공부문 부채의 비중은 각각 몇 퍼센트인가?\n"
     ]
    },
    {
     "name": "stderr",
     "output_type": "stream",
     "text": [
      "Answering Questions:  56%|█████▌    | 28/50 [08:14<06:17, 17.14s/it]"
     ]
    },
    {
     "name": "stdout",
     "output_type": "stream",
     "text": [
      "Answer: 일반정부부채(D2)는 국내총생산(GDP) 대비 53.5%, 공공부문 부채(D3)는 GDP 대비 73.5%입니다.\n",
      "GT: 일반정부부채(D2)는 53.5%, 공공부문 부채(D3)는 73.5%이다.\n",
      "\n",
      "Question: 2022년 기준, 국가 재무제표상 부채는 얼마이며, 이는 어떻게 구성되어 있는가?\n"
     ]
    },
    {
     "name": "stderr",
     "output_type": "stream",
     "text": [
      "Answering Questions:  58%|█████▊    | 29/50 [08:38<06:45, 19.31s/it]"
     ]
    },
    {
     "name": "stdout",
     "output_type": "stream",
     "text": [
      "Answer: 2022년 기준, 국가 재무제표상 부채는 2,326.0조원이며, 이는 장기충당부채 1,243.2조원, 장기차입부채 812.2조원, 유동부채 220.0조원 등으로 구성되어 있다.\n",
      "GT: 2022년 결산 기준, 국가 재무제표상 부채는 2,326.0조원이며, 부채는 장기충당부채 1,243.2조원, 장기차입부채 812.2조원, 유동부채 220.0조원 등으로 구성되어 있다.\n",
      "\n",
      "Question: 2022년에 순자산은 얼마이며, 전년 대비 어떻게 변화했는가?\n"
     ]
    },
    {
     "name": "stderr",
     "output_type": "stream",
     "text": [
      "Answering Questions:  60%|██████    | 30/50 [08:50<05:40, 17.03s/it]"
     ]
    },
    {
     "name": "stdout",
     "output_type": "stream",
     "text": [
      "Answer: 2022년에 순자산은 507.6조원이며, 전년 대비 163.1조원 감소했다.\n",
      "GT: 2022년 기준, 순자산은 507.6조원으로, 전년 대비 163.1조원 감소했다.\n",
      "\n",
      "Question: 국가채무와 일반정부부채, 공공부문부채를 작성하는 데 있어 회계기준의 차이점은 무엇인가요?\n"
     ]
    },
    {
     "name": "stderr",
     "output_type": "stream",
     "text": [
      "Answering Questions:  62%|██████▏   | 31/50 [09:05<05:09, 16.29s/it]"
     ]
    },
    {
     "name": "stdout",
     "output_type": "stream",
     "text": [
      "Answer: 국가채무는 현금주의 기준으로 순계 합산되며, 일반정부부채와 공공부문부채는 발생주의 기준으로 순계 합산됩니다.\n",
      "GT: 국가채무는 국가재정법과 지방재정법에 따라 현금주의 기준으로 순계 합산되며, 일반정부부채는 국가채무 추계 대상에 비영리공공기관을 더해 발생주의 기준으로 순계 합산하여 산출합니다. 공공부문부채는 일반정부부채에 비금융공기업의 부채를 발생주의 기준으로 순계 합산하여 산출합니다.\n",
      "\n",
      "Question: 국가채무의 산출 기준은?\n"
     ]
    },
    {
     "name": "stderr",
     "output_type": "stream",
     "text": [
      "Answering Questions:  64%|██████▍   | 32/50 [09:24<05:12, 17.35s/it]"
     ]
    },
    {
     "name": "stdout",
     "output_type": "stream",
     "text": [
      "Answer: 국가채무(D1)의 산출 기준은 중앙정부의 일반회계 ･기금 부채 중 액면가액(D1)과 할인 ･할증 발행을 반영한 장부가액(D2, D3)를 포함합니다.\n",
      "GT: 국가재정법 및 지방재정법상 재정관리 주체인 중앙정부, 지방자치단체, 교육청의 부채를 현금주의 기준으로 순계 합산하여 산출한다.\n",
      "\n",
      "Question: 발생주의와 현금주의의 부채 인식 방식에는 어떤 차이가 있나요?\n"
     ]
    },
    {
     "name": "stderr",
     "output_type": "stream",
     "text": [
      "Answering Questions:  66%|██████▌   | 33/50 [09:42<04:54, 17.35s/it]"
     ]
    },
    {
     "name": "stdout",
     "output_type": "stream",
     "text": [
      "Answer: 발생주의에서는 거래나 경제적 사건 발생 시 수익, 비용을 인식하며, 현금주의는 재무수입 및 재무지출이 발생하는 즉시 수익, 비용을 인식한다.\n",
      "GT: 현금주의는 채무 수납과 지급 시점을 기준으로 수입과 비용을 인식하는 반면, 발생주의는 거래나 경제적 사건 발생 시점을 기준으로 수익과 비용을 인식합니다.\n",
      "\n",
      "Question: 일반정부 부채의 산출기준은?\n"
     ]
    },
    {
     "name": "stderr",
     "output_type": "stream",
     "text": [
      "Answering Questions:  68%|██████▊   | 34/50 [09:52<04:05, 15.37s/it]"
     ]
    },
    {
     "name": "stdout",
     "output_type": "stream",
     "text": [
      "Answer: 일반정부 부채의 산출기준은 발생주의 기준으로 수입과 비용을 인식하는 것으로 나타났다.\n",
      "GT: 국가채무 추계 대상에 비영리공공기관을 더해, 발생주의 기준으로 순계 합산하여 산출하며, OECD, IMF의 기준에 부합하는 통계로 국제비교에 활용한다.\n",
      "\n",
      "Question: 추가경정예산은 2008년 이후 몇 번의 추가경정예산이 편성되었는가?\n"
     ]
    },
    {
     "name": "stderr",
     "output_type": "stream",
     "text": [
      "Answering Questions:  70%|███████   | 35/50 [10:00<03:17, 13.17s/it]"
     ]
    },
    {
     "name": "stdout",
     "output_type": "stream",
     "text": [
      "Answer: 2008년 이후 16회의 추가경정예산이 편성되었다.\n",
      "GT: 16회\n",
      "\n",
      "Question: 2022년에는 어떤 분야에 민생경제 지원을 위해 가장 많은 예산이 배분되었는가?\n"
     ]
    },
    {
     "name": "stderr",
     "output_type": "stream",
     "text": [
      "Answering Questions:  72%|███████▏  | 36/50 [10:18<03:24, 14.61s/it]"
     ]
    },
    {
     "name": "stdout",
     "output_type": "stream",
     "text": [
      "Answer: 2022년에는 민생경제 지원을 위해 산업 ･중소기업 및 에너지(53.1%), 보건 ･복지･고용(15.9%) 분야에 집중적으로 예산이 배분되었습니다.\n",
      "GT: 2022년에는 민생경제 지원을 위해 산업·중소기업 및 에너지(53.1%) 분야에 가장 많은 예산이 배분되었습니다.\n",
      "\n",
      "Question: 추가경정예산이란 무엇을 의미하는가?\n"
     ]
    },
    {
     "name": "stderr",
     "output_type": "stream",
     "text": [
      "Answering Questions:  74%|███████▍  | 37/50 [10:32<03:07, 14.40s/it]"
     ]
    },
    {
     "name": "stdout",
     "output_type": "stream",
     "text": [
      "Answer: 추가경정예산은 예산 성립 후 법률로 인정되는 사유로 인해 예산에 추가 또는 변경을 가한 예산을 의미합니다.\n",
      "GT: 추가경정예산은 예산 성립 후 법률로 인정되는 사유로 인해 예산에 추가 또는 변경을 가한 예산을 의미합니다.\n",
      "\n",
      "Question: 2007년 시행된 국가재정법에서 추경 편성 사유로 명시된 사항은 무엇인가?\n"
     ]
    },
    {
     "name": "stderr",
     "output_type": "stream",
     "text": [
      "Answering Questions:  76%|███████▌  | 38/50 [11:04<03:56, 19.69s/it]"
     ]
    },
    {
     "name": "stdout",
     "output_type": "stream",
     "text": [
      "Answer: 2007년 시행된 국가재정법에서 추경 편성 사유로 명시된 사항은 전쟁이나 대규모 재해가 발생한 경우, 경기침체, 대량 실업, 남북 관계의 변화, 경제협력 등 대내외 여건에 중대한 변화가 발생하였거나 발생할 우려가 있는 경우, 법령에 따라 국가가 지급하여야 하는 지출이 발생하거나 증가하는 경우입니다.\n",
      "GT: 국가재정법에서 추경 편성 사유로 명시된 사항은 전쟁이나 대규모 재해가 발생한 경우, 경기침체, 대량 실업, 남북 관계의 변화, 경제협력과 같은 대내외 여건에 중대한 변화가 발생하였거나 발생할 우려가 있는 경우, 법령에 따라 국가가 지급하여야 하는 지출이 발생하거나 증가하는 경우에 한정되어 있습니다.\n",
      "\n",
      "Question: 2024년 예산 기준, 지방교부세는 몇 조원이며, 작년 대비 비중이 어떻게 변화했는가?\n"
     ]
    },
    {
     "name": "stderr",
     "output_type": "stream",
     "text": [
      "Answering Questions:  78%|███████▊  | 39/50 [11:17<03:12, 17.46s/it]"
     ]
    },
    {
     "name": "stdout",
     "output_type": "stream",
     "text": [
      "Answer: 2024년 예산 기준, 지방교부세는 753.4조원이며 전년 대비 10.7% 증가하였다.\n",
      "GT: 66.8조원이며 전년 대비 11.3% 감소했다.\n",
      "\n",
      "Question: 지방교부세는 어떤 목적을 위해 자치단체에 교부되는 재원인가?\n"
     ]
    },
    {
     "name": "stderr",
     "output_type": "stream",
     "text": [
      "Answering Questions:  80%|████████  | 40/50 [11:30<02:43, 16.30s/it]"
     ]
    },
    {
     "name": "stdout",
     "output_type": "stream",
     "text": [
      "Answer: 지방교부세는 지방자치단체 간 재원 보장과 재정 불균형 완화를 위해 자치단체에 교부되는 재원입니다.\n",
      "GT: 지방교부세는 지방자치단체 간 재원 보장과 재정 불균형 완화를 위해 자치단체에 교부하는 재원이다.\n",
      "\n",
      "Question: 지방교부세는 어떤 세부 항목으로 구성되어 있는가?\n"
     ]
    },
    {
     "name": "stderr",
     "output_type": "stream",
     "text": [
      "Answering Questions:  82%|████████▏ | 41/50 [11:46<02:26, 16.28s/it]"
     ]
    },
    {
     "name": "stdout",
     "output_type": "stream",
     "text": [
      "Answer: 지방교부세는 보통교부세, 특별교부세, 부동산교부세, 소방안전교부세 등 4가지 세부 항목으로 구성되어 있다.\n",
      "GT: 지방교부세는 보통교부세, 특별교부세, 부동산교부세, 소방안전교부세로 구성되어 있다.\n",
      "\n",
      "Question: 2024년 교육재정 교부금의 규모는 얼마이고, 전년 대비 추이는 어떠한가?\n"
     ]
    },
    {
     "name": "stderr",
     "output_type": "stream",
     "text": [
      "Answering Questions:  84%|████████▍ | 42/50 [11:59<01:59, 15.00s/it]"
     ]
    },
    {
     "name": "stdout",
     "output_type": "stream",
     "text": [
      "Answer: 2024년 교육재정교부금은 73.0조원이며 전년 대비 8.9% 감소하였다.\n",
      "GT: 2024년 교육재정교부금은 73.0조원이며 전년 대비 8.9% 감소하였다.\n",
      "\n",
      "Question: 2024년의 교육재정교부금에서 고교 무상교육에 사용한 규모는?\n"
     ]
    },
    {
     "name": "stderr",
     "output_type": "stream",
     "text": [
      "Answering Questions:  86%|████████▌ | 43/50 [12:10<01:38, 14.07s/it]"
     ]
    },
    {
     "name": "stdout",
     "output_type": "stream",
     "text": [
      "Answer: 2024년의 교육재정교부금에서 고교 무상교육에 사용한 규모는 8,738억원입니다.\n",
      "GT: 9,439억원입니다.\n",
      "\n",
      "Question: 2024년에 교육재정교부금에서 유아교육비 및 보육료 지원에 할당된 비중은?\n"
     ]
    },
    {
     "name": "stderr",
     "output_type": "stream",
     "text": [
      "Answering Questions:  88%|████████▊ | 44/50 [12:23<01:22, 13.75s/it]"
     ]
    },
    {
     "name": "stdout",
     "output_type": "stream",
     "text": [
      "Answer: 2024년에 교육재정교부금에서 유아교육비 및 보육료 지원에 할당된 비중은 0.4%입니다.\n",
      "GT: 4.40%\n",
      "\n",
      "Question: 교육재정 교부금이란?\n"
     ]
    },
    {
     "name": "stderr",
     "output_type": "stream",
     "text": [
      "Answering Questions:  90%|█████████ | 45/50 [12:51<01:29, 17.87s/it]"
     ]
    },
    {
     "name": "stdout",
     "output_type": "stream",
     "text": [
      "Answer: 교육재정교부금은 교육의 균형발전을 위해 교육기관 및 교육행정기관 경비를 국가가 교부하는 일반지원금으로 일반회계 보통 ･특별교부금, 고교 무상교육 증액분, 특별회계 유아교육비 ･보육료 지원 교부금 등 4가지로 구성됩니다.\n",
      "GT: 교육의 균형발전을 위해 교육기관 및 교육행정기관 경비를 국가가 교부하는 일반지원금으로, 일반회계 보통・특별교부금, 고교 무상교육 증액분, 특별회계 유아교육비・보육료 지원 교부금 등 4가지로 구성되었다.\n",
      "\n",
      "Question: 국고보조사업 규모는 2024년에 얼마이며 전년 대비 어떤 증가율을 보이는가?\n"
     ]
    },
    {
     "name": "stderr",
     "output_type": "stream",
     "text": [
      "Answering Questions:  92%|█████████▏| 46/50 [13:02<01:03, 15.93s/it]"
     ]
    },
    {
     "name": "stdout",
     "output_type": "stream",
     "text": [
      "Answer: 국고보조사업 규모는 2024년에 163.8조원이며 전년 대비 15.3% 증가하였다.\n",
      "GT: 국고보조사업 규모는 2024년에 89.3조원이며 전년 대비 7.4% 증가하였다.\n",
      "\n",
      "Question: 특별회계 국고보조금 중 국가균형발전특별회계에서 얼마가 포괄보조금으로 지출되는가?\n"
     ]
    },
    {
     "name": "stderr",
     "output_type": "stream",
     "text": [
      "Answering Questions:  94%|█████████▍| 47/50 [13:16<00:45, 15.20s/it]"
     ]
    },
    {
     "name": "stdout",
     "output_type": "stream",
     "text": [
      "Answer: 특별회계 국고보조금 중 국가균형발전특별회계에서 10.0조원이 포괄보조금으로 지출된다.\n",
      "GT: 특별회계 국고보조금 18.2조원 중 10.0조원이 국가균형발전특별회계에서 지출되는 포괄보조금이다.\n",
      "\n",
      "Question: 2024년의 국고보조사업(자치단체 이전)에서 기금 규모는 얼마인가?\n"
     ]
    },
    {
     "name": "stderr",
     "output_type": "stream",
     "text": [
      "Answering Questions:  96%|█████████▌| 48/50 [13:31<00:30, 15.17s/it]"
     ]
    },
    {
     "name": "stdout",
     "output_type": "stream",
     "text": [
      "Answer: 2024년의 국고보조사업(자치단체 이전)에서 기금 규모는 58.6조원이며 전년 대비 7.9% 증가하였다.\n",
      "GT: 90,247억원으로 10.1%를 차지하고 있다.\n",
      "\n",
      "Question: 총사업비 관리대상사업의 규모는 2023년 몇 조원이며, 전년 대비 얼마나 증가했나요?\n"
     ]
    },
    {
     "name": "stderr",
     "output_type": "stream",
     "text": [
      "Answering Questions:  98%|█████████▊| 49/50 [13:45<00:14, 14.77s/it]"
     ]
    },
    {
     "name": "stdout",
     "output_type": "stream",
     "text": [
      "Answer: 총사업비 관리대상사업의 규모는 2023년 286.2조원이며, 전년 대비 7.3조원 증가했습니다.\n",
      "GT: 총사업비 관리대상사업의 규모는 305.0조원이며, 전년 대비 30.7조원 증가했습니다.\n",
      "\n",
      "Question: 총사업비 관리제도는 어떤 제도이며, 어떤 종류의 사업을 관리하는데 사용되나요?\n"
     ]
    },
    {
     "name": "stderr",
     "output_type": "stream",
     "text": [
      "Answering Questions: 100%|██████████| 50/50 [14:12<00:00, 17.05s/it]"
     ]
    },
    {
     "name": "stdout",
     "output_type": "stream",
     "text": [
      "Answer: 총사업비 관리제도는 2년 이상이 소요되는 대규모 사업에 대해 사업 규모 및 사업 기간을 미리 정하여 관리하는 제도로, 건축 ･토목 사업은 1994년부터 관리하고 있으며, 정보화 사업은 2010년부터, 연구개발(R&D)사업은 2015년부터 관리합니다.\n",
      "GT: 총사업비 관리제도는 2년 이상이 소요되는 대규모 사업에 대해 사업 규모 및 사업 기간을 미리 정하여 관리하는 제도입니다. 건축・토목 사업은 1994년부터, 정보화 사업은 2010년부터, 연구개발(R&D)사업은 2015년부터 관리하고 있습니다.\n",
      "\n",
      "{'average_precision': 0.7547155360267217, 'average_recall': 0.8392080684490059, 'average_f1_score': 0.7636748977599865}\n"
     ]
    },
    {
     "name": "stderr",
     "output_type": "stream",
     "text": [
      "\n"
     ]
    },
    {
     "data": {
      "text/html": [
       "<div>\n",
       "<style scoped>\n",
       "    .dataframe tbody tr th:only-of-type {\n",
       "        vertical-align: middle;\n",
       "    }\n",
       "\n",
       "    .dataframe tbody tr th {\n",
       "        vertical-align: top;\n",
       "    }\n",
       "\n",
       "    .dataframe thead th {\n",
       "        text-align: right;\n",
       "    }\n",
       "</style>\n",
       "<table border=\"1\" class=\"dataframe\">\n",
       "  <thead>\n",
       "    <tr style=\"text-align: right;\">\n",
       "      <th></th>\n",
       "      <th>Answer</th>\n",
       "      <th>GT</th>\n",
       "    </tr>\n",
       "  </thead>\n",
       "  <tbody>\n",
       "    <tr>\n",
       "      <th>0</th>\n",
       "      <td>2024년 기준으로 중앙정부 재정체계는 일반회계 1개, 특별회계 21개, 기금 68...</td>\n",
       "      <td>2024년 중앙정부 재정체계는 예산(일반·특별회계)과 기금으로 구분되며, 2024년...</td>\n",
       "    </tr>\n",
       "    <tr>\n",
       "      <th>1</th>\n",
       "      <td>2024년 중앙정부의 예산 지출은 일반회계 356.5조원, 특별회계 81.7조원으로...</td>\n",
       "      <td>2024년 중앙정부의 예산 지출은 일반회계 356.5조원, 21개 특별회계 81.7...</td>\n",
       "    </tr>\n",
       "    <tr>\n",
       "      <th>2</th>\n",
       "      <td>기금은 예산과 구분되는 재정체계로, 2024년 기준으로 일반회계 1개, 특별회계 2...</td>\n",
       "      <td>기금은 예산과 구분되는 재정수단으로서 재정운영의 신축성을 기할 필요가 있을 때, 정...</td>\n",
       "    </tr>\n",
       "    <tr>\n",
       "      <th>3</th>\n",
       "      <td>일반회계는 특정 사업 운영 및 특정 세입으로 특정 목적의 지출을 충당하는데 사용되며...</td>\n",
       "      <td>일반회계는 특정 사업 운영 및 특정 세입으로 특정 세출을 충당하는데 사용되고, 특별...</td>\n",
       "    </tr>\n",
       "    <tr>\n",
       "      <th>4</th>\n",
       "      <td>2024년 총수입은 612.2조원이며, 예산수입은 395.5조원, 기금수입은 216...</td>\n",
       "      <td>2024년 총수입은 612.2조원이며, 예산수입은 395.5조원, 기금수입은 216...</td>\n",
       "    </tr>\n",
       "  </tbody>\n",
       "</table>\n",
       "</div>"
      ],
      "text/plain": [
       "                                              Answer  \\\n",
       "0  2024년 기준으로 중앙정부 재정체계는 일반회계 1개, 특별회계 21개, 기금 68...   \n",
       "1  2024년 중앙정부의 예산 지출은 일반회계 356.5조원, 특별회계 81.7조원으로...   \n",
       "2  기금은 예산과 구분되는 재정체계로, 2024년 기준으로 일반회계 1개, 특별회계 2...   \n",
       "3  일반회계는 특정 사업 운영 및 특정 세입으로 특정 목적의 지출을 충당하는데 사용되며...   \n",
       "4  2024년 총수입은 612.2조원이며, 예산수입은 395.5조원, 기금수입은 216...   \n",
       "\n",
       "                                                  GT  \n",
       "0  2024년 중앙정부 재정체계는 예산(일반·특별회계)과 기금으로 구분되며, 2024년...  \n",
       "1  2024년 중앙정부의 예산 지출은 일반회계 356.5조원, 21개 특별회계 81.7...  \n",
       "2  기금은 예산과 구분되는 재정수단으로서 재정운영의 신축성을 기할 필요가 있을 때, 정...  \n",
       "3  일반회계는 특정 사업 운영 및 특정 세입으로 특정 세출을 충당하는데 사용되고, 특별...  \n",
       "4  2024년 총수입은 612.2조원이며, 예산수입은 395.5조원, 기금수입은 216...  "
      ]
     },
     "execution_count": 11,
     "metadata": {},
     "output_type": "execute_result"
    }
   ],
   "source": [
    "pipeline = Ragpipeline(f'train_data/{reversed_file_mapping[source]}', config)\n",
    "\n",
    "# 결과를 저장할 리스트 초기화\n",
    "results = []\n",
    "\n",
    "for _, row in tqdm(target_df.iterrows(), total=len(target_df), desc=f\"Answering Questions\"):\n",
    "    # 소스 문자열 정규화\n",
    "    source = normalize_path(row['Source'])\n",
    "    \n",
    "    # 질문 \n",
    "    question = row['Question']\n",
    "    print(f\"Question: {question}\")\n",
    "    \n",
    "    # 대답\n",
    "    full_response = pipeline.answer_generation(question)\n",
    "    first_line_response = full_response.split(\"\\n\")[0]\n",
    "    print(f\"Answer: {first_line_response}\")\n",
    "    \n",
    "    # 정답 \n",
    "    print(f\"GT: {row['Answer']}\\n\")\n",
    "    \n",
    "    # 결과 저장\n",
    "    results.append({\n",
    "        \"Answer\": first_line_response,\n",
    "        \"GT\": row['Answer']\n",
    "    })\n",
    "    \n",
    "# results 리스트를 DataFrame으로 변환\n",
    "df_results = pd.DataFrame(results)\n",
    "pred = df_results['Answer']\n",
    "gt = df_results['GT']\n",
    "\n",
    "f1_score = calculate_average_f1_score(gt, pred)\n",
    "print(f1_score)\n",
    "\n",
    "# 데이터프레임 출력\n",
    "df_results.head()"
   ]
  },
  {
   "cell_type": "markdown",
   "metadata": {},
   "source": [
    "### 'average_f1_score'가 0.68에서 0.76까지 오름\n",
    "\n",
    "파인튜닝하니 Trainset에 대해서는 성능이 꽤 오름 "
   ]
  },
  {
   "cell_type": "code",
   "execution_count": 10,
   "metadata": {},
   "outputs": [],
   "source": [
    "config = {\n",
    "    \"llm_predictor\": {\n",
    "        \"model_name\": \"llama3.1\",  \n",
    "        \"temperature\": 0\n",
    "    },\n",
    "    \n",
    "    \"embed_model\": \"intfloat/multilingual-e5-small\",  # \"intfloat/multilingual-e5-small\",\n",
    "    \n",
    "    \"text_split\":{\n",
    "        'chunk_size': 1024,\n",
    "        'chunk_overlap': 64\n",
    "    },\n",
    "    \n",
    "    \"save_data_path\": './train_data',\n",
    "    \n",
    "    \n",
    "    \"search_type\": \"mmr\",           # \"mmr\"  similarity   similarity_score_threshold\n",
    "    'search_kwargs_k': 3,           # 유사도 기반 상위 k개\n",
    "    'search_kwargs_lambda': 0.5,    # 0~1, 0에 가까울수록 다양성, 1에 가까울수록 관련성\n",
    "    'score_threshold': 0.4,         # 0~1, 쿼리 문장과 최소한 0.x 이상의 유사도를 가진 문서만\n",
    "    \n",
    "    'bm25_k' : 3,                   # 검색어 기반 상위 k개\n",
    "    \"ensemble_search_type\": \"mmr\",  # 앙상블 서칭 타입\n",
    "    \"ensemble_weight\": [0.4, 0.6],   # bm25와 vector 가중치\n",
    "    \n",
    "\n",
    "\n",
    "}"
   ]
  },
  {
   "cell_type": "code",
   "execution_count": 11,
   "metadata": {},
   "outputs": [
    {
     "name": "stderr",
     "output_type": "stream",
     "text": [
      "Answering Questions: 100%|██████████| 50/50 [06:44<00:00,  8.09s/it]"
     ]
    },
    {
     "name": "stdout",
     "output_type": "stream",
     "text": [
      "{'average_precision': 0.6580799879501459, 'average_recall': 0.7863767863942548, 'average_f1_score': 0.6804873475154852}\n"
     ]
    },
    {
     "name": "stderr",
     "output_type": "stream",
     "text": [
      "\n"
     ]
    },
    {
     "data": {
      "text/html": [
       "<div>\n",
       "<style scoped>\n",
       "    .dataframe tbody tr th:only-of-type {\n",
       "        vertical-align: middle;\n",
       "    }\n",
       "\n",
       "    .dataframe tbody tr th {\n",
       "        vertical-align: top;\n",
       "    }\n",
       "\n",
       "    .dataframe thead th {\n",
       "        text-align: right;\n",
       "    }\n",
       "</style>\n",
       "<table border=\"1\" class=\"dataframe\">\n",
       "  <thead>\n",
       "    <tr style=\"text-align: right;\">\n",
       "      <th></th>\n",
       "      <th>Answer</th>\n",
       "      <th>GT</th>\n",
       "    </tr>\n",
       "  </thead>\n",
       "  <tbody>\n",
       "    <tr>\n",
       "      <th>0</th>\n",
       "      <td>2024년 기준으로 중앙정부 재정체계는 일반회계 1개, 특별회계 21개, 기금 68...</td>\n",
       "      <td>2024년 중앙정부 재정체계는 예산(일반·특별회계)과 기금으로 구분되며, 2024년...</td>\n",
       "    </tr>\n",
       "    <tr>\n",
       "      <th>1</th>\n",
       "      <td>2024년 중앙정부의 예산 지출은 일반회계 356.5조원, 특별회계 81.7조원으로...</td>\n",
       "      <td>2024년 중앙정부의 예산 지출은 일반회계 356.5조원, 21개 특별회계 81.7...</td>\n",
       "    </tr>\n",
       "    <tr>\n",
       "      <th>2</th>\n",
       "      <td>기금은 일반회계와 구분되는 재정수단으로서, 재정운영의 신축성을 기할 필요가 있을 때...</td>\n",
       "      <td>기금은 예산과 구분되는 재정수단으로서 재정운영의 신축성을 기할 필요가 있을 때, 정...</td>\n",
       "    </tr>\n",
       "    <tr>\n",
       "      <th>3</th>\n",
       "      <td>일반회계는 국가 고유의 일반적 재정으로 특정 사업 운영을 위해 사용되며, 세입과 세...</td>\n",
       "      <td>일반회계는 특정 사업 운영 및 특정 세입으로 특정 세출을 충당하는데 사용되고, 특별...</td>\n",
       "    </tr>\n",
       "    <tr>\n",
       "      <th>4</th>\n",
       "      <td>2024년도 총수입은 612.2조원이며, 예산수입은 395.5조원, 기금수입은 21...</td>\n",
       "      <td>2024년 총수입은 612.2조원이며, 예산수입은 395.5조원, 기금수입은 216...</td>\n",
       "    </tr>\n",
       "  </tbody>\n",
       "</table>\n",
       "</div>"
      ],
      "text/plain": [
       "                                              Answer  \\\n",
       "0  2024년 기준으로 중앙정부 재정체계는 일반회계 1개, 특별회계 21개, 기금 68...   \n",
       "1  2024년 중앙정부의 예산 지출은 일반회계 356.5조원, 특별회계 81.7조원으로...   \n",
       "2  기금은 일반회계와 구분되는 재정수단으로서, 재정운영의 신축성을 기할 필요가 있을 때...   \n",
       "3  일반회계는 국가 고유의 일반적 재정으로 특정 사업 운영을 위해 사용되며, 세입과 세...   \n",
       "4  2024년도 총수입은 612.2조원이며, 예산수입은 395.5조원, 기금수입은 21...   \n",
       "\n",
       "                                                  GT  \n",
       "0  2024년 중앙정부 재정체계는 예산(일반·특별회계)과 기금으로 구분되며, 2024년...  \n",
       "1  2024년 중앙정부의 예산 지출은 일반회계 356.5조원, 21개 특별회계 81.7...  \n",
       "2  기금은 예산과 구분되는 재정수단으로서 재정운영의 신축성을 기할 필요가 있을 때, 정...  \n",
       "3  일반회계는 특정 사업 운영 및 특정 세입으로 특정 세출을 충당하는데 사용되고, 특별...  \n",
       "4  2024년 총수입은 612.2조원이며, 예산수입은 395.5조원, 기금수입은 216...  "
      ]
     },
     "execution_count": 11,
     "metadata": {},
     "output_type": "execute_result"
    }
   ],
   "source": [
    "pipeline = Ragpipeline(f'train_data/{reversed_file_mapping[source]}', config)\n",
    "\n",
    "# 결과를 저장할 리스트 초기화\n",
    "results = []\n",
    "\n",
    "for _, row in tqdm(target_df.iterrows(), total=len(target_df), desc=f\"Answering Questions\"):\n",
    "    # 소스 문자열 정규화\n",
    "    source = normalize_path(row['Source'])\n",
    "    \n",
    "    # 질문 \n",
    "    question = row['Question']\n",
    "    # print(f\"Question: {question}\")\n",
    "    \n",
    "    # 대답\n",
    "    full_response = pipeline.answer_generation(question)\n",
    "    first_line_response = full_response.split(\"\\n\")[0]\n",
    "    # print(f\"Answer: {first_line_response}\")\n",
    "    \n",
    "    # 정답 \n",
    "    # print(f\"GT: {row['Answer']}\\n\")\n",
    "    \n",
    "    # 결과 저장\n",
    "    results.append({\n",
    "        \"Answer\": first_line_response,\n",
    "        \"GT\": row['Answer']\n",
    "    })\n",
    "    \n",
    "# results 리스트를 DataFrame으로 변환\n",
    "df_results = pd.DataFrame(results)\n",
    "pred = df_results['Answer']\n",
    "gt = df_results['GT']\n",
    "\n",
    "f1_score = calculate_average_f1_score(gt, pred)\n",
    "print(f1_score)\n",
    "\n",
    "# 데이터프레임 출력\n",
    "df_results.head()"
   ]
  },
  {
   "cell_type": "code",
   "execution_count": 12,
   "metadata": {},
   "outputs": [],
   "source": [
    "config = {\n",
    "    \"llm_predictor\": {\n",
    "        \"model_name\": \"llama3.1\",  \n",
    "        \"temperature\": 0\n",
    "    },\n",
    "    \n",
    "    \"embed_model\": \"intfloat/multilingual-e5-base\",  # \"intfloat/multilingual-e5-small\",\n",
    "    \n",
    "    \"text_split\":{\n",
    "        'chunk_size': 512,\n",
    "        'chunk_overlap': 64\n",
    "    },\n",
    "    \n",
    "    \"save_data_path\": './train_data',\n",
    "    \n",
    "    \n",
    "    \"search_type\": \"mmr\",           # \"mmr\"  similarity   similarity_score_threshold\n",
    "    'search_kwargs_k': 3,           # 유사도 기반 상위 k개\n",
    "    'search_kwargs_lambda': 0.5,    # 0~1, 0에 가까울수록 다양성, 1에 가까울수록 관련성\n",
    "    'score_threshold': 0.4,         # 0~1, 쿼리 문장과 최소한 0.x 이상의 유사도를 가진 문서만\n",
    "    \n",
    "    'bm25_k' : 3,                   # 검색어 기반 상위 k개\n",
    "    \"ensemble_search_type\": \"mmr\",  # 앙상블 서칭 타입\n",
    "    \"ensemble_weight\": [0.4, 0.6],   # bm25와 vector 가중치\n",
    "    \n",
    "\n",
    "\n",
    "}"
   ]
  },
  {
   "cell_type": "code",
   "execution_count": 13,
   "metadata": {},
   "outputs": [
    {
     "name": "stderr",
     "output_type": "stream",
     "text": [
      "Answering Questions: 100%|██████████| 50/50 [06:40<00:00,  8.01s/it]"
     ]
    },
    {
     "name": "stdout",
     "output_type": "stream",
     "text": [
      "{'average_precision': 0.6580799879501459, 'average_recall': 0.7863767863942548, 'average_f1_score': 0.6804873475154852}\n"
     ]
    },
    {
     "name": "stderr",
     "output_type": "stream",
     "text": [
      "\n"
     ]
    },
    {
     "data": {
      "text/html": [
       "<div>\n",
       "<style scoped>\n",
       "    .dataframe tbody tr th:only-of-type {\n",
       "        vertical-align: middle;\n",
       "    }\n",
       "\n",
       "    .dataframe tbody tr th {\n",
       "        vertical-align: top;\n",
       "    }\n",
       "\n",
       "    .dataframe thead th {\n",
       "        text-align: right;\n",
       "    }\n",
       "</style>\n",
       "<table border=\"1\" class=\"dataframe\">\n",
       "  <thead>\n",
       "    <tr style=\"text-align: right;\">\n",
       "      <th></th>\n",
       "      <th>Answer</th>\n",
       "      <th>GT</th>\n",
       "    </tr>\n",
       "  </thead>\n",
       "  <tbody>\n",
       "    <tr>\n",
       "      <th>0</th>\n",
       "      <td>2024년 기준으로 중앙정부 재정체계는 일반회계 1개, 특별회계 21개, 기금 68...</td>\n",
       "      <td>2024년 중앙정부 재정체계는 예산(일반·특별회계)과 기금으로 구분되며, 2024년...</td>\n",
       "    </tr>\n",
       "    <tr>\n",
       "      <th>1</th>\n",
       "      <td>2024년 중앙정부의 예산 지출은 일반회계 356.5조원, 특별회계 81.7조원으로...</td>\n",
       "      <td>2024년 중앙정부의 예산 지출은 일반회계 356.5조원, 21개 특별회계 81.7...</td>\n",
       "    </tr>\n",
       "    <tr>\n",
       "      <th>2</th>\n",
       "      <td>기금은 일반회계와 구분되는 재정수단으로서, 재정운영의 신축성을 기할 필요가 있을 때...</td>\n",
       "      <td>기금은 예산과 구분되는 재정수단으로서 재정운영의 신축성을 기할 필요가 있을 때, 정...</td>\n",
       "    </tr>\n",
       "    <tr>\n",
       "      <th>3</th>\n",
       "      <td>일반회계는 국가 고유의 일반적 재정으로 특정 사업 운영을 위해 사용되며, 세입과 세...</td>\n",
       "      <td>일반회계는 특정 사업 운영 및 특정 세입으로 특정 세출을 충당하는데 사용되고, 특별...</td>\n",
       "    </tr>\n",
       "    <tr>\n",
       "      <th>4</th>\n",
       "      <td>2024년도 총수입은 612.2조원이며, 예산수입은 395.5조원, 기금수입은 21...</td>\n",
       "      <td>2024년 총수입은 612.2조원이며, 예산수입은 395.5조원, 기금수입은 216...</td>\n",
       "    </tr>\n",
       "  </tbody>\n",
       "</table>\n",
       "</div>"
      ],
      "text/plain": [
       "                                              Answer  \\\n",
       "0  2024년 기준으로 중앙정부 재정체계는 일반회계 1개, 특별회계 21개, 기금 68...   \n",
       "1  2024년 중앙정부의 예산 지출은 일반회계 356.5조원, 특별회계 81.7조원으로...   \n",
       "2  기금은 일반회계와 구분되는 재정수단으로서, 재정운영의 신축성을 기할 필요가 있을 때...   \n",
       "3  일반회계는 국가 고유의 일반적 재정으로 특정 사업 운영을 위해 사용되며, 세입과 세...   \n",
       "4  2024년도 총수입은 612.2조원이며, 예산수입은 395.5조원, 기금수입은 21...   \n",
       "\n",
       "                                                  GT  \n",
       "0  2024년 중앙정부 재정체계는 예산(일반·특별회계)과 기금으로 구분되며, 2024년...  \n",
       "1  2024년 중앙정부의 예산 지출은 일반회계 356.5조원, 21개 특별회계 81.7...  \n",
       "2  기금은 예산과 구분되는 재정수단으로서 재정운영의 신축성을 기할 필요가 있을 때, 정...  \n",
       "3  일반회계는 특정 사업 운영 및 특정 세입으로 특정 세출을 충당하는데 사용되고, 특별...  \n",
       "4  2024년 총수입은 612.2조원이며, 예산수입은 395.5조원, 기금수입은 216...  "
      ]
     },
     "execution_count": 13,
     "metadata": {},
     "output_type": "execute_result"
    }
   ],
   "source": [
    "pipeline = Ragpipeline(f'train_data/{reversed_file_mapping[source]}', config)\n",
    "\n",
    "# 결과를 저장할 리스트 초기화\n",
    "results = []\n",
    "\n",
    "for _, row in tqdm(target_df.iterrows(), total=len(target_df), desc=f\"Answering Questions\"):\n",
    "    # 소스 문자열 정규화\n",
    "    source = normalize_path(row['Source'])\n",
    "    \n",
    "    # 질문 \n",
    "    question = row['Question']\n",
    "    # print(f\"Question: {question}\")\n",
    "    \n",
    "    # 대답\n",
    "    full_response = pipeline.answer_generation(question)\n",
    "    first_line_response = full_response.split(\"\\n\")[0]\n",
    "    # print(f\"Answer: {first_line_response}\")\n",
    "    \n",
    "    # 정답 \n",
    "    # print(f\"GT: {row['Answer']}\\n\")\n",
    "    \n",
    "    # 결과 저장\n",
    "    results.append({\n",
    "        \"Answer\": first_line_response,\n",
    "        \"GT\": row['Answer']\n",
    "    })\n",
    "    \n",
    "# results 리스트를 DataFrame으로 변환\n",
    "df_results = pd.DataFrame(results)\n",
    "pred = df_results['Answer']\n",
    "gt = df_results['GT']\n",
    "\n",
    "f1_score = calculate_average_f1_score(gt, pred)\n",
    "print(f1_score)\n",
    "\n",
    "# 데이터프레임 출력\n",
    "df_results.head()"
   ]
  },
  {
   "cell_type": "code",
   "execution_count": 14,
   "metadata": {},
   "outputs": [],
   "source": [
    "config = {\n",
    "    \"llm_predictor\": {\n",
    "        \"model_name\": \"llama3.1\",  \n",
    "        \"temperature\": 0\n",
    "    },\n",
    "    \n",
    "    \"embed_model\": \"intfloat/multilingual-e5-base\",  # \"intfloat/multilingual-e5-small\",\n",
    "    \n",
    "    \"text_split\":{\n",
    "        'chunk_size': 1024,\n",
    "        'chunk_overlap': 64\n",
    "    },\n",
    "    \n",
    "    \"save_data_path\": './train_data',\n",
    "    \n",
    "    \n",
    "    \"search_type\": \"mmr\",           # \"mmr\"  similarity   similarity_score_threshold\n",
    "    'search_kwargs_k': 3,           # 유사도 기반 상위 k개\n",
    "    'search_kwargs_lambda': 0.5,    # 0~1, 0에 가까울수록 다양성, 1에 가까울수록 관련성\n",
    "    'score_threshold': 0.4,         # 0~1, 쿼리 문장과 최소한 0.x 이상의 유사도를 가진 문서만\n",
    "    \n",
    "    'bm25_k' : 3,                   # 검색어 기반 상위 k개\n",
    "    \"ensemble_search_type\": \"mmr\",  # 앙상블 서칭 타입\n",
    "    \"ensemble_weight\": [0.3, 0.7],   # bm25와 vector 가중치\n",
    "    \n",
    "\n",
    "\n",
    "}"
   ]
  },
  {
   "cell_type": "code",
   "execution_count": 10,
   "metadata": {},
   "outputs": [
    {
     "ename": "TypeError",
     "evalue": "get_embedding() missing 1 required positional argument: 'config'",
     "output_type": "error",
     "traceback": [
      "\u001b[1;31m---------------------------------------------------------------------------\u001b[0m",
      "\u001b[1;31mTypeError\u001b[0m                                 Traceback (most recent call last)",
      "Cell \u001b[1;32mIn[10], line 1\u001b[0m\n\u001b[1;32m----> 1\u001b[0m pipeline \u001b[38;5;241m=\u001b[39m \u001b[43mRagpipeline\u001b[49m\u001b[43m(\u001b[49m\u001b[38;5;124;43mf\u001b[39;49m\u001b[38;5;124;43m'\u001b[39;49m\u001b[38;5;124;43mtrain_data/\u001b[39;49m\u001b[38;5;132;43;01m{\u001b[39;49;00m\u001b[43mreversed_file_mapping\u001b[49m\u001b[43m[\u001b[49m\u001b[43msource\u001b[49m\u001b[43m]\u001b[49m\u001b[38;5;132;43;01m}\u001b[39;49;00m\u001b[38;5;124;43m'\u001b[39;49m\u001b[43m,\u001b[49m\u001b[43m \u001b[49m\u001b[43mconfig\u001b[49m\u001b[43m)\u001b[49m\n\u001b[0;32m      3\u001b[0m \u001b[38;5;66;03m# 결과를 저장할 리스트 초기화\u001b[39;00m\n\u001b[0;32m      4\u001b[0m results \u001b[38;5;241m=\u001b[39m []\n",
      "File \u001b[1;32mf:\\LLM_study\\FAISSPipeLine\\utils\\RagPipeline.py:36\u001b[0m, in \u001b[0;36mRagpipeline.__init__\u001b[1;34m(self, source, config)\u001b[0m\n\u001b[0;32m     33\u001b[0m \u001b[38;5;28mself\u001b[39m\u001b[38;5;241m.\u001b[39mllm \u001b[38;5;241m=\u001b[39m ChatOllama(model\u001b[38;5;241m=\u001b[39mconfig[\u001b[38;5;124m'\u001b[39m\u001b[38;5;124mllm_predictor\u001b[39m\u001b[38;5;124m'\u001b[39m][\u001b[38;5;124m'\u001b[39m\u001b[38;5;124mmodel_name\u001b[39m\u001b[38;5;124m'\u001b[39m], temperature\u001b[38;5;241m=\u001b[39mconfig[\u001b[38;5;124m'\u001b[39m\u001b[38;5;124mllm_predictor\u001b[39m\u001b[38;5;124m'\u001b[39m][\u001b[38;5;124m'\u001b[39m\u001b[38;5;124mtemperature\u001b[39m\u001b[38;5;124m'\u001b[39m])\n\u001b[0;32m     34\u001b[0m \u001b[38;5;66;03m# self.llm = ChatOllama(model=\"llama3-ko-instruct\", temperature=0)\u001b[39;00m\n\u001b[1;32m---> 36\u001b[0m \u001b[38;5;28mself\u001b[39m\u001b[38;5;241m.\u001b[39mbase_retriever \u001b[38;5;241m=\u001b[39m \u001b[38;5;28;43mself\u001b[39;49m\u001b[38;5;241;43m.\u001b[39;49m\u001b[43minit_retriever\u001b[49m\u001b[43m(\u001b[49m\u001b[43msource\u001b[49m\u001b[43m,\u001b[49m\u001b[43m \u001b[49m\u001b[43mconfig\u001b[49m\u001b[43m)\u001b[49m\n\u001b[0;32m     37\u001b[0m \u001b[38;5;28mself\u001b[39m\u001b[38;5;241m.\u001b[39mensemble_retriever \u001b[38;5;241m=\u001b[39m \u001b[38;5;28mself\u001b[39m\u001b[38;5;241m.\u001b[39minit_ensemble_retriever(source, config)\n\u001b[0;32m     38\u001b[0m \u001b[38;5;28mself\u001b[39m\u001b[38;5;241m.\u001b[39mchain \u001b[38;5;241m=\u001b[39m \u001b[38;5;28mself\u001b[39m\u001b[38;5;241m.\u001b[39minit_chain()\n",
      "File \u001b[1;32mf:\\LLM_study\\FAISSPipeLine\\utils\\RagPipeline.py:43\u001b[0m, in \u001b[0;36mRagpipeline.init_retriever\u001b[1;34m(self, source, config)\u001b[0m\n\u001b[0;32m     41\u001b[0m \u001b[38;5;28;01mdef\u001b[39;00m \u001b[38;5;21minit_retriever\u001b[39m(\u001b[38;5;28mself\u001b[39m, source, config):\n\u001b[0;32m     42\u001b[0m     \u001b[38;5;66;03m# vector_store = Chroma(persist_directory=source, embedding_function=get_embedding())\u001b[39;00m\n\u001b[1;32m---> 43\u001b[0m     embeddings_model \u001b[38;5;241m=\u001b[39m \u001b[43mget_embedding\u001b[49m\u001b[43m(\u001b[49m\u001b[43m)\u001b[49m\n\u001b[0;32m     44\u001b[0m     vector_store \u001b[38;5;241m=\u001b[39m FAISS\u001b[38;5;241m.\u001b[39mload_local(source, embeddings_model, allow_dangerous_deserialization\u001b[38;5;241m=\u001b[39m\u001b[38;5;28;01mTrue\u001b[39;00m)\n\u001b[0;32m     46\u001b[0m     \u001b[38;5;28;01mif\u001b[39;00m config[\u001b[38;5;124m'\u001b[39m\u001b[38;5;124msearch_type\u001b[39m\u001b[38;5;124m'\u001b[39m]\u001b[38;5;241m==\u001b[39m\u001b[38;5;124m'\u001b[39m\u001b[38;5;124mmmr\u001b[39m\u001b[38;5;124m'\u001b[39m:\n",
      "\u001b[1;31mTypeError\u001b[0m: get_embedding() missing 1 required positional argument: 'config'"
     ]
    }
   ],
   "source": [
    "pipeline = Ragpipeline(f'train_data/{reversed_file_mapping[source]}', config)\n",
    "\n",
    "# 결과를 저장할 리스트 초기화\n",
    "results = []\n",
    "\n",
    "for _, row in tqdm(target_df.iterrows(), total=len(target_df), desc=f\"Answering Questions\"):\n",
    "    # 소스 문자열 정규화\n",
    "    source = normalize_path(row['Source'])\n",
    "    \n",
    "    # 질문 \n",
    "    question = row['Question']\n",
    "    # print(f\"Question: {question}\")\n",
    "    \n",
    "    # 대답\n",
    "    full_response = pipeline.answer_generation(question)\n",
    "    first_line_response = full_response.split(\"\\n\")[0]\n",
    "    # print(f\"Answer: {first_line_response}\")\n",
    "    \n",
    "    # 정답 \n",
    "    # print(f\"GT: {row['Answer']}\\n\")\n",
    "    \n",
    "    # 결과 저장\n",
    "    results.append({\n",
    "        \"Answer\": first_line_response,\n",
    "        \"GT\": row['Answer']\n",
    "    })\n",
    "    \n",
    "# results 리스트를 DataFrame으로 변환\n",
    "df_results = pd.DataFrame(results)\n",
    "pred = df_results['Answer']\n",
    "gt = df_results['GT']\n",
    "\n",
    "f1_score = calculate_average_f1_score(gt, pred)\n",
    "print(f1_score)\n",
    "\n",
    "# 데이터프레임 출력\n",
    "df_results.head()"
   ]
  },
  {
   "cell_type": "code",
   "execution_count": 16,
   "metadata": {},
   "outputs": [
    {
     "name": "stderr",
     "output_type": "stream",
     "text": [
      "Answering Questions: 100%|██████████| 50/50 [06:14<00:00,  7.49s/it]"
     ]
    },
    {
     "name": "stdout",
     "output_type": "stream",
     "text": [
      "{'average_precision': 0.5505237362930605, 'average_recall': 0.6800649599870562, 'average_f1_score': 0.5782879714396393}\n"
     ]
    },
    {
     "name": "stderr",
     "output_type": "stream",
     "text": [
      "\n"
     ]
    },
    {
     "data": {
      "text/html": [
       "<div>\n",
       "<style scoped>\n",
       "    .dataframe tbody tr th:only-of-type {\n",
       "        vertical-align: middle;\n",
       "    }\n",
       "\n",
       "    .dataframe tbody tr th {\n",
       "        vertical-align: top;\n",
       "    }\n",
       "\n",
       "    .dataframe thead th {\n",
       "        text-align: right;\n",
       "    }\n",
       "</style>\n",
       "<table border=\"1\" class=\"dataframe\">\n",
       "  <thead>\n",
       "    <tr style=\"text-align: right;\">\n",
       "      <th></th>\n",
       "      <th>Answer</th>\n",
       "      <th>GT</th>\n",
       "    </tr>\n",
       "  </thead>\n",
       "  <tbody>\n",
       "    <tr>\n",
       "      <th>0</th>\n",
       "      <td>2024년 기준으로 중앙정부 재정체계는 일반회계 1개, 특별회계 21개, 기금 68...</td>\n",
       "      <td>2024년 중앙정부 재정체계는 예산(일반·특별회계)과 기금으로 구분되며, 2024년...</td>\n",
       "    </tr>\n",
       "    <tr>\n",
       "      <th>1</th>\n",
       "      <td>2024년 중앙정부의 예산 총지출은 656.6조원이며, 일반회계는 356.5조원으로...</td>\n",
       "      <td>2024년 중앙정부의 예산 지출은 일반회계 356.5조원, 21개 특별회계 81.7...</td>\n",
       "    </tr>\n",
       "    <tr>\n",
       "      <th>2</th>\n",
       "      <td>기금은 예산과 구분되는 재정 수단으로서, 재정 운영의 신축성을 기할 필요가 있을 때...</td>\n",
       "      <td>기금은 예산과 구분되는 재정수단으로서 재정운영의 신축성을 기할 필요가 있을 때, 정...</td>\n",
       "    </tr>\n",
       "    <tr>\n",
       "      <th>3</th>\n",
       "      <td>일반회계는 중앙정부가 운영하는 일반적인 예산이며, 특별회계는 특정 분야나 목적을 위...</td>\n",
       "      <td>일반회계는 특정 사업 운영 및 특정 세입으로 특정 세출을 충당하는데 사용되고, 특별...</td>\n",
       "    </tr>\n",
       "    <tr>\n",
       "      <th>4</th>\n",
       "      <td>2024년 총수입은 1조 5733억원입니다. 이 중 예산수입은 3565억원이며, 기...</td>\n",
       "      <td>2024년 총수입은 612.2조원이며, 예산수입은 395.5조원, 기금수입은 216...</td>\n",
       "    </tr>\n",
       "  </tbody>\n",
       "</table>\n",
       "</div>"
      ],
      "text/plain": [
       "                                              Answer  \\\n",
       "0  2024년 기준으로 중앙정부 재정체계는 일반회계 1개, 특별회계 21개, 기금 68...   \n",
       "1  2024년 중앙정부의 예산 총지출은 656.6조원이며, 일반회계는 356.5조원으로...   \n",
       "2  기금은 예산과 구분되는 재정 수단으로서, 재정 운영의 신축성을 기할 필요가 있을 때...   \n",
       "3  일반회계는 중앙정부가 운영하는 일반적인 예산이며, 특별회계는 특정 분야나 목적을 위...   \n",
       "4  2024년 총수입은 1조 5733억원입니다. 이 중 예산수입은 3565억원이며, 기...   \n",
       "\n",
       "                                                  GT  \n",
       "0  2024년 중앙정부 재정체계는 예산(일반·특별회계)과 기금으로 구분되며, 2024년...  \n",
       "1  2024년 중앙정부의 예산 지출은 일반회계 356.5조원, 21개 특별회계 81.7...  \n",
       "2  기금은 예산과 구분되는 재정수단으로서 재정운영의 신축성을 기할 필요가 있을 때, 정...  \n",
       "3  일반회계는 특정 사업 운영 및 특정 세입으로 특정 세출을 충당하는데 사용되고, 특별...  \n",
       "4  2024년 총수입은 612.2조원이며, 예산수입은 395.5조원, 기금수입은 216...  "
      ]
     },
     "execution_count": 16,
     "metadata": {},
     "output_type": "execute_result"
    }
   ],
   "source": [
    "config = {\n",
    "    \"llm_predictor\": {\n",
    "        \"model_name\": \"llama3.1\",  \n",
    "        \"temperature\": 0\n",
    "    },\n",
    "    \n",
    "    \"embed_model\": \"intfloat/multilingual-e5-base\",  # \"intfloat/multilingual-e5-small\",\n",
    "    \n",
    "    \"text_split\":{\n",
    "        'chunk_size': 1024,\n",
    "        'chunk_overlap': 64\n",
    "    },\n",
    "    \n",
    "    \"save_data_path\": './train_data',\n",
    "    \n",
    "    \n",
    "    \"search_type\": \"similarity\",           # \"mmr\"  similarity   similarity_score_threshold\n",
    "    'search_kwargs_k': 5,           # 유사도 기반 상위 k개\n",
    "    'search_kwargs_lambda': 0.5,    # 0~1, 0에 가까울수록 다양성, 1에 가까울수록 관련성\n",
    "    'score_threshold': 0.4,         # 0~1, 쿼리 문장과 최소한 0.x 이상의 유사도를 가진 문서만\n",
    "    \n",
    "    'bm25_k' : 3,                   # 검색어 기반 상위 k개\n",
    "    \"ensemble_search_type\": \"mmr\",  # 앙상블 서칭 타입\n",
    "    \"ensemble_weight\": [0.4, 0.6],   # bm25와 vector 가중치\n",
    "    \n",
    "\n",
    "\n",
    "}\n",
    "\n",
    "pipeline = Ragpipeline(f'train_data/{reversed_file_mapping[source]}', config)\n",
    "\n",
    "# 결과를 저장할 리스트 초기화\n",
    "results = []\n",
    "\n",
    "for _, row in tqdm(target_df.iterrows(), total=len(target_df), desc=f\"Answering Questions\"):\n",
    "    # 소스 문자열 정규화\n",
    "    source = normalize_path(row['Source'])\n",
    "    \n",
    "    # 질문 \n",
    "    question = row['Question']\n",
    "    # print(f\"Question: {question}\")\n",
    "    \n",
    "    # 대답\n",
    "    full_response = pipeline.answer_generation(question)\n",
    "    first_line_response = full_response.split(\"\\n\")[0]\n",
    "    # print(f\"Answer: {first_line_response}\")\n",
    "    \n",
    "    # 정답 \n",
    "    # print(f\"GT: {row['Answer']}\\n\")\n",
    "    \n",
    "    # 결과 저장\n",
    "    results.append({\n",
    "        \"Answer\": first_line_response,\n",
    "        \"GT\": row['Answer']\n",
    "    })\n",
    "    \n",
    "# results 리스트를 DataFrame으로 변환\n",
    "df_results = pd.DataFrame(results)\n",
    "pred = df_results['Answer']\n",
    "gt = df_results['GT']\n",
    "\n",
    "f1_score = calculate_average_f1_score(gt, pred)\n",
    "print(f1_score)\n",
    "\n",
    "# 데이터프레임 출력\n",
    "df_results.head()"
   ]
  },
  {
   "cell_type": "code",
   "execution_count": null,
   "metadata": {},
   "outputs": [],
   "source": []
  }
 ],
 "metadata": {
  "kernelspec": {
   "display_name": "final",
   "language": "python",
   "name": "python3"
  },
  "language_info": {
   "codemirror_mode": {
    "name": "ipython",
    "version": 3
   },
   "file_extension": ".py",
   "mimetype": "text/x-python",
   "name": "python",
   "nbconvert_exporter": "python",
   "pygments_lexer": "ipython3",
   "version": "3.11.9"
  }
 },
 "nbformat": 4,
 "nbformat_minor": 2
}
